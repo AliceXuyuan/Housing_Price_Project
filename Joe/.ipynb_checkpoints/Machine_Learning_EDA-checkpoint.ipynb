{
 "cells": [
  {
   "cell_type": "code",
   "execution_count": 3,
   "metadata": {},
   "outputs": [],
   "source": [
    "# Import required libraries\n",
    "import pandas as pd\n",
    "import numpy as np"
   ]
  },
  {
   "cell_type": "code",
   "execution_count": 5,
   "metadata": {},
   "outputs": [],
   "source": [
    "df = pd.read_csv(\"C:/MAIN/NYCDSA/Machine Learning Project/Joe/train.csv\")"
   ]
  },
  {
   "cell_type": "markdown",
   "metadata": {},
   "source": [
    "# Exploratory Variable Analysis\n",
    "Jordan & Joe will analyze the first 40 variables, from \"MSSubClass\", to \"HeatingQC\"\n",
    "Things to keep in mind:\n",
    "* Which variables should we dummify?\n",
    "* How will we handle missing values?  Do we drop the row, impute using the mean, or use kNN?\n",
    "* Do any of the features look skewed?  Should we transform them using Box-Cox, log, sqrt?\n",
    "* Quick correlation plots.  Variables with high corrleation to prices should be prioritized as predictors\n",
    "* How to deal with outliers?\n",
    "* How to deal with multi-collinearity?"
   ]
  },
  {
   "cell_type": "code",
   "execution_count": 6,
   "metadata": {},
   "outputs": [
    {
     "data": {
      "text/plain": [
       "(1460, 81)"
      ]
     },
     "execution_count": 6,
     "metadata": {},
     "output_type": "execute_result"
    }
   ],
   "source": [
    "# We have 80 columns (79 predictors, 1 response variable) and 1,459 observations\n",
    "df.shape"
   ]
  },
  {
   "cell_type": "code",
   "execution_count": 7,
   "metadata": {},
   "outputs": [
    {
     "data": {
      "text/plain": [
       "Index(['Id', 'MSSubClass', 'MSZoning', 'LotFrontage', 'LotArea', 'Street',\n",
       "       'Alley', 'LotShape', 'LandContour', 'Utilities', 'LotConfig',\n",
       "       'LandSlope', 'Neighborhood', 'Condition1', 'Condition2', 'BldgType',\n",
       "       'HouseStyle', 'OverallQual', 'OverallCond', 'YearBuilt', 'YearRemodAdd',\n",
       "       'RoofStyle', 'RoofMatl', 'Exterior1st', 'Exterior2nd', 'MasVnrType',\n",
       "       'MasVnrArea', 'ExterQual', 'ExterCond', 'Foundation', 'BsmtQual',\n",
       "       'BsmtCond', 'BsmtExposure', 'BsmtFinType1', 'BsmtFinSF1',\n",
       "       'BsmtFinType2', 'BsmtFinSF2', 'BsmtUnfSF', 'TotalBsmtSF', 'Heating',\n",
       "       'HeatingQC', 'CentralAir', 'Electrical', '1stFlrSF', '2ndFlrSF',\n",
       "       'LowQualFinSF', 'GrLivArea', 'BsmtFullBath', 'BsmtHalfBath', 'FullBath',\n",
       "       'HalfBath', 'BedroomAbvGr', 'KitchenAbvGr', 'KitchenQual',\n",
       "       'TotRmsAbvGrd', 'Functional', 'Fireplaces', 'FireplaceQu', 'GarageType',\n",
       "       'GarageYrBlt', 'GarageFinish', 'GarageCars', 'GarageArea', 'GarageQual',\n",
       "       'GarageCond', 'PavedDrive', 'WoodDeckSF', 'OpenPorchSF',\n",
       "       'EnclosedPorch', '3SsnPorch', 'ScreenPorch', 'PoolArea', 'PoolQC',\n",
       "       'Fence', 'MiscFeature', 'MiscVal', 'MoSold', 'YrSold', 'SaleType',\n",
       "       'SaleCondition', 'SalePrice'],\n",
       "      dtype='object')"
      ]
     },
     "execution_count": 7,
     "metadata": {},
     "output_type": "execute_result"
    }
   ],
   "source": [
    "df.columns"
   ]
  },
  {
   "cell_type": "code",
   "execution_count": 184,
   "metadata": {},
   "outputs": [],
   "source": [
    "def EDA_categorical(df, series_name):\n",
    "    print(\"Number of missing values: \", df[series_name].isna().sum())\n",
    "    print(\"\")\n",
    "    print(\"Unique values and their frequencies:\")\n",
    "    print(df[series_name].value_counts(sort = True))\n",
    "    print(\"\")\n",
    "    print(\"Mean SalePrice in different groups of\",series_name)\n",
    "    print(df.groupby(series_name)[\"SalePrice\"].mean().sort_values(ascending=False))"
   ]
  },
  {
   "cell_type": "code",
   "execution_count": 66,
   "metadata": {},
   "outputs": [],
   "source": [
    "def EDA_numeric(df, series_name):\n",
    "    print(\"Number of missing values: \", df[series_name].isna().sum())\n",
    "    print(\"\")\n",
    "    print(\"Quantile analysis:\")\n",
    "    print(df[series_name].describe())\n",
    "    print(\"\")\n",
    "    print(\"Correlation with housing prices:\")\n",
    "    print(round(df[series_name].corr(df[\"SalePrice\"]),2))\n",
    "    print(\"May's visual tools for identifying outliers\")\n",
    "    df[series_name].hist()\n",
    "    df.plot.scatter(x=series_name, y ='SalePrice')"
   ]
  },
  {
   "cell_type": "code",
   "execution_count": 67,
   "metadata": {},
   "outputs": [],
   "source": [
    "# Example: if we want to find outliers in \"LotFrontage\", defined by 5 stdev from mean\n",
    "# This will return all such rows where LotFrontage is 5 stdev from the mean\n",
    "def index_of_outliers(df, series_name, stdev_threshold):\n",
    "    mask = np.abs(df[series_name] - df[series_name].mean()) >= (stdev_threshold*df[series_name].std())\n",
    "    return df.index[mask].tolist()"
   ]
  },
  {
   "cell_type": "code",
   "execution_count": 71,
   "metadata": {},
   "outputs": [
    {
     "data": {
      "text/plain": [
       "[197, 231, 313, 807, 909, 934, 1107, 1127, 1182, 1211, 1298, 1337]"
      ]
     },
     "execution_count": 71,
     "metadata": {},
     "output_type": "execute_result"
    }
   ],
   "source": [
    "index_of_outliers(df, \"LotFrontage\", stdev_threshold = 3)"
   ]
  },
  {
   "cell_type": "code",
   "execution_count": null,
   "metadata": {},
   "outputs": [],
   "source": []
  },
  {
   "cell_type": "markdown",
   "metadata": {},
   "source": [
    "# Variable 1: MSSubClass (Identifies the type of dwelling involved in the sale.)"
   ]
  },
  {
   "cell_type": "code",
   "execution_count": 186,
   "metadata": {
    "scrolled": true
   },
   "outputs": [
    {
     "name": "stdout",
     "output_type": "stream",
     "text": [
      "Number of missing values:  0\n",
      "\n",
      "Unique values and their frequencies:\n",
      "20     536\n",
      "60     299\n",
      "50     144\n",
      "120     87\n",
      "30      69\n",
      "160     63\n",
      "70      60\n",
      "80      58\n",
      "90      52\n",
      "190     30\n",
      "85      20\n",
      "75      16\n",
      "45      12\n",
      "180     10\n",
      "40       4\n",
      "Name: MSSubClass, dtype: int64\n",
      "\n",
      "Mean SalePrice in different groups of MSSubClass\n",
      "MSSubClass\n",
      "60     239948.501672\n",
      "120    200779.080460\n",
      "75     192437.500000\n",
      "20     185224.811567\n",
      "80     169736.551724\n",
      "70     166772.416667\n",
      "40     156125.000000\n",
      "85     147810.000000\n",
      "50     143302.972222\n",
      "160    138647.380952\n",
      "90     133541.076923\n",
      "190    129613.333333\n",
      "45     108591.666667\n",
      "180    102300.000000\n",
      "30      95829.724638\n",
      "Name: SalePrice, dtype: float64\n"
     ]
    }
   ],
   "source": [
    "EDA_categorical(df, \"MSSubClass\")"
   ]
  },
  {
   "cell_type": "markdown",
   "metadata": {},
   "source": [
    "### Resolve Conflicts between MSSubClass & HouseStyle"
   ]
  },
  {
   "cell_type": "code",
   "execution_count": 187,
   "metadata": {},
   "outputs": [],
   "source": [
    "# Define two auxiliary functions to help us comb through this data\n",
    "#   to find conflicts between the labels of the columns \"MSSubClass\" and \"HouseStyle\"\n",
    "def HouseStyle_Value_Count_for_MSSubClass(df, MSSubClass_label, description):\n",
    "    print(\"\")\n",
    "    print(\"#\"*75)\n",
    "    print(\"For MSSubClass =\",MSSubClass_label,\"(\",description,\")\",\"\\nThe values & frequencies of HouseStyle are:\")\n",
    "    print(df.loc[df[\"MSSubClass\"]==MSSubClass_label,\"HouseStyle\"].value_counts())\n",
    "    print(\"\")\n",
    "\n",
    "def Find_MSSubClass_HouseStyle_Conflict(df, MSSubClass_label, HouseStyle_label):\n",
    "    rows_with_conflict = (df[\"MSSubClass\"]==MSSubClass_label) & (df[\"HouseStyle\"]==HouseStyle_label)\n",
    "    if (sum(rows_with_conflict) >= 1):\n",
    "        print(\"Grabbing problematic observations where MSSubClass =\",MSSubClass_label,\"but\",\"HouseStyle =\", HouseStyle_label,\"...\")\n",
    "    else:\n",
    "        raise ValueError(\"No rows matching this criterion!\")\n",
    "    return rows_with_conflict"
   ]
  },
  {
   "cell_type": "code",
   "execution_count": 188,
   "metadata": {},
   "outputs": [
    {
     "name": "stdout",
     "output_type": "stream",
     "text": [
      "\n",
      "###########################################################################\n",
      "For MSSubClass = 20 ( 1-STORY 1946 & NEWER ALL STYLES ) \n",
      "The values & frequencies of HouseStyle are:\n",
      "1Story    534\n",
      "2Story      1\n",
      "SLvl        1\n",
      "Name: HouseStyle, dtype: int64\n",
      "\n",
      "Grabbing problematic observations where MSSubClass = 20 but HouseStyle = 2Story ...\n",
      "Grabbing problematic observations where MSSubClass = 20 but HouseStyle = SLvl ...\n",
      "\n",
      "###########################################################################\n",
      "For MSSubClass = 30 ( 1-STORY 1945 & OLDER ) \n",
      "The values & frequencies of HouseStyle are:\n",
      "1Story    67\n",
      "1.5Fin     1\n",
      "1.5Unf     1\n",
      "Name: HouseStyle, dtype: int64\n",
      "\n",
      "Grabbing problematic observations where MSSubClass = 30 but HouseStyle = 1.5Fin ...\n",
      "Grabbing problematic observations where MSSubClass = 30 but HouseStyle = 1.5Unf ...\n",
      "\n",
      "###########################################################################\n",
      "For MSSubClass = 40 ( 1-STORY W/FINISHED ATTIC ALL AGES ) \n",
      "The values & frequencies of HouseStyle are:\n",
      "1Story    4\n",
      "Name: HouseStyle, dtype: int64\n",
      "\n",
      "\n",
      "###########################################################################\n",
      "For MSSubClass = 45 ( 1-1/2 STORY - UNFINISHED ALL AGES ) \n",
      "The values & frequencies of HouseStyle are:\n",
      "1.5Unf    12\n",
      "Name: HouseStyle, dtype: int64\n",
      "\n",
      "\n",
      "###########################################################################\n",
      "For MSSubClass = 50 ( 1-1/2 STORY FINISHED ALL AGES ) \n",
      "The values & frequencies of HouseStyle are:\n",
      "1.5Fin    141\n",
      "2Story      3\n",
      "Name: HouseStyle, dtype: int64\n",
      "\n",
      "Grabbing problematic observations where MSSubClass = 50 but HouseStyle = 2Story ...\n",
      "\n",
      "###########################################################################\n",
      "For MSSubClass = 60 ( 2-STORY 1946 & NEWER ) \n",
      "The values & frequencies of HouseStyle are:\n",
      "2Story    298\n",
      "SLvl        1\n",
      "Name: HouseStyle, dtype: int64\n",
      "\n",
      "Grabbing problematic observations where MSSubClass = 60 but HouseStyle = SLvl ...\n",
      "\n",
      "###########################################################################\n",
      "For MSSubClass = 70 ( 2-STORY 1945 & OLDER ) \n",
      "The values & frequencies of HouseStyle are:\n",
      "2Story    59\n",
      "2.5Fin     1\n",
      "Name: HouseStyle, dtype: int64\n",
      "\n",
      "Grabbing problematic observations where MSSubClass = 70 but HouseStyle = 2.5Fin ...\n",
      "\n",
      "###########################################################################\n",
      "For MSSubClass = 75 ( 2-1/2 STORY ALL AGES ) \n",
      "The values & frequencies of HouseStyle are:\n",
      "2.5Unf    9\n",
      "2.5Fin    6\n",
      "2Story    1\n",
      "Name: HouseStyle, dtype: int64\n",
      "\n",
      "Grabbing problematic observations where MSSubClass = 75 but HouseStyle = 2Story ...\n",
      "\n",
      "###########################################################################\n",
      "For MSSubClass = 80 ( SPLIT OR MULTI-LEVEL ) \n",
      "The values & frequencies of HouseStyle are:\n",
      "SLvl    58\n",
      "Name: HouseStyle, dtype: int64\n",
      "\n",
      "\n",
      "###########################################################################\n",
      "For MSSubClass = 85 ( SPLIT FOYER ) \n",
      "The values & frequencies of HouseStyle are:\n",
      "SFoyer    20\n",
      "Name: HouseStyle, dtype: int64\n",
      "\n",
      "\n",
      "###########################################################################\n",
      "For MSSubClass = 90 ( DUPLEX - ALL STYLES AND AGES ) \n",
      "The values & frequencies of HouseStyle are:\n",
      "1Story    29\n",
      "SFoyer     9\n",
      "2Story     9\n",
      "1.5Fin     4\n",
      "SLvl       1\n",
      "Name: HouseStyle, dtype: int64\n",
      "\n",
      "??? I need to do more research on Duplexes...how many floors should they have???\n",
      "\n",
      "###########################################################################\n",
      "For MSSubClass = 120 ( 1-STORY PUD (Planned Unit Development) - 1946 & NEWER ) \n",
      "The values & frequencies of HouseStyle are:\n",
      "1Story    86\n",
      "SFoyer     1\n",
      "Name: HouseStyle, dtype: int64\n",
      "\n",
      "Grabbing problematic observations where MSSubClass = 120 but HouseStyle = SFoyer ...\n",
      "\n",
      "###########################################################################\n",
      "For MSSubClass = 150 ( 1-1/2 STORY PUD - ALL AGES ) \n",
      "The values & frequencies of HouseStyle are:\n",
      "Series([], Name: HouseStyle, dtype: int64)\n",
      "\n",
      "How many rows have MSSubClass = 150? 0\n",
      "\n",
      "###########################################################################\n",
      "For MSSubClass = 160 ( 2-STORY PUD - 1946 & NEWER ) \n",
      "The values & frequencies of HouseStyle are:\n",
      "2Story    63\n",
      "Name: HouseStyle, dtype: int64\n",
      "\n",
      "\n",
      "###########################################################################\n",
      "For MSSubClass = 180 ( PUD - MULTILEVEL - INCL SPLIT LEV/FOYER ) \n",
      "The values & frequencies of HouseStyle are:\n",
      "SFoyer    7\n",
      "SLvl      3\n",
      "Name: HouseStyle, dtype: int64\n",
      "\n",
      "\n",
      "###########################################################################\n",
      "For MSSubClass = 190 ( 2 FAMILY CONVERSION - ALL STYLES AND AGES ) \n",
      "The values & frequencies of HouseStyle are:\n",
      "2Story    11\n",
      "1.5Fin     8\n",
      "1Story     6\n",
      "2.5Unf     2\n",
      "2.5Fin     1\n",
      "SLvl       1\n",
      "1.5Unf     1\n",
      "Name: HouseStyle, dtype: int64\n",
      "\n",
      "??? I need to do more research on 2-family conversion...what does this mean???\n",
      "Potential solution:\n",
      "(1) Throw out observations with type conflicts found in these boolean masks\n",
      "(2) Then dummify the MSSubClass\n",
      "??? How do we dummify MSSubClass???\n"
     ]
    }
   ],
   "source": [
    "# MSSubClass = 20: 1-STORY 1946 & NEWER ALL STYLES\n",
    "HouseStyle_Value_Count_for_MSSubClass(df, 20, \"1-STORY 1946 & NEWER ALL STYLES\")\n",
    "mask_1 = Find_MSSubClass_HouseStyle_Conflict(df, 20, \"2Story\")\n",
    "mask_2 = Find_MSSubClass_HouseStyle_Conflict(df, 20, \"SLvl\")\n",
    "\n",
    "# MSSubClass = 30: 1-STORY 1945 & OLDER\n",
    "HouseStyle_Value_Count_for_MSSubClass(df, 30, \"1-STORY 1945 & OLDER\")\n",
    "mask_3 = Find_MSSubClass_HouseStyle_Conflict(df, 30, \"1.5Fin\")\n",
    "mask_4 = Find_MSSubClass_HouseStyle_Conflict(df, 30, \"1.5Unf\")\n",
    "\n",
    "# MSSubClass = 40: 1-STORY W/FINISHED ATTIC ALL AGES\n",
    "HouseStyle_Value_Count_for_MSSubClass(df, 40, \"1-STORY W/FINISHED ATTIC ALL AGES\")\n",
    "\n",
    "# MSSubClass = 45: 1-1/2 STORY - UNFINISHED ALL AGES\n",
    "HouseStyle_Value_Count_for_MSSubClass(df, 45, \"1-1/2 STORY - UNFINISHED ALL AGES\")\n",
    "\n",
    "# MSSubClass = 50: 1-1/2 STORY FINISHED ALL AGES\n",
    "HouseStyle_Value_Count_for_MSSubClass(df, 50, \"1-1/2 STORY FINISHED ALL AGES\")\n",
    "mask_5 = Find_MSSubClass_HouseStyle_Conflict(df, 50, \"2Story\")\n",
    "\n",
    "# MSSubClass = 60: 2-STORY 1946 & NEWER\n",
    "HouseStyle_Value_Count_for_MSSubClass(df, 60, \"2-STORY 1946 & NEWER\")\n",
    "mask_6 = Find_MSSubClass_HouseStyle_Conflict(df, 60, \"SLvl\")\n",
    "\n",
    "# MSSubClass = 70: 2-STORY 1945 & OLDER\n",
    "HouseStyle_Value_Count_for_MSSubClass(df, 70, \"2-STORY 1945 & OLDER\")\n",
    "mask_7 = Find_MSSubClass_HouseStyle_Conflict(df, 70, \"2.5Fin\")\n",
    "\n",
    "# MSSubClass = 75: 2-1/2 STORY ALL AGES\n",
    "HouseStyle_Value_Count_for_MSSubClass(df, 75, \"2-1/2 STORY ALL AGES\")\n",
    "mask_8 = Find_MSSubClass_HouseStyle_Conflict(df, 75, \"2Story\")\n",
    "\n",
    "# MSSubClass = 80: SPLIT OR MULTI-LEVEL\n",
    "HouseStyle_Value_Count_for_MSSubClass(df, 80, \"SPLIT OR MULTI-LEVEL\")\n",
    "\n",
    "# MSSubClass = 85: SPLIT FOYER\n",
    "HouseStyle_Value_Count_for_MSSubClass(df, 85, \"SPLIT FOYER\")\n",
    "\n",
    "# MSSubClass = 90: DUPLEX - ALL STYLES AND AGES\n",
    "HouseStyle_Value_Count_for_MSSubClass(df, 90, \"DUPLEX - ALL STYLES AND AGES\")\n",
    "print(\"??? I need to do more research on Duplexes...how many floors should they have???\")\n",
    "\n",
    "# MSSubClass = 120: 1-STORY PUD (Planned Unit Development) - 1946 & NEWER\n",
    "HouseStyle_Value_Count_for_MSSubClass(df, 120, \"1-STORY PUD (Planned Unit Development) - 1946 & NEWER\")\n",
    "mask_9 = Find_MSSubClass_HouseStyle_Conflict(df, 120, \"SFoyer\")\n",
    "\n",
    "# MSSubClass = 150: 1-1/2 STORY PUD - ALL AGES\n",
    "HouseStyle_Value_Count_for_MSSubClass(df, 150, \"1-1/2 STORY PUD - ALL AGES\")\n",
    "print(\"How many rows have MSSubClass = 150?\",sum(df[\"MSSubClass\"] == 150))\n",
    "\n",
    "# MSSubClass = 160: 2-STORY PUD - 1946 & NEWER\n",
    "HouseStyle_Value_Count_for_MSSubClass(df, 160, \"2-STORY PUD - 1946 & NEWER\")\n",
    "\n",
    "# MSSubClass = 180: PUD - MULTILEVEL - INCL SPLIT LEV/FOYER\n",
    "HouseStyle_Value_Count_for_MSSubClass(df, 180, \"PUD - MULTILEVEL - INCL SPLIT LEV/FOYER\")\n",
    "\n",
    "# MSSubClass = 190: 2 FAMILY CONVERSION - ALL STYLES AND AGES\n",
    "HouseStyle_Value_Count_for_MSSubClass(df, 190, \"2 FAMILY CONVERSION - ALL STYLES AND AGES\")\n",
    "print(\"??? I need to do more research on 2-family conversion...what does this mean???\")\n",
    "\n",
    "# We can dummify these types of dwellings, or we can just make dummy variables indicating\n",
    "#   \"Yes, 1946 and newer\" vs. \"No, 1945 and older\" because this information is really important\n",
    "#   But we don't have it for every single type of MSSubClass\n",
    "print(\"Potential solution:\")\n",
    "print(\"(1) Throw out observations with type conflicts found in these boolean masks\")\n",
    "print(\"(2) Then dummify the MSSubClass\")\n",
    "print(\"??? How do we dummify MSSubClass???\")"
   ]
  },
  {
   "cell_type": "markdown",
   "metadata": {},
   "source": [
    "# Variable 2: MSZoning (Identifies the general zoning classification of the sale.)"
   ]
  },
  {
   "cell_type": "code",
   "execution_count": 189,
   "metadata": {},
   "outputs": [
    {
     "name": "stdout",
     "output_type": "stream",
     "text": [
      "Number of missing values:  0\n",
      "\n",
      "Unique values and their frequencies:\n",
      "RL         1151\n",
      "RM          218\n",
      "FV           65\n",
      "RH           16\n",
      "C (all)      10\n",
      "Name: MSZoning, dtype: int64\n",
      "\n",
      "Mean SalePrice in different groups of MSZoning\n",
      "MSZoning\n",
      "FV         214014.061538\n",
      "RL         191004.994787\n",
      "RH         131558.375000\n",
      "RM         126316.830275\n",
      "C (all)     74528.000000\n",
      "Name: SalePrice, dtype: float64\n"
     ]
    }
   ],
   "source": [
    "EDA_categorical(df, \"MSZoning\")"
   ]
  },
  {
   "cell_type": "markdown",
   "metadata": {},
   "source": [
    "# Variable 3: LotFrontage (Linear feet of street connected to property)"
   ]
  },
  {
   "cell_type": "code",
   "execution_count": 13,
   "metadata": {},
   "outputs": [
    {
     "name": "stdout",
     "output_type": "stream",
     "text": [
      "Number of missing values:  259\n",
      "\n",
      "Quantile analysis:\n",
      "count    1201.000000\n",
      "mean       70.049958\n",
      "std        24.284752\n",
      "min        21.000000\n",
      "25%        59.000000\n",
      "50%        69.000000\n",
      "75%        80.000000\n",
      "max       313.000000\n",
      "Name: LotFrontage, dtype: float64\n",
      "\n",
      "Correlation with housing prices:\n",
      "0.35\n"
     ]
    },
    {
     "data": {
      "image/png": "[encoded data removed]",
      "text/plain": [
       "<Figure size 432x288 with 1 Axes>"
      ]
     },
     "metadata": {
      "needs_background": "light"
     },
     "output_type": "display_data"
    },
    {
     "data": {
      "image/png": "[encoded data removed]",
      "text/plain": [
       "<Figure size 432x288 with 1 Axes>"
      ]
     },
     "metadata": {
      "needs_background": "light"
     },
     "output_type": "display_data"
    }
   ],
   "source": [
    "EDA_numeric(df, \"LotFrontage\")"
   ]
  },
  {
   "cell_type": "code",
   "execution_count": 10,
   "metadata": {},
   "outputs": [
    {
     "name": "stdout",
     "output_type": "stream",
     "text": [
      "There is so much data missing: 259 observations missing out of 1,460...\n",
      "??? What should we do with this???\n"
     ]
    }
   ],
   "source": [
    "print(\"There is so much data missing: 259 observations missing out of 1,460...\")\n",
    "print(\"??? What should we do with this???\")"
   ]
  },
  {
   "cell_type": "markdown",
   "metadata": {},
   "source": [
    "# Variable 4: LotArea (Lot size in square feet)"
   ]
  },
  {
   "cell_type": "code",
   "execution_count": 192,
   "metadata": {},
   "outputs": [
    {
     "name": "stdout",
     "output_type": "stream",
     "text": [
      "Number of missing values:  0\n",
      "\n",
      "Quantile analysis:\n",
      "count      1460.000000\n",
      "mean      10516.828082\n",
      "std        9981.264932\n",
      "min        1300.000000\n",
      "25%        7553.500000\n",
      "50%        9478.500000\n",
      "75%       11601.500000\n",
      "max      215245.000000\n",
      "Name: LotArea, dtype: float64\n",
      "\n",
      "Correlation with housing prices:\n",
      "0.26\n"
     ]
    }
   ],
   "source": [
    "EDA_numeric(df, \"LotArea\")"
   ]
  },
  {
   "cell_type": "code",
   "execution_count": 193,
   "metadata": {},
   "outputs": [
    {
     "name": "stdout",
     "output_type": "stream",
     "text": [
      "Correlation of lot area square rooted vs. length of property touching street:\n",
      "0.6\n",
      "\n",
      "??? One thing that we can try is using feature selection like Lasso to decide if we should include LotFrontage, when we already have LotArea???\n"
     ]
    }
   ],
   "source": [
    "# The square root of \"LotArea\" should be highly correlated to \"LotFrontage\"\n",
    "print(\"Correlation of lot area square rooted vs. length of property touching street:\")\n",
    "print(round(df[\"LotFrontage\"].corr(df[\"LotArea\"]**0.5),2))\n",
    "print(\"\")\n",
    "\n",
    "# Maybe we can just drop LotFrontage, then?\n",
    "print(\"??? One thing that we can try is using feature selection like Lasso to decide if we should include LotFrontage, when we already have LotArea???\")"
   ]
  },
  {
   "cell_type": "markdown",
   "metadata": {},
   "source": [
    "# Variable 5: Street (Type of road access to property)"
   ]
  },
  {
   "cell_type": "code",
   "execution_count": 194,
   "metadata": {},
   "outputs": [
    {
     "name": "stdout",
     "output_type": "stream",
     "text": [
      "Number of missing values:  0\n",
      "\n",
      "Unique values and their frequencies:\n",
      "Pave    1454\n",
      "Grvl       6\n",
      "Name: Street, dtype: int64\n",
      "\n",
      "Mean SalePrice in different groups of Street\n",
      "Street\n",
      "Pave    181130.538514\n",
      "Grvl    130190.500000\n",
      "Name: SalePrice, dtype: float64\n"
     ]
    }
   ],
   "source": [
    "EDA_categorical(df, \"Street\")"
   ]
  },
  {
   "cell_type": "code",
   "execution_count": 195,
   "metadata": {
    "scrolled": true
   },
   "outputs": [
    {
     "name": "stdout",
     "output_type": "stream",
     "text": [
      "There are a lot of variables in here with semi-decent predictive power, but if we include all of them, it will cause a lot of issues with multi-collinearity\n",
      "\n",
      "One option is: we can rank the variables based on their correlation to housing prices, and drop the ones with the lowest to start with\n",
      "???\n"
     ]
    }
   ],
   "source": [
    "print(\"There are a lot of variables in here with semi-decent predictive power, but if we include all of them, it will cause a lot of issues with multi-collinearity\")\n",
    "print(\"\")\n",
    "print(\"One option is: we can rank the variables based on their correlation to housing prices, and drop the ones with the lowest to start with\")\n",
    "print(\"???\")"
   ]
  },
  {
   "cell_type": "markdown",
   "metadata": {},
   "source": [
    "# Variable 6: Alley (Type of alley access to property)"
   ]
  },
  {
   "cell_type": "code",
   "execution_count": 196,
   "metadata": {},
   "outputs": [
    {
     "name": "stdout",
     "output_type": "stream",
     "text": [
      "Number of missing values:  1369\n",
      "\n",
      "Unique values and their frequencies:\n",
      "Grvl    50\n",
      "Pave    41\n",
      "Name: Alley, dtype: int64\n",
      "\n",
      "Mean SalePrice in different groups of Alley\n",
      "Alley\n",
      "Pave    168000.585366\n",
      "Grvl    122219.080000\n",
      "Name: SalePrice, dtype: float64\n"
     ]
    }
   ],
   "source": [
    "EDA_categorical(df, \"Alley\")"
   ]
  },
  {
   "cell_type": "code",
   "execution_count": 197,
   "metadata": {},
   "outputs": [
    {
     "name": "stdout",
     "output_type": "stream",
     "text": [
      "1369 out of 1,460 missing...I vote to drop this variable completely\n"
     ]
    }
   ],
   "source": [
    "print(\"1369 out of 1,460 missing...I vote to drop this variable completely\")"
   ]
  },
  {
   "cell_type": "markdown",
   "metadata": {},
   "source": [
    "# Variable 7: LotShape (General shape of property)"
   ]
  },
  {
   "cell_type": "code",
   "execution_count": 198,
   "metadata": {},
   "outputs": [
    {
     "name": "stdout",
     "output_type": "stream",
     "text": [
      "Number of missing values:  0\n",
      "\n",
      "Unique values and their frequencies:\n",
      "Reg    925\n",
      "IR1    484\n",
      "IR2     41\n",
      "IR3     10\n",
      "Name: LotShape, dtype: int64\n",
      "\n",
      "Mean SalePrice in different groups of LotShape\n",
      "LotShape\n",
      "IR2    239833.365854\n",
      "IR3    216036.500000\n",
      "IR1    206101.665289\n",
      "Reg    164754.818378\n",
      "Name: SalePrice, dtype: float64\n"
     ]
    }
   ],
   "source": [
    "EDA_categorical(df, \"LotShape\")"
   ]
  },
  {
   "cell_type": "code",
   "execution_count": 199,
   "metadata": {},
   "outputs": [
    {
     "name": "stdout",
     "output_type": "stream",
     "text": [
      "I don't see a strong reason to include this one...what do you think?\n"
     ]
    }
   ],
   "source": [
    "print(\"I don't see a strong reason to include this one...what do you think?\")"
   ]
  },
  {
   "cell_type": "markdown",
   "metadata": {},
   "source": [
    "# Variable 8: LandContour (Flatness of the property)"
   ]
  },
  {
   "cell_type": "code",
   "execution_count": 200,
   "metadata": {},
   "outputs": [
    {
     "name": "stdout",
     "output_type": "stream",
     "text": [
      "Number of missing values:  0\n",
      "\n",
      "Unique values and their frequencies:\n",
      "Lvl    1311\n",
      "Bnk      63\n",
      "HLS      50\n",
      "Low      36\n",
      "Name: LandContour, dtype: int64\n",
      "\n",
      "Mean SalePrice in different groups of LandContour\n",
      "LandContour\n",
      "HLS    231533.940000\n",
      "Low    203661.111111\n",
      "Lvl    180183.746758\n",
      "Bnk    143104.079365\n",
      "Name: SalePrice, dtype: float64\n"
     ]
    }
   ],
   "source": [
    "EDA_categorical(df, \"LandContour\")"
   ]
  },
  {
   "cell_type": "code",
   "execution_count": 201,
   "metadata": {},
   "outputs": [
    {
     "name": "stdout",
     "output_type": "stream",
     "text": [
      "For variables like this, where we are not missing any values, we can easily dummify them and include them in our model, but the number of variables quickly explodes.  Let's say that we have 50 variables that are categorical, each with 5 different unique numbers, then dummification will produce 250 total features, compared to 1,460 observations, which makes it very hard to invert matrices when finding the normal equation\n"
     ]
    }
   ],
   "source": [
    "print(\"For variables like this, where we are not missing any values, we can easily dummify them and include them in our model, but the number of variables quickly explodes.  Let's say that we have 50 variables that are categorical, each with 5 different unique numbers, then dummification will produce 250 total features, compared to 1,460 observations, which makes it very hard to invert matrices when finding the normal equation\")"
   ]
  },
  {
   "cell_type": "markdown",
   "metadata": {},
   "source": [
    "# Variable 9: Utilities (Type of utilities available)"
   ]
  },
  {
   "cell_type": "code",
   "execution_count": 202,
   "metadata": {},
   "outputs": [
    {
     "name": "stdout",
     "output_type": "stream",
     "text": [
      "Number of missing values:  0\n",
      "\n",
      "Unique values and their frequencies:\n",
      "AllPub    1459\n",
      "NoSeWa       1\n",
      "Name: Utilities, dtype: int64\n",
      "\n",
      "Mean SalePrice in different groups of Utilities\n",
      "Utilities\n",
      "AllPub    180950.95682\n",
      "NoSeWa    137500.00000\n",
      "Name: SalePrice, dtype: float64\n"
     ]
    }
   ],
   "source": [
    "EDA_categorical(df, \"Utilities\")"
   ]
  },
  {
   "cell_type": "code",
   "execution_count": 203,
   "metadata": {},
   "outputs": [
    {
     "name": "stdout",
     "output_type": "stream",
     "text": [
      "Drop variable for sure\n"
     ]
    }
   ],
   "source": [
    "print(\"Drop variable for sure\")"
   ]
  },
  {
   "cell_type": "markdown",
   "metadata": {},
   "source": [
    "# Variable 10: LotConfig (Lot configuration)"
   ]
  },
  {
   "cell_type": "code",
   "execution_count": 204,
   "metadata": {},
   "outputs": [
    {
     "name": "stdout",
     "output_type": "stream",
     "text": [
      "Number of missing values:  0\n",
      "\n",
      "Unique values and their frequencies:\n",
      "Inside     1052\n",
      "Corner      263\n",
      "CulDSac      94\n",
      "FR2          47\n",
      "FR3           4\n",
      "Name: LotConfig, dtype: int64\n",
      "\n",
      "Mean SalePrice in different groups of LotConfig\n",
      "LotConfig\n",
      "CulDSac    223854.617021\n",
      "FR3        208475.000000\n",
      "Corner     181623.425856\n",
      "FR2        177934.574468\n",
      "Inside     176938.047529\n",
      "Name: SalePrice, dtype: float64\n"
     ]
    }
   ],
   "source": [
    "EDA_categorical(df, \"LotConfig\")"
   ]
  },
  {
   "cell_type": "code",
   "execution_count": 205,
   "metadata": {},
   "outputs": [],
   "source": [
    "# I think this is an important feature because usually Cul-de-sac houses are more expensive"
   ]
  },
  {
   "cell_type": "markdown",
   "metadata": {},
   "source": [
    "# Variable 11: LandSlope"
   ]
  },
  {
   "cell_type": "code",
   "execution_count": 206,
   "metadata": {},
   "outputs": [],
   "source": [
    "# Isn't LandContour same thing as LandSlope?  Their correlation is probably very high\n",
    "# Here is a post on correlations between categorical variables:\n",
    "#   https://towardsdatascience.com/the-search-for-categorical-correlation-a1cf7f1888c9\n",
    "# Shall we test here and see if these two are redundant???"
   ]
  },
  {
   "cell_type": "code",
   "execution_count": 207,
   "metadata": {},
   "outputs": [
    {
     "name": "stdout",
     "output_type": "stream",
     "text": [
      "Number of missing values:  0\n",
      "\n",
      "Unique values and their frequencies:\n",
      "Gtl    1382\n",
      "Mod      65\n",
      "Sev      13\n",
      "Name: LandSlope, dtype: int64\n",
      "\n",
      "Mean SalePrice in different groups of LandSlope\n",
      "LandSlope\n",
      "Sev    204379.230769\n",
      "Mod    196734.138462\n",
      "Gtl    179956.799566\n",
      "Name: SalePrice, dtype: float64\n"
     ]
    }
   ],
   "source": [
    "EDA_categorical(df, \"LandSlope\")"
   ]
  },
  {
   "cell_type": "markdown",
   "metadata": {},
   "source": [
    "# Variable 12: Neighborhood (Physical locations within Ames city limits)"
   ]
  },
  {
   "cell_type": "code",
   "execution_count": 208,
   "metadata": {},
   "outputs": [
    {
     "name": "stdout",
     "output_type": "stream",
     "text": [
      "Number of missing values:  0\n",
      "\n",
      "Unique values and their frequencies:\n",
      "NAmes      225\n",
      "CollgCr    150\n",
      "OldTown    113\n",
      "Edwards    100\n",
      "Somerst     86\n",
      "Gilbert     79\n",
      "NridgHt     77\n",
      "Sawyer      74\n",
      "NWAmes      73\n",
      "SawyerW     59\n",
      "BrkSide     58\n",
      "Crawfor     51\n",
      "Mitchel     49\n",
      "NoRidge     41\n",
      "Timber      38\n",
      "IDOTRR      37\n",
      "ClearCr     28\n",
      "StoneBr     25\n",
      "SWISU       25\n",
      "Blmngtn     17\n",
      "MeadowV     17\n",
      "BrDale      16\n",
      "Veenker     11\n",
      "NPkVill      9\n",
      "Blueste      2\n",
      "Name: Neighborhood, dtype: int64\n",
      "\n",
      "Mean SalePrice in different groups of Neighborhood\n",
      "Neighborhood\n",
      "NoRidge    335295.317073\n",
      "NridgHt    316270.623377\n",
      "StoneBr    310499.000000\n",
      "Timber     242247.447368\n",
      "Veenker    238772.727273\n",
      "Somerst    225379.837209\n",
      "ClearCr    212565.428571\n",
      "Crawfor    210624.725490\n",
      "CollgCr    197965.773333\n",
      "Blmngtn    194870.882353\n",
      "Gilbert    192854.506329\n",
      "NWAmes     189050.068493\n",
      "SawyerW    186555.796610\n",
      "Mitchel    156270.122449\n",
      "NAmes      145847.080000\n",
      "NPkVill    142694.444444\n",
      "SWISU      142591.360000\n",
      "Blueste    137500.000000\n",
      "Sawyer     136793.135135\n",
      "OldTown    128225.300885\n",
      "Edwards    128219.700000\n",
      "BrkSide    124834.051724\n",
      "BrDale     104493.750000\n",
      "IDOTRR     100123.783784\n",
      "MeadowV     98576.470588\n",
      "Name: SalePrice, dtype: float64\n"
     ]
    }
   ],
   "source": [
    "EDA_categorical(df, \"Neighborhood\")"
   ]
  },
  {
   "cell_type": "code",
   "execution_count": 209,
   "metadata": {},
   "outputs": [],
   "source": [
    "# I have no doubt that this variable is very important for predicting housing prices"
   ]
  },
  {
   "cell_type": "markdown",
   "metadata": {},
   "source": [
    "# Variable 13: Condition1 (Proximity to various conditions)"
   ]
  },
  {
   "cell_type": "code",
   "execution_count": 210,
   "metadata": {},
   "outputs": [
    {
     "name": "stdout",
     "output_type": "stream",
     "text": [
      "Number of missing values:  0\n",
      "\n",
      "Unique values and their frequencies:\n",
      "Norm      1260\n",
      "Feedr       81\n",
      "Artery      48\n",
      "RRAn        26\n",
      "PosN        19\n",
      "RRAe        11\n",
      "PosA         8\n",
      "RRNn         5\n",
      "RRNe         2\n",
      "Name: Condition1, dtype: int64\n",
      "\n",
      "Mean SalePrice in different groups of Condition1\n",
      "Condition1\n",
      "PosA      225875.000000\n",
      "PosN      215184.210526\n",
      "RRNn      212400.000000\n",
      "RRNe      190750.000000\n",
      "Norm      184495.492063\n",
      "RRAn      184396.615385\n",
      "Feedr     142475.481481\n",
      "RRAe      138400.000000\n",
      "Artery    135091.666667\n",
      "Name: SalePrice, dtype: float64\n"
     ]
    }
   ],
   "source": [
    "EDA_categorical(df, \"Condition1\")"
   ]
  },
  {
   "cell_type": "code",
   "execution_count": 211,
   "metadata": {},
   "outputs": [],
   "source": [
    "# It seems to me like the most common non-normal ones, like \"near Feedr\" depress housing prices"
   ]
  },
  {
   "cell_type": "markdown",
   "metadata": {},
   "source": [
    "# Variable 14: Condition2 (Proximity to various conditions if more than one is present)"
   ]
  },
  {
   "cell_type": "code",
   "execution_count": 212,
   "metadata": {},
   "outputs": [
    {
     "name": "stdout",
     "output_type": "stream",
     "text": [
      "Number of missing values:  0\n",
      "\n",
      "Unique values and their frequencies:\n",
      "Norm      1445\n",
      "Feedr        6\n",
      "PosN         2\n",
      "RRNn         2\n",
      "Artery       2\n",
      "PosA         1\n",
      "RRAn         1\n",
      "RRAe         1\n",
      "Name: Condition2, dtype: int64\n",
      "\n",
      "Mean SalePrice in different groups of Condition2\n",
      "Condition2\n",
      "PosA      325000.000000\n",
      "PosN      284875.000000\n",
      "RRAe      190000.000000\n",
      "Norm      181169.405536\n",
      "RRAn      136905.000000\n",
      "Feedr     121166.666667\n",
      "Artery    106500.000000\n",
      "RRNn       96750.000000\n",
      "Name: SalePrice, dtype: float64\n"
     ]
    }
   ],
   "source": [
    "EDA_categorical(df, \"Condition2\")"
   ]
  },
  {
   "cell_type": "code",
   "execution_count": 213,
   "metadata": {},
   "outputs": [],
   "source": [
    "# I don't really get this variable and it doesn't have a lot of observations in most subclasses"
   ]
  },
  {
   "cell_type": "markdown",
   "metadata": {},
   "source": [
    "# Variable 15: BldgType (Type of dwelling)"
   ]
  },
  {
   "cell_type": "code",
   "execution_count": 214,
   "metadata": {},
   "outputs": [
    {
     "name": "stdout",
     "output_type": "stream",
     "text": [
      "Number of missing values:  0\n",
      "\n",
      "Unique values and their frequencies:\n",
      "1Fam      1220\n",
      "TwnhsE     114\n",
      "Duplex      52\n",
      "Twnhs       43\n",
      "2fmCon      31\n",
      "Name: BldgType, dtype: int64\n",
      "\n",
      "Mean SalePrice in different groups of BldgType\n",
      "BldgType\n",
      "1Fam      185763.807377\n",
      "TwnhsE    181959.342105\n",
      "Twnhs     135911.627907\n",
      "Duplex    133541.076923\n",
      "2fmCon    128432.258065\n",
      "Name: SalePrice, dtype: float64\n"
     ]
    }
   ],
   "source": [
    "EDA_categorical(df, \"BldgType\")"
   ]
  },
  {
   "cell_type": "code",
   "execution_count": 215,
   "metadata": {},
   "outputs": [],
   "source": [
    "# Looks like a useful variable"
   ]
  },
  {
   "cell_type": "markdown",
   "metadata": {},
   "source": [
    "# Variable 16: HouseStyle"
   ]
  },
  {
   "cell_type": "code",
   "execution_count": 216,
   "metadata": {},
   "outputs": [
    {
     "name": "stdout",
     "output_type": "stream",
     "text": [
      "Number of missing values:  0\n",
      "\n",
      "Unique values and their frequencies:\n",
      "1Story    726\n",
      "2Story    445\n",
      "1.5Fin    154\n",
      "SLvl       65\n",
      "SFoyer     37\n",
      "1.5Unf     14\n",
      "2.5Unf     11\n",
      "2.5Fin      8\n",
      "Name: HouseStyle, dtype: int64\n",
      "\n",
      "Mean SalePrice in different groups of HouseStyle\n",
      "HouseStyle\n",
      "2.5Fin    220000.000000\n",
      "2Story    210051.764045\n",
      "1Story    175985.477961\n",
      "SLvl      166703.384615\n",
      "2.5Unf    157354.545455\n",
      "1.5Fin    143116.740260\n",
      "SFoyer    135074.486486\n",
      "1.5Unf    110150.000000\n",
      "Name: SalePrice, dtype: float64\n"
     ]
    }
   ],
   "source": [
    "EDA_categorical(df, \"HouseStyle\")"
   ]
  },
  {
   "cell_type": "code",
   "execution_count": 217,
   "metadata": {},
   "outputs": [],
   "source": [
    "# This variable looks super important"
   ]
  },
  {
   "cell_type": "markdown",
   "metadata": {},
   "source": [
    "# Variable 17: OverallQual (Rates the overall material and finish of the house)"
   ]
  },
  {
   "cell_type": "code",
   "execution_count": 218,
   "metadata": {},
   "outputs": [
    {
     "name": "stdout",
     "output_type": "stream",
     "text": [
      "Number of missing values:  0\n",
      "\n",
      "Quantile analysis:\n",
      "count    1460.000000\n",
      "mean        6.099315\n",
      "std         1.382997\n",
      "min         1.000000\n",
      "25%         5.000000\n",
      "50%         6.000000\n",
      "75%         7.000000\n",
      "max        10.000000\n",
      "Name: OverallQual, dtype: float64\n",
      "\n",
      "Correlation with housing prices:\n",
      "0.79\n"
     ]
    }
   ],
   "source": [
    "EDA_numeric(df, \"OverallQual\")"
   ]
  },
  {
   "cell_type": "code",
   "execution_count": 219,
   "metadata": {},
   "outputs": [],
   "source": [
    "# Very strong correlation.  Absolutely keep this variable"
   ]
  },
  {
   "cell_type": "markdown",
   "metadata": {},
   "source": [
    "# Variable 18: OverallCond (Rates the overall condition of the house)"
   ]
  },
  {
   "cell_type": "code",
   "execution_count": 220,
   "metadata": {},
   "outputs": [
    {
     "name": "stdout",
     "output_type": "stream",
     "text": [
      "Number of missing values:  0\n",
      "\n",
      "Quantile analysis:\n",
      "count    1460.000000\n",
      "mean        5.575342\n",
      "std         1.112799\n",
      "min         1.000000\n",
      "25%         5.000000\n",
      "50%         5.000000\n",
      "75%         6.000000\n",
      "max         9.000000\n",
      "Name: OverallCond, dtype: float64\n",
      "\n",
      "Correlation with housing prices:\n",
      "-0.08\n"
     ]
    }
   ],
   "source": [
    "EDA_numeric(df, \"OverallCond\")"
   ]
  },
  {
   "cell_type": "code",
   "execution_count": 221,
   "metadata": {},
   "outputs": [
    {
     "name": "stdout",
     "output_type": "stream",
     "text": [
      "Number of missing values:  0\n",
      "\n",
      "Unique values and their frequencies:\n",
      "5    821\n",
      "6    252\n",
      "7    205\n",
      "8     72\n",
      "4     57\n",
      "3     25\n",
      "9     22\n",
      "2      5\n",
      "1      1\n",
      "Name: OverallCond, dtype: int64\n",
      "\n",
      "Mean SalePrice in different groups of OverallCond\n",
      "OverallCond\n",
      "9    216004.545455\n",
      "5    203146.914738\n",
      "7    158145.487805\n",
      "8    155651.736111\n",
      "6    153961.591270\n",
      "2    141986.400000\n",
      "4    120438.438596\n",
      "3    101929.400000\n",
      "1     61000.000000\n",
      "Name: SalePrice, dtype: float64\n"
     ]
    }
   ],
   "source": [
    "EDA_categorical(df, \"OverallCond\")"
   ]
  },
  {
   "cell_type": "code",
   "execution_count": 222,
   "metadata": {},
   "outputs": [],
   "source": [
    "# This is very strange...why is this happening?  How can this be so weak?  Do we have outliers???"
   ]
  },
  {
   "cell_type": "markdown",
   "metadata": {},
   "source": [
    "# Variable 19: YearBuilt (Original construction date)"
   ]
  },
  {
   "cell_type": "code",
   "execution_count": 223,
   "metadata": {},
   "outputs": [
    {
     "name": "stdout",
     "output_type": "stream",
     "text": [
      "Number of missing values:  0\n",
      "\n",
      "Quantile analysis:\n",
      "count    1460.000000\n",
      "mean     1971.267808\n",
      "std        30.202904\n",
      "min      1872.000000\n",
      "25%      1954.000000\n",
      "50%      1973.000000\n",
      "75%      2000.000000\n",
      "max      2010.000000\n",
      "Name: YearBuilt, dtype: float64\n",
      "\n",
      "Correlation with housing prices:\n",
      "0.52\n"
     ]
    }
   ],
   "source": [
    "EDA_numeric(df, \"YearBuilt\")"
   ]
  },
  {
   "cell_type": "code",
   "execution_count": 224,
   "metadata": {},
   "outputs": [],
   "source": [
    "# Very strong variable, keep it\n",
    "# Also, we can drop MSSubClass, because MSSubClass has same info as HouseStyle + YearBuilt"
   ]
  },
  {
   "cell_type": "markdown",
   "metadata": {},
   "source": [
    "# Variable 20: YearRemodAdd"
   ]
  },
  {
   "cell_type": "code",
   "execution_count": 225,
   "metadata": {},
   "outputs": [
    {
     "name": "stdout",
     "output_type": "stream",
     "text": [
      "Number of missing values:  0\n",
      "\n",
      "Quantile analysis:\n",
      "count    1460.000000\n",
      "mean     1984.865753\n",
      "std        20.645407\n",
      "min      1950.000000\n",
      "25%      1967.000000\n",
      "50%      1994.000000\n",
      "75%      2004.000000\n",
      "max      2010.000000\n",
      "Name: YearRemodAdd, dtype: float64\n",
      "\n",
      "Correlation with housing prices:\n",
      "0.51\n"
     ]
    }
   ],
   "source": [
    "EDA_numeric(df, \"YearRemodAdd\")"
   ]
  },
  {
   "cell_type": "code",
   "execution_count": 226,
   "metadata": {},
   "outputs": [
    {
     "data": {
      "text/plain": [
       "0.5928549763436504"
      ]
     },
     "execution_count": 226,
     "metadata": {},
     "output_type": "execute_result"
    }
   ],
   "source": [
    "df[\"YearRemodAdd\"].corr(df[\"YearBuilt\"])"
   ]
  },
  {
   "cell_type": "code",
   "execution_count": 227,
   "metadata": {},
   "outputs": [],
   "source": [
    "# Should we include both YearRemodAdd and YearBuilt???"
   ]
  },
  {
   "cell_type": "markdown",
   "metadata": {},
   "source": [
    "# Variable 21: RoofStyle"
   ]
  },
  {
   "cell_type": "code",
   "execution_count": 228,
   "metadata": {},
   "outputs": [
    {
     "name": "stdout",
     "output_type": "stream",
     "text": [
      "Number of missing values:  0\n",
      "\n",
      "Unique values and their frequencies:\n",
      "Gable      1141\n",
      "Hip         286\n",
      "Flat         13\n",
      "Gambrel      11\n",
      "Mansard       7\n",
      "Shed          2\n",
      "Name: RoofStyle, dtype: int64\n",
      "\n",
      "Mean SalePrice in different groups of RoofStyle\n",
      "RoofStyle\n",
      "Shed       225000.000000\n",
      "Hip        218876.933566\n",
      "Flat       194690.000000\n",
      "Mansard    180568.428571\n",
      "Gable      171483.956179\n",
      "Gambrel    148909.090909\n",
      "Name: SalePrice, dtype: float64\n"
     ]
    }
   ],
   "source": [
    "EDA_categorical(df, \"RoofStyle\")"
   ]
  },
  {
   "cell_type": "code",
   "execution_count": 229,
   "metadata": {},
   "outputs": [],
   "source": [
    "# I need more context on this one"
   ]
  },
  {
   "cell_type": "markdown",
   "metadata": {},
   "source": [
    "# Variable 22: RoofMatl"
   ]
  },
  {
   "cell_type": "code",
   "execution_count": 230,
   "metadata": {},
   "outputs": [
    {
     "name": "stdout",
     "output_type": "stream",
     "text": [
      "Number of missing values:  0\n",
      "\n",
      "Unique values and their frequencies:\n",
      "CompShg    1434\n",
      "Tar&Grv      11\n",
      "WdShngl       6\n",
      "WdShake       5\n",
      "ClyTile       1\n",
      "Membran       1\n",
      "Metal         1\n",
      "Roll          1\n",
      "Name: RoofMatl, dtype: int64\n",
      "\n",
      "Mean SalePrice in different groups of RoofMatl\n",
      "RoofMatl\n",
      "WdShngl    390250.000000\n",
      "Membran    241500.000000\n",
      "WdShake    241400.000000\n",
      "Tar&Grv    185406.363636\n",
      "Metal      180000.000000\n",
      "CompShg    179803.679219\n",
      "ClyTile    160000.000000\n",
      "Roll       137000.000000\n",
      "Name: SalePrice, dtype: float64\n"
     ]
    }
   ],
   "source": [
    "EDA_categorical(df, \"RoofMatl\")"
   ]
  },
  {
   "cell_type": "code",
   "execution_count": 231,
   "metadata": {},
   "outputs": [],
   "source": [
    "# Looks like a strong predictor"
   ]
  },
  {
   "cell_type": "markdown",
   "metadata": {},
   "source": [
    "# Variable 23: Exterior1st"
   ]
  },
  {
   "cell_type": "code",
   "execution_count": 232,
   "metadata": {},
   "outputs": [
    {
     "name": "stdout",
     "output_type": "stream",
     "text": [
      "Number of missing values:  0\n",
      "\n",
      "Unique values and their frequencies:\n",
      "VinylSd    515\n",
      "HdBoard    222\n",
      "MetalSd    220\n",
      "Wd Sdng    206\n",
      "Plywood    108\n",
      "CemntBd     61\n",
      "BrkFace     50\n",
      "WdShing     26\n",
      "Stucco      25\n",
      "AsbShng     20\n",
      "BrkComm      2\n",
      "Stone        2\n",
      "CBlock       1\n",
      "ImStucc      1\n",
      "AsphShn      1\n",
      "Name: Exterior1st, dtype: int64\n",
      "\n",
      "Mean SalePrice in different groups of Exterior1st\n",
      "Exterior1st\n",
      "ImStucc    262000.000000\n",
      "Stone      258500.000000\n",
      "CemntBd    231690.655738\n",
      "VinylSd    213732.900971\n",
      "BrkFace    194573.000000\n",
      "Plywood    175942.379630\n",
      "HdBoard    163077.450450\n",
      "Stucco     162990.000000\n",
      "WdShing    150655.076923\n",
      "Wd Sdng    149841.645631\n",
      "MetalSd    149422.177273\n",
      "AsbShng    107385.550000\n",
      "CBlock     105000.000000\n",
      "AsphShn    100000.000000\n",
      "BrkComm     71000.000000\n",
      "Name: SalePrice, dtype: float64\n"
     ]
    }
   ],
   "source": [
    "EDA_categorical(df, \"Exterior1st\")"
   ]
  },
  {
   "cell_type": "markdown",
   "metadata": {},
   "source": [
    "# Variable 24: Exterior2nd"
   ]
  },
  {
   "cell_type": "code",
   "execution_count": 233,
   "metadata": {},
   "outputs": [
    {
     "name": "stdout",
     "output_type": "stream",
     "text": [
      "Number of missing values:  0\n",
      "\n",
      "Unique values and their frequencies:\n",
      "VinylSd    504\n",
      "MetalSd    214\n",
      "HdBoard    207\n",
      "Wd Sdng    197\n",
      "Plywood    142\n",
      "CmentBd     60\n",
      "Wd Shng     38\n",
      "Stucco      26\n",
      "BrkFace     25\n",
      "AsbShng     20\n",
      "ImStucc     10\n",
      "Brk Cmn      7\n",
      "Stone        5\n",
      "AsphShn      3\n",
      "CBlock       1\n",
      "Other        1\n",
      "Name: Exterior2nd, dtype: int64\n",
      "\n",
      "Mean SalePrice in different groups of Exterior2nd\n",
      "Exterior2nd\n",
      "Other      319000.000000\n",
      "ImStucc    252070.000000\n",
      "CmentBd    230093.833333\n",
      "VinylSd    214432.460317\n",
      "BrkFace    195818.000000\n",
      "Plywood    168112.387324\n",
      "HdBoard    167661.565217\n",
      "Wd Shng    161328.947368\n",
      "Stone      158224.800000\n",
      "Stucco     155905.153846\n",
      "MetalSd    149803.172897\n",
      "Wd Sdng    148386.065990\n",
      "AsphShn    138000.000000\n",
      "Brk Cmn    126714.285714\n",
      "AsbShng    114060.550000\n",
      "CBlock     105000.000000\n",
      "Name: SalePrice, dtype: float64\n"
     ]
    }
   ],
   "source": [
    "EDA_categorical(df, \"Exterior2nd\")"
   ]
  },
  {
   "cell_type": "code",
   "execution_count": 242,
   "metadata": {},
   "outputs": [
    {
     "data": {
      "text/html": [
       "<div>\n",
       "<style scoped>\n",
       "    .dataframe tbody tr th:only-of-type {\n",
       "        vertical-align: middle;\n",
       "    }\n",
       "\n",
       "    .dataframe tbody tr th {\n",
       "        vertical-align: top;\n",
       "    }\n",
       "\n",
       "    .dataframe thead th {\n",
       "        text-align: right;\n",
       "    }\n",
       "</style>\n",
       "<table border=\"1\" class=\"dataframe\">\n",
       "  <thead>\n",
       "    <tr style=\"text-align: right;\">\n",
       "      <th></th>\n",
       "      <th>Exterior1st</th>\n",
       "      <th>Exterior2nd</th>\n",
       "    </tr>\n",
       "  </thead>\n",
       "  <tbody>\n",
       "    <tr>\n",
       "      <td>0</td>\n",
       "      <td>VinylSd</td>\n",
       "      <td>VinylSd</td>\n",
       "    </tr>\n",
       "    <tr>\n",
       "      <td>1</td>\n",
       "      <td>MetalSd</td>\n",
       "      <td>MetalSd</td>\n",
       "    </tr>\n",
       "    <tr>\n",
       "      <td>2</td>\n",
       "      <td>VinylSd</td>\n",
       "      <td>VinylSd</td>\n",
       "    </tr>\n",
       "    <tr>\n",
       "      <td>3</td>\n",
       "      <td>Wd Sdng</td>\n",
       "      <td>Wd Shng</td>\n",
       "    </tr>\n",
       "    <tr>\n",
       "      <td>4</td>\n",
       "      <td>VinylSd</td>\n",
       "      <td>VinylSd</td>\n",
       "    </tr>\n",
       "    <tr>\n",
       "      <td>5</td>\n",
       "      <td>VinylSd</td>\n",
       "      <td>VinylSd</td>\n",
       "    </tr>\n",
       "    <tr>\n",
       "      <td>6</td>\n",
       "      <td>VinylSd</td>\n",
       "      <td>VinylSd</td>\n",
       "    </tr>\n",
       "    <tr>\n",
       "      <td>7</td>\n",
       "      <td>HdBoard</td>\n",
       "      <td>HdBoard</td>\n",
       "    </tr>\n",
       "    <tr>\n",
       "      <td>8</td>\n",
       "      <td>BrkFace</td>\n",
       "      <td>Wd Shng</td>\n",
       "    </tr>\n",
       "    <tr>\n",
       "      <td>9</td>\n",
       "      <td>MetalSd</td>\n",
       "      <td>MetalSd</td>\n",
       "    </tr>\n",
       "  </tbody>\n",
       "</table>\n",
       "</div>"
      ],
      "text/plain": [
       "  Exterior1st Exterior2nd\n",
       "0     VinylSd     VinylSd\n",
       "1     MetalSd     MetalSd\n",
       "2     VinylSd     VinylSd\n",
       "3     Wd Sdng     Wd Shng\n",
       "4     VinylSd     VinylSd\n",
       "5     VinylSd     VinylSd\n",
       "6     VinylSd     VinylSd\n",
       "7     HdBoard     HdBoard\n",
       "8     BrkFace     Wd Shng\n",
       "9     MetalSd     MetalSd"
      ]
     },
     "execution_count": 242,
     "metadata": {},
     "output_type": "execute_result"
    }
   ],
   "source": [
    "# How do we deal with the high correlation between these two variables?\n",
    "df[[\"Exterior1st\", \"Exterior2nd\"]].head(n=10)"
   ]
  },
  {
   "cell_type": "markdown",
   "metadata": {},
   "source": [
    "# Variable 25: MasVnrType (Masonry veneer type)"
   ]
  },
  {
   "cell_type": "code",
   "execution_count": 243,
   "metadata": {},
   "outputs": [
    {
     "name": "stdout",
     "output_type": "stream",
     "text": [
      "Number of missing values:  8\n",
      "\n",
      "Unique values and their frequencies:\n",
      "None       864\n",
      "BrkFace    445\n",
      "Stone      128\n",
      "BrkCmn      15\n",
      "Name: MasVnrType, dtype: int64\n",
      "\n",
      "Mean SalePrice in different groups of MasVnrType\n",
      "MasVnrType\n",
      "Stone      265583.625000\n",
      "BrkFace    204691.871910\n",
      "None       156221.891204\n",
      "BrkCmn     146318.066667\n",
      "Name: SalePrice, dtype: float64\n"
     ]
    }
   ],
   "source": [
    "EDA_categorical(df, \"MasVnrType\")"
   ]
  },
  {
   "cell_type": "markdown",
   "metadata": {},
   "source": [
    "# Variable 26: MasVnrArea (Masonry veneer area in square feet)"
   ]
  },
  {
   "cell_type": "code",
   "execution_count": 244,
   "metadata": {},
   "outputs": [
    {
     "name": "stdout",
     "output_type": "stream",
     "text": [
      "Number of missing values:  8\n",
      "\n",
      "Quantile analysis:\n",
      "count    1452.000000\n",
      "mean      103.685262\n",
      "std       181.066207\n",
      "min         0.000000\n",
      "25%         0.000000\n",
      "50%         0.000000\n",
      "75%       166.000000\n",
      "max      1600.000000\n",
      "Name: MasVnrArea, dtype: float64\n",
      "\n",
      "Correlation with housing prices:\n",
      "0.48\n"
     ]
    }
   ],
   "source": [
    "EDA_numeric(df, \"MasVnrArea\")"
   ]
  },
  {
   "cell_type": "code",
   "execution_count": 245,
   "metadata": {},
   "outputs": [
    {
     "data": {
      "text/plain": [
       "0.10415982154021268"
      ]
     },
     "execution_count": 245,
     "metadata": {},
     "output_type": "execute_result"
    }
   ],
   "source": [
    "df[\"MasVnrArea\"].corr(df[\"LotArea\"])"
   ]
  },
  {
   "cell_type": "code",
   "execution_count": null,
   "metadata": {},
   "outputs": [],
   "source": [
    "# We might want to keep this variable as well"
   ]
  },
  {
   "cell_type": "markdown",
   "metadata": {},
   "source": [
    "# Variable 27: ExterQual"
   ]
  },
  {
   "cell_type": "code",
   "execution_count": 246,
   "metadata": {},
   "outputs": [
    {
     "name": "stdout",
     "output_type": "stream",
     "text": [
      "Number of missing values:  0\n",
      "\n",
      "Unique values and their frequencies:\n",
      "TA    906\n",
      "Gd    488\n",
      "Ex     52\n",
      "Fa     14\n",
      "Name: ExterQual, dtype: int64\n",
      "\n",
      "Mean SalePrice in different groups of ExterQual\n",
      "ExterQual\n",
      "Ex    367360.961538\n",
      "Gd    231633.510246\n",
      "TA    144341.313466\n",
      "Fa     87985.214286\n",
      "Name: SalePrice, dtype: float64\n"
     ]
    }
   ],
   "source": [
    "EDA_categorical(df, \"ExterQual\")"
   ]
  },
  {
   "cell_type": "code",
   "execution_count": null,
   "metadata": {},
   "outputs": [],
   "source": [
    "# Very strong predictor"
   ]
  },
  {
   "cell_type": "markdown",
   "metadata": {},
   "source": [
    "# Variable 28: ExterCond"
   ]
  },
  {
   "cell_type": "code",
   "execution_count": 247,
   "metadata": {},
   "outputs": [
    {
     "name": "stdout",
     "output_type": "stream",
     "text": [
      "Number of missing values:  0\n",
      "\n",
      "Unique values and their frequencies:\n",
      "TA    1282\n",
      "Gd     146\n",
      "Fa      28\n",
      "Ex       3\n",
      "Po       1\n",
      "Name: ExterCond, dtype: int64\n",
      "\n",
      "Mean SalePrice in different groups of ExterCond\n",
      "ExterCond\n",
      "Ex    201333.333333\n",
      "TA    184034.896256\n",
      "Gd    168897.568493\n",
      "Fa    102595.142857\n",
      "Po     76500.000000\n",
      "Name: SalePrice, dtype: float64\n"
     ]
    }
   ],
   "source": [
    "EDA_categorical(df, \"ExterCond\")"
   ]
  },
  {
   "cell_type": "code",
   "execution_count": null,
   "metadata": {},
   "outputs": [],
   "source": [
    "# Strong predictor"
   ]
  },
  {
   "cell_type": "markdown",
   "metadata": {},
   "source": [
    "# Variable 29: Foundation"
   ]
  },
  {
   "cell_type": "code",
   "execution_count": 251,
   "metadata": {},
   "outputs": [
    {
     "name": "stdout",
     "output_type": "stream",
     "text": [
      "Number of missing values:  0\n",
      "\n",
      "Unique values and their frequencies:\n",
      "PConc     647\n",
      "CBlock    634\n",
      "BrkTil    146\n",
      "Slab       24\n",
      "Stone       6\n",
      "Wood        3\n",
      "Name: Foundation, dtype: int64\n",
      "\n",
      "Mean SalePrice in different groups of Foundation\n",
      "Foundation\n",
      "PConc     225230.442040\n",
      "Wood      185666.666667\n",
      "Stone     165959.166667\n",
      "CBlock    149805.714511\n",
      "BrkTil    132291.075342\n",
      "Slab      107365.625000\n",
      "Name: SalePrice, dtype: float64\n"
     ]
    }
   ],
   "source": [
    "EDA_categorical(df, \"Foundation\")"
   ]
  },
  {
   "cell_type": "code",
   "execution_count": null,
   "metadata": {},
   "outputs": [],
   "source": [
    "# Strong predictor"
   ]
  },
  {
   "cell_type": "markdown",
   "metadata": {},
   "source": [
    "# Variable 30: BsmtQual (height of basement)"
   ]
  },
  {
   "cell_type": "code",
   "execution_count": 252,
   "metadata": {},
   "outputs": [
    {
     "name": "stdout",
     "output_type": "stream",
     "text": [
      "Number of missing values:  37\n",
      "\n",
      "Unique values and their frequencies:\n",
      "TA    649\n",
      "Gd    618\n",
      "Ex    121\n",
      "Fa     35\n",
      "Name: BsmtQual, dtype: int64\n",
      "\n",
      "Mean SalePrice in different groups of BsmtQual\n",
      "BsmtQual\n",
      "Ex    327041.041322\n",
      "Gd    202688.478964\n",
      "TA    140759.818182\n",
      "Fa    115692.028571\n",
      "Name: SalePrice, dtype: float64\n"
     ]
    }
   ],
   "source": [
    "EDA_categorical(df, \"BsmtQual\")"
   ]
  },
  {
   "cell_type": "code",
   "execution_count": 253,
   "metadata": {},
   "outputs": [],
   "source": [
    "# Strong predictor, and we can convert this into a continuous variable because it is an ordinal categorical variable"
   ]
  },
  {
   "cell_type": "markdown",
   "metadata": {},
   "source": [
    "# Variable 31: BsmtCond (Evaluates the general condition of the basement)"
   ]
  },
  {
   "cell_type": "code",
   "execution_count": 254,
   "metadata": {},
   "outputs": [
    {
     "name": "stdout",
     "output_type": "stream",
     "text": [
      "Number of missing values:  37\n",
      "\n",
      "Unique values and their frequencies:\n",
      "TA    1311\n",
      "Gd      65\n",
      "Fa      45\n",
      "Po       2\n",
      "Name: BsmtCond, dtype: int64\n",
      "\n",
      "Mean SalePrice in different groups of BsmtCond\n",
      "BsmtCond\n",
      "Gd    213599.907692\n",
      "TA    183632.620900\n",
      "Fa    121809.533333\n",
      "Po     64000.000000\n",
      "Name: SalePrice, dtype: float64\n"
     ]
    }
   ],
   "source": [
    "EDA_categorical(df, \"BsmtCond\")"
   ]
  },
  {
   "cell_type": "code",
   "execution_count": null,
   "metadata": {},
   "outputs": [],
   "source": [
    "# Variable should probably be dropped because most are TA, and there are 37 missing variables"
   ]
  },
  {
   "cell_type": "markdown",
   "metadata": {},
   "source": [
    "# Variable 32: BsmtExposure (Refers to walkout or garden level walls)"
   ]
  },
  {
   "cell_type": "code",
   "execution_count": 255,
   "metadata": {},
   "outputs": [
    {
     "name": "stdout",
     "output_type": "stream",
     "text": [
      "Number of missing values:  38\n",
      "\n",
      "Unique values and their frequencies:\n",
      "No    953\n",
      "Av    221\n",
      "Gd    134\n",
      "Mn    114\n",
      "Name: BsmtExposure, dtype: int64\n",
      "\n",
      "Mean SalePrice in different groups of BsmtExposure\n",
      "BsmtExposure\n",
      "Gd    257689.805970\n",
      "Av    206643.420814\n",
      "Mn    192789.657895\n",
      "No    165652.295908\n",
      "Name: SalePrice, dtype: float64\n"
     ]
    }
   ],
   "source": [
    "EDA_categorical(df, \"BsmtExposure\")"
   ]
  },
  {
   "cell_type": "code",
   "execution_count": null,
   "metadata": {},
   "outputs": [],
   "source": [
    "# Strong variable for predictions, but there are 38 missing values.  Should we try to just impute using median of \"No\"?"
   ]
  },
  {
   "cell_type": "markdown",
   "metadata": {},
   "source": [
    "# Variable 33: BsmtFinType1 (Rating of basement finished area)"
   ]
  },
  {
   "cell_type": "code",
   "execution_count": 256,
   "metadata": {},
   "outputs": [
    {
     "name": "stdout",
     "output_type": "stream",
     "text": [
      "Number of missing values:  37\n",
      "\n",
      "Unique values and their frequencies:\n",
      "Unf    430\n",
      "GLQ    418\n",
      "ALQ    220\n",
      "BLQ    148\n",
      "Rec    133\n",
      "LwQ     74\n",
      "Name: BsmtFinType1, dtype: int64\n",
      "\n",
      "Mean SalePrice in different groups of BsmtFinType1\n",
      "BsmtFinType1\n",
      "GLQ    235413.720096\n",
      "Unf    170670.576744\n",
      "ALQ    161573.068182\n",
      "LwQ    151852.702703\n",
      "BLQ    149493.655405\n",
      "Rec    146889.248120\n",
      "Name: SalePrice, dtype: float64\n"
     ]
    }
   ],
   "source": [
    "EDA_categorical(df, \"BsmtFinType1\")"
   ]
  },
  {
   "cell_type": "code",
   "execution_count": null,
   "metadata": {},
   "outputs": [],
   "source": [
    "# Strong predictor.  We can convert this into a continuous variable perhaps"
   ]
  },
  {
   "cell_type": "markdown",
   "metadata": {},
   "source": [
    "# Variable 34: BsmtFinSF1 (Type 1 finished square feet)"
   ]
  },
  {
   "cell_type": "code",
   "execution_count": 257,
   "metadata": {},
   "outputs": [
    {
     "name": "stdout",
     "output_type": "stream",
     "text": [
      "Number of missing values:  0\n",
      "\n",
      "Quantile analysis:\n",
      "count    1460.000000\n",
      "mean      443.639726\n",
      "std       456.098091\n",
      "min         0.000000\n",
      "25%         0.000000\n",
      "50%       383.500000\n",
      "75%       712.250000\n",
      "max      5644.000000\n",
      "Name: BsmtFinSF1, dtype: float64\n",
      "\n",
      "Correlation with housing prices:\n",
      "0.39\n"
     ]
    }
   ],
   "source": [
    "EDA_numeric(df, \"BsmtFinSF1\")"
   ]
  },
  {
   "cell_type": "code",
   "execution_count": 258,
   "metadata": {},
   "outputs": [],
   "source": [
    "# We can include this one, I think"
   ]
  },
  {
   "cell_type": "markdown",
   "metadata": {},
   "source": [
    "# Variable 35: BsmtFinType2 (Rating of basement finished area)"
   ]
  },
  {
   "cell_type": "code",
   "execution_count": 259,
   "metadata": {},
   "outputs": [
    {
     "name": "stdout",
     "output_type": "stream",
     "text": [
      "Number of missing values:  38\n",
      "\n",
      "Unique values and their frequencies:\n",
      "Unf    1256\n",
      "Rec      54\n",
      "LwQ      46\n",
      "BLQ      33\n",
      "ALQ      19\n",
      "GLQ      14\n",
      "Name: BsmtFinType2, dtype: int64\n",
      "\n",
      "Mean SalePrice in different groups of BsmtFinType2\n",
      "BsmtFinType2\n",
      "ALQ    209942.105263\n",
      "Unf    184694.690287\n",
      "GLQ    180982.142857\n",
      "Rec    164917.129630\n",
      "LwQ    164364.130435\n",
      "BLQ    151101.000000\n",
      "Name: SalePrice, dtype: float64\n"
     ]
    }
   ],
   "source": [
    "EDA_categorical(df, \"BsmtFinType2\")"
   ]
  },
  {
   "cell_type": "code",
   "execution_count": null,
   "metadata": {},
   "outputs": [],
   "source": [
    "# Should we drop this?"
   ]
  },
  {
   "cell_type": "markdown",
   "metadata": {},
   "source": [
    "# Variable 36: BsmtFinSF2 (Type 2 finished square feet)"
   ]
  },
  {
   "cell_type": "code",
   "execution_count": 260,
   "metadata": {},
   "outputs": [
    {
     "name": "stdout",
     "output_type": "stream",
     "text": [
      "Number of missing values:  0\n",
      "\n",
      "Quantile analysis:\n",
      "count    1460.000000\n",
      "mean       46.549315\n",
      "std       161.319273\n",
      "min         0.000000\n",
      "25%         0.000000\n",
      "50%         0.000000\n",
      "75%         0.000000\n",
      "max      1474.000000\n",
      "Name: BsmtFinSF2, dtype: float64\n",
      "\n",
      "Correlation with housing prices:\n",
      "-0.01\n"
     ]
    }
   ],
   "source": [
    "EDA_numeric(df, \"BsmtFinSF2\")"
   ]
  },
  {
   "cell_type": "code",
   "execution_count": null,
   "metadata": {},
   "outputs": [],
   "source": [
    "# This should be thrown out because it looks like most observations here are 0"
   ]
  },
  {
   "cell_type": "markdown",
   "metadata": {},
   "source": [
    "# Variable 37: BsmtUnfSF (Unfinished square feet of basement area)"
   ]
  },
  {
   "cell_type": "code",
   "execution_count": 261,
   "metadata": {},
   "outputs": [
    {
     "name": "stdout",
     "output_type": "stream",
     "text": [
      "Number of missing values:  0\n",
      "\n",
      "Quantile analysis:\n",
      "count    1460.000000\n",
      "mean      567.240411\n",
      "std       441.866955\n",
      "min         0.000000\n",
      "25%       223.000000\n",
      "50%       477.500000\n",
      "75%       808.000000\n",
      "max      2336.000000\n",
      "Name: BsmtUnfSF, dtype: float64\n",
      "\n",
      "Correlation with housing prices:\n",
      "0.21\n"
     ]
    }
   ],
   "source": [
    "EDA_numeric(df, \"BsmtUnfSF\")"
   ]
  },
  {
   "cell_type": "code",
   "execution_count": null,
   "metadata": {},
   "outputs": [],
   "source": [
    "# Potentially useful variable, though not very convincing"
   ]
  },
  {
   "cell_type": "markdown",
   "metadata": {},
   "source": [
    "# Variable 38: TotalBsmtSF (Total square feet of basement area)"
   ]
  },
  {
   "cell_type": "code",
   "execution_count": 262,
   "metadata": {},
   "outputs": [
    {
     "name": "stdout",
     "output_type": "stream",
     "text": [
      "Number of missing values:  0\n",
      "\n",
      "Quantile analysis:\n",
      "count    1460.000000\n",
      "mean     1057.429452\n",
      "std       438.705324\n",
      "min         0.000000\n",
      "25%       795.750000\n",
      "50%       991.500000\n",
      "75%      1298.250000\n",
      "max      6110.000000\n",
      "Name: TotalBsmtSF, dtype: float64\n",
      "\n",
      "Correlation with housing prices:\n",
      "0.61\n"
     ]
    }
   ],
   "source": [
    "EDA_numeric(df, \"TotalBsmtSF\")"
   ]
  },
  {
   "cell_type": "code",
   "execution_count": null,
   "metadata": {},
   "outputs": [],
   "source": [
    "# Very strong predictor"
   ]
  },
  {
   "cell_type": "markdown",
   "metadata": {},
   "source": [
    "# Variable 39: Heating (Type of heating)"
   ]
  },
  {
   "cell_type": "code",
   "execution_count": 263,
   "metadata": {},
   "outputs": [
    {
     "name": "stdout",
     "output_type": "stream",
     "text": [
      "Number of missing values:  0\n",
      "\n",
      "Unique values and their frequencies:\n",
      "GasA     1428\n",
      "GasW       18\n",
      "Grav        7\n",
      "Wall        4\n",
      "OthW        2\n",
      "Floor       1\n",
      "Name: Heating, dtype: int64\n",
      "\n",
      "Mean SalePrice in different groups of Heating\n",
      "Heating\n",
      "GasA     182021.195378\n",
      "GasW     166632.166667\n",
      "OthW     125750.000000\n",
      "Wall      92100.000000\n",
      "Grav      75271.428571\n",
      "Floor     72500.000000\n",
      "Name: SalePrice, dtype: float64\n"
     ]
    }
   ],
   "source": [
    "EDA_categorical(df, \"Heating\")"
   ]
  },
  {
   "cell_type": "code",
   "execution_count": null,
   "metadata": {},
   "outputs": [],
   "source": [
    "# Probably not that important, considering 1428 out of 1460 have the same classification"
   ]
  },
  {
   "cell_type": "markdown",
   "metadata": {},
   "source": [
    "# Variable 40: HeatingQC (Heating quality and condition)"
   ]
  },
  {
   "cell_type": "code",
   "execution_count": 264,
   "metadata": {},
   "outputs": [
    {
     "name": "stdout",
     "output_type": "stream",
     "text": [
      "Number of missing values:  0\n",
      "\n",
      "Unique values and their frequencies:\n",
      "Ex    741\n",
      "TA    428\n",
      "Gd    241\n",
      "Fa     49\n",
      "Po      1\n",
      "Name: HeatingQC, dtype: int64\n",
      "\n",
      "Mean SalePrice in different groups of HeatingQC\n",
      "HeatingQC\n",
      "Ex    214914.429150\n",
      "Gd    156858.871369\n",
      "TA    142362.876168\n",
      "Fa    123919.489796\n",
      "Po     87000.000000\n",
      "Name: SalePrice, dtype: float64\n"
     ]
    }
   ],
   "source": [
    "EDA_categorical(df, \"HeatingQC\")"
   ]
  },
  {
   "cell_type": "code",
   "execution_count": null,
   "metadata": {},
   "outputs": [],
   "source": [
    "# Strong predictor, we definitely need this predictor, I think"
   ]
  },
  {
   "cell_type": "code",
   "execution_count": null,
   "metadata": {},
   "outputs": [],
   "source": []
  }
 ],
 "metadata": {
  "kernelspec": {
   "display_name": "Python 3",
   "language": "python",
   "name": "python3"
  },
  "language_info": {
   "codemirror_mode": {
    "name": "ipython",
    "version": 3
   },
   "file_extension": ".py",
   "mimetype": "text/x-python",
   "name": "python",
   "nbconvert_exporter": "python",
   "pygments_lexer": "ipython3",
   "version": "3.7.4"
  }
 },
 "nbformat": 4,
 "nbformat_minor": 2
}
