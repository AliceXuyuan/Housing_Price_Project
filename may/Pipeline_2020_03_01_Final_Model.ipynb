{
 "cells": [
  {
   "cell_type": "markdown",
   "metadata": {},
   "source": [
    "# Step 0 - Read in required libraries and construct helper functions"
   ]
  },
  {
   "cell_type": "markdown",
   "metadata": {},
   "source": [
    "### Import libraries and read from CSV"
   ]
  },
  {
   "cell_type": "code",
   "execution_count": 1,
   "metadata": {},
   "outputs": [],
   "source": [
    "# Import required libraries\n",
    "import pandas as pd\n",
    "import numpy as np\n",
    "import matplotlib.pyplot as plt\n",
    "from sklearn.linear_model import LinearRegression, Ridge, Lasso, ElasticNet, BayesianRidge\n",
    "from sklearn.metrics import mean_squared_error\n",
    "from sklearn.metrics import r2_score\n",
    "import sklearn.model_selection as ms\n",
    "from sklearn.model_selection import KFold\n",
    "from sklearn.model_selection import train_test_split\n",
    "from sklearn.preprocessing import LabelEncoder\n",
    "from sklearn.ensemble import GradientBoostingRegressor\n",
    "from sklearn.model_selection import GridSearchCV\n",
    "from math import sqrt\n",
    "from statistics import mean \n",
    "\n",
    "%matplotlib inline\n",
    "\n",
    "df_train = pd.read_csv(\"train.csv\")\n",
    "df_test = pd.read_csv(\"test.csv\")"
   ]
  },
  {
   "cell_type": "markdown",
   "metadata": {},
   "source": [
    "### Helper functions"
   ]
  },
  {
   "cell_type": "code",
   "execution_count": 2,
   "metadata": {},
   "outputs": [
    {
     "name": "stdout",
     "output_type": "stream",
     "text": [
      "3 observations (rows) dropped from dataframe\n",
      "Dimensions of new dataframe: (1457, 81)\n"
     ]
    }
   ],
   "source": [
    "# Given a list of indices (rows) to drop, this returns a copy of the original df without those rows\n",
    "def remove_rows_from_df(df, list_of_rows_to_drop, printDetails = False):\n",
    "    df_rows_removed = df.drop(df.index[list_of_rows_to_drop])\n",
    "    if printDetails:\n",
    "        print(len(set(list_of_rows_to_drop)),\"observations (rows) dropped from dataframe\")\n",
    "        print(\"Dimensions of new dataframe:\", df_rows_removed.shape)\n",
    "    return df_rows_removed\n",
    "\n",
    "# Example of usage\n",
    "list_of_rows_to_remove = [57, 57, 72, 101]\n",
    "df_with_rows_removed = remove_rows_from_df(df_train, list_of_rows_to_remove, printDetails = True)"
   ]
  },
  {
   "cell_type": "code",
   "execution_count": 3,
   "metadata": {},
   "outputs": [
    {
     "name": "stdout",
     "output_type": "stream",
     "text": [
      "There are 12 outliers in LotFrontage and their indices are:\n",
      "{197, 934, 807, 231, 1127, 1337, 909, 1298, 1107, 313, 1211, 1182}\n",
      "\n",
      "There are 2 outliers in OverallQual and their indices are:\n",
      "{533, 375}\n",
      "\n",
      "Dropping outliers based on 3 standard deviation criteria...\n",
      "14 observations (rows) dropped from dataframe\n",
      "Dimensions of new dataframe: (1446, 81)\n"
     ]
    }
   ],
   "source": [
    "# Input: dataframe, column name, and threshold for determining if observation is outlier in column\n",
    "# Ouput: a set whose elements are the indices (rows) of the outliers in this data frame\n",
    "def indices_of_outliers(df, column_name, stdev_threshold, printDetails = False):\n",
    "    mask_of_outliers = np.abs(df[column_name] - df[column_name].mean()) >= (stdev_threshold*df[column_name].std())\n",
    "    set_of_indices_of_outliers = set(df.index[mask_of_outliers].tolist())\n",
    "    if printDetails:\n",
    "        print(\"There are\",len(set_of_indices_of_outliers),\"outliers in\",column_name,\"and their indices are:\")\n",
    "        print(set_of_indices_of_outliers)\n",
    "    return set_of_indices_of_outliers\n",
    "\n",
    "# \"Vectorized\" version of set_of_outliers and removes all of them from dataframe\n",
    "# Non-mutatable, i.e. - original dataframe is not modified. Returns a new dataframe without outliers\n",
    "def remove_rows_with_outliers(df, list_of_column_names, stdev_threshold, printDetails = False):\n",
    "    set_of_indices_of_all_outliers = set()\n",
    "    for column_name in list_of_column_names:\n",
    "        set_of_indices_of_outliers = indices_of_outliers(df, column_name, stdev_threshold, printDetails)\n",
    "        if printDetails:\n",
    "            print(\"\")\n",
    "        set_of_indices_of_all_outliers = set_of_indices_of_all_outliers.union(set_of_indices_of_outliers)\n",
    "    list_of_indices_to_drop = list(set_of_indices_of_all_outliers)\n",
    "    if printDetails:\n",
    "        print(\"Dropping outliers based on\", stdev_threshold, \"standard deviation criteria...\")\n",
    "    df_without_outliers = remove_rows_from_df(df, list_of_indices_to_drop, printDetails)\n",
    "    return df_without_outliers\n",
    "\n",
    "# Example of usage\n",
    "list_of_column_names = [\"LotFrontage\", \"OverallQual\"]\n",
    "df_without_outliers = remove_rows_with_outliers(df_train, list_of_column_names, stdev_threshold = 3, printDetails = True)"
   ]
  },
  {
   "cell_type": "code",
   "execution_count": 4,
   "metadata": {},
   "outputs": [],
   "source": [
    "# For certain features, NA represents \"None\", i.e. - GarageType = NA -> there is no Garage for this house\n",
    "# Pass in a list of features where you want the NA to be replaced with type \"None\"\n",
    "def replace_NA_with_None(df, series_names, printDetails = False):\n",
    "    \n",
    "    for series_name in series_names:\n",
    "        df.loc[df[series_name].isnull(), series_name] = 'None'\n",
    "        if printDetails:\n",
    "            print('*'*20)\n",
    "            print(df[series_name].value_counts(sort = True))\n",
    "            print('*'*20)\n",
    "            print('')\n",
    "    \n",
    "    return df"
   ]
  },
  {
   "cell_type": "code",
   "execution_count": 5,
   "metadata": {},
   "outputs": [],
   "source": [
    "# For features where we need to impute NA with mode or median\n",
    "def replace_NA_with_imputation(df, printDetails = False):\n",
    "    # For houses without LotFrontage, use the median from that neighborhood\n",
    "    df['LotFrontage'] = df.groupby(['Neighborhood'])['LotFrontage'].transform(lambda x: x.fillna(x.median()))\n",
    "    df['Electrical'] = df['Electrical'].fillna('SBrkr')\n",
    "    df['MasVnrType'] = df.groupby(['Neighborhood'])['MasVnrType'].transform(lambda x: x.fillna(x.mode()[0]))\n",
    "    \n",
    "    # Where there is no MasVnrType, assign the missing values of area to be zero\n",
    "    mask_1 = (df[\"MasVnrType\"] == \"None\") & (df[\"MasVnrArea\"].isna())\n",
    "    df.loc[mask_1, \"MasVnrArea\"]  = 0.0\n",
    "    \n",
    "    # There is 1 house with a \"stone\" type MasVnrType, with no area, so we impute using median area for stone types\n",
    "    df['MasVnrArea'] = df.groupby(['MasVnrType'])['MasVnrArea'].transform(lambda x: x.fillna(x.median()))\n",
    "    \n",
    "    # There is one house in test set that containing missing value in GarageArea, seems like it does not have a Garage\n",
    "    df['GarageArea']= df['GarageArea'].fillna(0)\n",
    "    df['GarageCars']= df['GarageCars'].fillna(0)\n",
    "    \n",
    "    # Only one house has missing value in BsmtSF due to no basement, should fill NA with 0\n",
    "    df['TotalBsmtSF'] = df['TotalBsmtSF'].fillna(0)\n",
    "    df['BsmtFinSF1'] = df['BsmtFinSF1'].fillna(0)\n",
    "    df['BsmtFinSF2'] = df['BsmtFinSF2'].fillna(0)\n",
    "    df['BsmtUnfSF'] = df['BsmtUnfSF'].fillna(0)\n",
    "    \n",
    "    # There are 2 houses that have missing values in basement bathroom due to no basement \n",
    "    df['BsmtFullBath'] = df['BsmtFullBath'].fillna(0)\n",
    "    df['BsmtHalfBath'] = df['BsmtHalfBath'].fillna(0)\n",
    "    df['Exterior1st'] = df.groupby(['RoofMatl'])['Exterior1st'].transform(lambda x: x.fillna(x.mode()[0])) \n",
    "    df['Exterior2nd'] = df.groupby(['RoofMatl'])['Exterior2nd'].transform(lambda x: x.fillna(x.mode()[0])) \n",
    "    df['KitchenQual'] = df.groupby(['OverallCond'])['KitchenQual'].transform(lambda x: x.fillna(x.mode()[0])) # group by Overall Condition\n",
    "    \n",
    "    # 2 houses have missing values in Functional. Both are in poor quality condition and sold as abnormal type. Should not consider it as Functional_typ\n",
    "    df['Functional'] = df['Functional'].fillna('Mod')\n",
    "    \n",
    "    # 4 houses having missing values in MSZoning\n",
    "    df['MSZoning'] = df.groupby(['Neighborhood'])['MSZoning'].transform(lambda x:x.fillna(x.mode()[0]))\n",
    "    df['Utilities'] = df['Utilities'].fillna('AllPub')\n",
    "    df['SaleType'] = df.groupby(['SaleCondition'])['SaleType'].transform(lambda x: x.fillna(x.mode()[0]))\n",
    "    \n",
    "    if printDetails:\n",
    "        print(\"Imputed NA's in:\")\n",
    "        print(\"LotFrontage, Electrical, MasVnrType, GarageArea, GarageCars, TotalBsmtSF, BsmtFinSF1, BsmtFinSF2, BsmtUnfSF, BsmtFullBath, BsmtHalfBath, Exterior1st, Exterior2nd, KitchenQual, Functional, MSZoning, Utilities, SaleType\")\n",
    "    \n",
    "    return df"
   ]
  },
  {
   "cell_type": "code",
   "execution_count": 6,
   "metadata": {},
   "outputs": [],
   "source": [
    "# Create custom features function\n",
    "# The weights were chosen based on which had the highest correlation\n",
    "def create_custom_features(df, printDetails):\n",
    "    \n",
    "    # Create Custom Feature: Adjusted Total Basement Area\n",
    "    df['AdjTotalBsmtSF'] = df['BsmtFinSF1']+df['BsmtFinSF2']+0.9*df['BsmtUnfSF']\n",
    "    \n",
    "    # Create Custom Feature: Adjusted Total Bathroom \n",
    "    df['AdjTotalBath'] = df['FullBath']+df['BsmtFullBath']+0.6*(df['HalfBath']+df['BsmtHalfBath'])\n",
    "    \n",
    "    # Create Custom Feature: HouseAge\n",
    "    df['HouseAge'] = df['YrSold']-(0.6*df['YearRemodAdd']+0.4*df['YearBuilt'])\n",
    "    \n",
    "    # Custom Feature: AdjOutdoorSF\n",
    "    df['AdjOutdoorSF'] = df['3SsnPorch']+df['EnclosedPorch']+df['OpenPorchSF']+df['ScreenPorch']+df['WoodDeckSF']\n",
    "    \n",
    "    # Transform SalePrice to LogSalePrice \n",
    "    df['LogSalePrice'] = np.log(df['SalePrice'])\n",
    "    \n",
    "    if printDetails:\n",
    "        print(\"The weights were chosen based on correlation with SalePrice\")\n",
    "        print(\"df['AdjTotalBsmtSF'] = df['BsmtFinSF1']+df['BsmtFinSF2']+0.9*df['BsmtUnfSF']\")\n",
    "        print(\"df['AdjTotalBath'] = df['FullBath']+df['BsmtFullBath']+0.6*(df['HalfBath']+df['BsmtHalfBath'])\")\n",
    "        print(\"df['HouseAge'] = df['YrSold']-(0.6*df['YearRemodAdd']+0.4*df['YearBuilt'])\")\n",
    "        print(\"df['AdjOutdoorSF'] = df['3SsnPorch']+df['EnclosedPorch']+df['OpenPorchSF']+df['ScreenPorch']+df['WoodDeckSF']\")\n",
    "        print(\"df['LogSalePrice'] = np.log(df['SalePrice'])\")\n",
    "    \n",
    "    return df"
   ]
  },
  {
   "cell_type": "code",
   "execution_count": 7,
   "metadata": {},
   "outputs": [],
   "source": [
    "def dummify_categorical(df, columns):\n",
    "    for col in columns:\n",
    "        # value_counts (sort by frequency)\n",
    "        grouped = df.groupby(col)[[col]].agg('count').rename(columns={col:'count'}).sort_values(by = \"count\", ascending = False)\n",
    "        # dummify all categories\n",
    "        df = pd.get_dummies(df, columns=[col], prefix=col, prefix_sep='_') \n",
    "        # categories with frequency less than 65\n",
    "        columns_to_drop = list(grouped.loc[grouped['count']<145].index)\n",
    "        columns_to_drop = [col + \"_\" + i for i in columns_to_drop]\n",
    "        # drop dummified columns\n",
    "        if len(columns_to_drop) > 0:\n",
    "            df = df.drop(columns = columns_to_drop,axis = 1)\n",
    "        else:\n",
    "            # when all the categories have frequency higher than 70\n",
    "            df = df.drop(col + \"_\" + grouped.index[0], axis=1)\n",
    "    return df"
   ]
  },
  {
   "cell_type": "code",
   "execution_count": 8,
   "metadata": {},
   "outputs": [],
   "source": [
    "def impute_ordinal(df, list_of_dic_to_replace):\n",
    "    for dic in list_of_dic_to_replace:\n",
    "        df = df.replace(dic)\n",
    "    return df"
   ]
  },
  {
   "cell_type": "markdown",
   "metadata": {},
   "source": [
    "# Step 1 - Preview the data, and combine it"
   ]
  },
  {
   "cell_type": "markdown",
   "metadata": {},
   "source": [
    "### Check the dimensions of the dataframes"
   ]
  },
  {
   "cell_type": "code",
   "execution_count": 9,
   "metadata": {},
   "outputs": [
    {
     "name": "stdout",
     "output_type": "stream",
     "text": [
      "Training data set dimensions:  (1460, 81)\n",
      "Testing data set dimensions:  (1459, 80)\n"
     ]
    }
   ],
   "source": [
    "# Check dimensions of the train and test set\n",
    "print(\"Training data set dimensions: \", df_train.shape)\n",
    "print(\"Testing data set dimensions: \", df_test.shape)"
   ]
  },
  {
   "cell_type": "markdown",
   "metadata": {},
   "source": [
    "### Check the columns of the dataframes"
   ]
  },
  {
   "cell_type": "code",
   "execution_count": 10,
   "metadata": {},
   "outputs": [
    {
     "name": "stdout",
     "output_type": "stream",
     "text": [
      "Train df:\n",
      "Index(['Id', 'MSSubClass', 'MSZoning', 'LotFrontage', 'LotArea', 'Street',\n",
      "       'Alley', 'LotShape', 'LandContour', 'Utilities', 'LotConfig',\n",
      "       'LandSlope', 'Neighborhood', 'Condition1', 'Condition2', 'BldgType',\n",
      "       'HouseStyle', 'OverallQual', 'OverallCond', 'YearBuilt', 'YearRemodAdd',\n",
      "       'RoofStyle', 'RoofMatl', 'Exterior1st', 'Exterior2nd', 'MasVnrType',\n",
      "       'MasVnrArea', 'ExterQual', 'ExterCond', 'Foundation', 'BsmtQual',\n",
      "       'BsmtCond', 'BsmtExposure', 'BsmtFinType1', 'BsmtFinSF1',\n",
      "       'BsmtFinType2', 'BsmtFinSF2', 'BsmtUnfSF', 'TotalBsmtSF', 'Heating',\n",
      "       'HeatingQC', 'CentralAir', 'Electrical', '1stFlrSF', '2ndFlrSF',\n",
      "       'LowQualFinSF', 'GrLivArea', 'BsmtFullBath', 'BsmtHalfBath', 'FullBath',\n",
      "       'HalfBath', 'BedroomAbvGr', 'KitchenAbvGr', 'KitchenQual',\n",
      "       'TotRmsAbvGrd', 'Functional', 'Fireplaces', 'FireplaceQu', 'GarageType',\n",
      "       'GarageYrBlt', 'GarageFinish', 'GarageCars', 'GarageArea', 'GarageQual',\n",
      "       'GarageCond', 'PavedDrive', 'WoodDeckSF', 'OpenPorchSF',\n",
      "       'EnclosedPorch', '3SsnPorch', 'ScreenPorch', 'PoolArea', 'PoolQC',\n",
      "       'Fence', 'MiscFeature', 'MiscVal', 'MoSold', 'YrSold', 'SaleType',\n",
      "       'SaleCondition', 'SalePrice'],\n",
      "      dtype='object')\n",
      "\n",
      "Test df: \n",
      "Index(['Id', 'MSSubClass', 'MSZoning', 'LotFrontage', 'LotArea', 'Street',\n",
      "       'Alley', 'LotShape', 'LandContour', 'Utilities', 'LotConfig',\n",
      "       'LandSlope', 'Neighborhood', 'Condition1', 'Condition2', 'BldgType',\n",
      "       'HouseStyle', 'OverallQual', 'OverallCond', 'YearBuilt', 'YearRemodAdd',\n",
      "       'RoofStyle', 'RoofMatl', 'Exterior1st', 'Exterior2nd', 'MasVnrType',\n",
      "       'MasVnrArea', 'ExterQual', 'ExterCond', 'Foundation', 'BsmtQual',\n",
      "       'BsmtCond', 'BsmtExposure', 'BsmtFinType1', 'BsmtFinSF1',\n",
      "       'BsmtFinType2', 'BsmtFinSF2', 'BsmtUnfSF', 'TotalBsmtSF', 'Heating',\n",
      "       'HeatingQC', 'CentralAir', 'Electrical', '1stFlrSF', '2ndFlrSF',\n",
      "       'LowQualFinSF', 'GrLivArea', 'BsmtFullBath', 'BsmtHalfBath', 'FullBath',\n",
      "       'HalfBath', 'BedroomAbvGr', 'KitchenAbvGr', 'KitchenQual',\n",
      "       'TotRmsAbvGrd', 'Functional', 'Fireplaces', 'FireplaceQu', 'GarageType',\n",
      "       'GarageYrBlt', 'GarageFinish', 'GarageCars', 'GarageArea', 'GarageQual',\n",
      "       'GarageCond', 'PavedDrive', 'WoodDeckSF', 'OpenPorchSF',\n",
      "       'EnclosedPorch', '3SsnPorch', 'ScreenPorch', 'PoolArea', 'PoolQC',\n",
      "       'Fence', 'MiscFeature', 'MiscVal', 'MoSold', 'YrSold', 'SaleType',\n",
      "       'SaleCondition'],\n",
      "      dtype='object')\n"
     ]
    }
   ],
   "source": [
    "# Check columns in both data sets\n",
    "print(\"Train df:\")\n",
    "print(df_train.columns)\n",
    "print(\"\")\n",
    "print(\"Test df: \")\n",
    "print(df_test.columns)"
   ]
  },
  {
   "cell_type": "code",
   "execution_count": 11,
   "metadata": {},
   "outputs": [
    {
     "name": "stdout",
     "output_type": "stream",
     "text": [
      "Verify that the only difference in train vs. test columns is: {'SalePrice'}\n"
     ]
    }
   ],
   "source": [
    "# Verify that the only difference in the columns between train vs. test set is the response SalePrice\n",
    "column_difference = set(df_train.columns).difference(set(df_test.columns))\n",
    "print(\"Verify that the only difference in train vs. test columns is:\", column_difference)"
   ]
  },
  {
   "cell_type": "markdown",
   "metadata": {},
   "source": [
    "### Combine the train & test dataframes so that we can engineer features and process NA's just once instead of twice"
   ]
  },
  {
   "cell_type": "code",
   "execution_count": 12,
   "metadata": {},
   "outputs": [],
   "source": [
    "df_combined = df_train.append(df_test,sort = False)"
   ]
  },
  {
   "cell_type": "code",
   "execution_count": 13,
   "metadata": {},
   "outputs": [
    {
     "data": {
      "text/plain": [
       "(2919, 81)"
      ]
     },
     "execution_count": 13,
     "metadata": {},
     "output_type": "execute_result"
    }
   ],
   "source": [
    "df_combined.shape"
   ]
  },
  {
   "cell_type": "markdown",
   "metadata": {},
   "source": [
    "# Step 2 - Handle missing values"
   ]
  },
  {
   "cell_type": "code",
   "execution_count": 14,
   "metadata": {},
   "outputs": [
    {
     "name": "stdout",
     "output_type": "stream",
     "text": [
      "Feature\t\tMissing value count\n",
      "MSZoning           4\n",
      "LotFrontage      486\n",
      "Alley           2721\n",
      "Utilities          2\n",
      "Exterior1st        1\n",
      "Exterior2nd        1\n",
      "MasVnrType        24\n",
      "MasVnrArea        23\n",
      "BsmtQual          81\n",
      "BsmtCond          82\n",
      "BsmtExposure      82\n",
      "BsmtFinType1      79\n",
      "BsmtFinSF1         1\n",
      "BsmtFinType2      80\n",
      "BsmtFinSF2         1\n",
      "BsmtUnfSF          1\n",
      "TotalBsmtSF        1\n",
      "Electrical         1\n",
      "BsmtFullBath       2\n",
      "BsmtHalfBath       2\n",
      "KitchenQual        1\n",
      "Functional         2\n",
      "FireplaceQu     1420\n",
      "GarageType       157\n",
      "GarageYrBlt      159\n",
      "GarageFinish     159\n",
      "GarageCars         1\n",
      "GarageArea         1\n",
      "GarageQual       159\n",
      "GarageCond       159\n",
      "PoolQC          2909\n",
      "Fence           2348\n",
      "MiscFeature     2814\n",
      "SaleType           1\n",
      "SalePrice       1459\n",
      "dtype: int64\n"
     ]
    }
   ],
   "source": [
    "# Check the number of missing values in the original dataframe\n",
    "print(\"Feature\\t\\tMissing value count\")\n",
    "print(df_combined.isnull().sum()[df_combined.isnull().sum()>0])"
   ]
  },
  {
   "cell_type": "code",
   "execution_count": 15,
   "metadata": {},
   "outputs": [],
   "source": [
    "# For these features, we replace the NA with \"None\", i.e. - if Garage is NA, the house doesn't have a garage\n",
    "series_names = ['BsmtExposure','BsmtQual','FireplaceQu','GarageQual','GarageType','GarageYrBlt','GarageFinish',\\\n",
    "                'GarageCond','PoolQC','Fence','MiscFeature','Alley','BsmtCond','BsmtFinType1','BsmtFinType2']\n",
    "\n",
    "df_combined = replace_NA_with_None(df_combined, series_names, printDetails = False)"
   ]
  },
  {
   "cell_type": "code",
   "execution_count": 16,
   "metadata": {},
   "outputs": [
    {
     "name": "stdout",
     "output_type": "stream",
     "text": [
      "Feature\t\tMissing value count\n",
      "MSZoning           4\n",
      "LotFrontage      486\n",
      "Utilities          2\n",
      "Exterior1st        1\n",
      "Exterior2nd        1\n",
      "MasVnrType        24\n",
      "MasVnrArea        23\n",
      "BsmtFinSF1         1\n",
      "BsmtFinSF2         1\n",
      "BsmtUnfSF          1\n",
      "TotalBsmtSF        1\n",
      "Electrical         1\n",
      "BsmtFullBath       2\n",
      "BsmtHalfBath       2\n",
      "KitchenQual        1\n",
      "Functional         2\n",
      "GarageCars         1\n",
      "GarageArea         1\n",
      "SaleType           1\n",
      "SalePrice       1459\n",
      "dtype: int64\n"
     ]
    }
   ],
   "source": [
    "# Check the number of missing values in the original dataframe after processing\n",
    "print(\"Feature\\t\\tMissing value count\")\n",
    "print(df_combined.isnull().sum()[df_combined.isnull().sum()>0])"
   ]
  },
  {
   "cell_type": "code",
   "execution_count": 17,
   "metadata": {},
   "outputs": [
    {
     "name": "stdout",
     "output_type": "stream",
     "text": [
      "Imputed NA's in:\n",
      "LotFrontage, Electrical, MasVnrType, GarageArea, GarageCars, TotalBsmtSF, BsmtFinSF1, BsmtFinSF2, BsmtUnfSF, BsmtFullBath, BsmtHalfBath, Exterior1st, Exterior2nd, KitchenQual, Functional, MSZoning, Utilities, SaleType\n"
     ]
    }
   ],
   "source": [
    "# Replace NAs in other features with mode and median\n",
    "df_combined = replace_NA_with_imputation(df_combined, printDetails = True)"
   ]
  },
  {
   "cell_type": "code",
   "execution_count": 18,
   "metadata": {},
   "outputs": [
    {
     "name": "stdout",
     "output_type": "stream",
     "text": [
      "There are no more NA's in the features now\n",
      "The only missing values are in SalePrice, and only because the test dataframe has no price\n"
     ]
    },
    {
     "data": {
      "text/plain": [
       "SalePrice    1459\n",
       "dtype: int64"
      ]
     },
     "execution_count": 18,
     "metadata": {},
     "output_type": "execute_result"
    }
   ],
   "source": [
    "# Check that we have cleared out all of the NA's in the predictors (features)\n",
    "print(\"There are no more NA's in the features now\")\n",
    "print(\"The only missing values are in SalePrice, and only because the test dataframe has no price\")\n",
    "df_combined.isnull().sum()[df_combined.isnull().sum()>0]"
   ]
  },
  {
   "cell_type": "markdown",
   "metadata": {},
   "source": [
    "# Step 3 - Create customized features"
   ]
  },
  {
   "cell_type": "code",
   "execution_count": 19,
   "metadata": {
    "scrolled": true
   },
   "outputs": [
    {
     "name": "stdout",
     "output_type": "stream",
     "text": [
      "The weights were chosen based on correlation with SalePrice\n",
      "df['AdjTotalBsmtSF'] = df['BsmtFinSF1']+df['BsmtFinSF2']+0.9*df['BsmtUnfSF']\n",
      "df['AdjTotalBath'] = df['FullBath']+df['BsmtFullBath']+0.6*(df['HalfBath']+df['BsmtHalfBath'])\n",
      "df['HouseAge'] = df['YrSold']-(0.6*df['YearRemodAdd']+0.4*df['YearBuilt'])\n",
      "df['AdjOutdoorSF'] = df['3SsnPorch']+df['EnclosedPorch']+df['OpenPorchSF']+df['ScreenPorch']+df['WoodDeckSF']\n",
      "df['LogSalePrice'] = np.log(df['SalePrice'])\n"
     ]
    }
   ],
   "source": [
    "df_combined = create_custom_features(df_combined, printDetails = True)"
   ]
  },
  {
   "cell_type": "code",
   "execution_count": 20,
   "metadata": {},
   "outputs": [
    {
     "data": {
      "text/plain": [
       "(2919, 86)"
      ]
     },
     "execution_count": 20,
     "metadata": {},
     "output_type": "execute_result"
    }
   ],
   "source": [
    "df_combined.shape"
   ]
  },
  {
   "cell_type": "markdown",
   "metadata": {},
   "source": [
    "# Step 4 - Build Linear Models"
   ]
  },
  {
   "cell_type": "markdown",
   "metadata": {},
   "source": [
    "### Dummify categorical"
   ]
  },
  {
   "cell_type": "code",
   "execution_count": 21,
   "metadata": {},
   "outputs": [],
   "source": [
    "list_of_categorical = list(df_combined.select_dtypes(include=[object]).drop([\"BsmtExposure\", \"BsmtQual\", \"ExterQual\", \"FireplaceQu\",\n",
    "                                                  \"KitchenQual\", \"GarageQual\",\"HeatingQC\", \"BsmtCond\",\n",
    "                                                  \"ExterCond\", \"Fence\",\"GarageCond\", \"PoolQC\", \"GarageYrBlt\"\n",
    "                                                 ],axis=1).columns)\n",
    "df_dummified = dummify_categorical(df_combined, list_of_categorical)"
   ]
  },
  {
   "cell_type": "markdown",
   "metadata": {},
   "source": [
    "### Convert ordinal categorical variables to values"
   ]
  },
  {
   "cell_type": "code",
   "execution_count": 22,
   "metadata": {},
   "outputs": [],
   "source": [
    "list_of_dic_to_replace = [\n",
    "    {\"BsmtExposure\": {\"Gd\": 5, \"Av\": 4, \"Mn\": 3, \"No\": 2, \"None\": 0}},\n",
    "    {\"BsmtQual\": {\"Ex\": 7, \"Gd\": 4, \"TA\": 2, \"Fa\": 1, \"Po\": 0, \"None\": 0}},\n",
    "    {\"ExterQual\": {\"Ex\": 5, \"Gd\": 4, \"TA\": 3, \"Fa\": 1}}, # \"Po\": 0\n",
    "    {\"FireplaceQu\": {\"Ex\": 5, \"Gd\": 3, \"TA\": 2.5, \"Fa\": 1.5, \"Po\":0, \"None\": 0.5}},\n",
    "    {\"KitchenQual\": {\"Ex\": 4, \"Gd\": 3, \"TA\": 2, \"Fa\": 1}},    #\"Po\": 0\n",
    "    {\"GarageQual\": {\"Ex\": 5, \"Gd\": 5, \"TA\": 4.5, \"Fa\": 2.5, \"Po\": 1, \"None\": 1}},\n",
    "    {\"HeatingQC\": {\"Ex\": 3, \"Gd\": 2, \"TA\": 1.5, \"Fa\": 1, \"Po\": 0}},\n",
    "    {\"BsmtCond\": {\"Gd\":7, \"TA\":6, \"Fa\": 4,\"None\": 3, \"Po\": 0}},\n",
    "    {\"ExterCond\": {\"Ex\":7, \"TA\":6, \"Gd\": 5,\"Fa\": 2, \"Po\": 0}},\n",
    "    {\"GarageCond\": {\"Ex\":3, \"TA\":6, \"Gd\": 6,\"Fa\": 1, \"Po\": 1, \"None\":0}}\n",
    "]\n",
    "\n",
    "df_ordinal_dummified = impute_ordinal(df_dummified,list_of_dic_to_replace)"
   ]
  },
  {
   "cell_type": "markdown",
   "metadata": {},
   "source": [
    "### Continuous features"
   ]
  },
  {
   "cell_type": "code",
   "execution_count": 23,
   "metadata": {},
   "outputs": [],
   "source": [
    "list_of_continuous_columns = ['AdjTotalBsmtSF', 'GarageArea', 'GrLivArea', 'HouseAge', 'LotArea',\\\n",
    "                              'AdjTotalBath', 'AdjOutdoorSF', 'OverallQual',\\\n",
    "                              'BedroomAbvGr', 'Fireplaces', 'LotFrontage', 'MasVnrArea', \"BsmtUnfSF\",\n",
    "                              \"LowQualFinSF\", \"MiscVal\"]"
   ]
  },
  {
   "cell_type": "markdown",
   "metadata": {},
   "source": [
    "### Combine together continuous, dummified categorical, and ordinal categorical"
   ]
  },
  {
   "cell_type": "code",
   "execution_count": 24,
   "metadata": {},
   "outputs": [],
   "source": [
    "list_of_dummified_categorical = ['MSZoning_RL','MSZoning_RM','Street_Pave','Alley_None','LotShape_IR1','LotShape_Reg',\n",
    " 'LandContour_Lvl', 'Utilities_AllPub', 'LotConfig_Corner', 'LotConfig_CulDSac', 'LotConfig_Inside', 'LandSlope_Gtl',\n",
    " 'Neighborhood_CollgCr','Neighborhood_Edwards','Neighborhood_Gilbert','Neighborhood_NAmes','Neighborhood_NridgHt',\n",
    " 'Neighborhood_OldTown','Neighborhood_Sawyer', 'Neighborhood_Somerst', 'Condition1_Feedr','Condition1_Norm',\n",
    " 'Condition2_Norm','BldgType_1Fam','BldgType_TwnhsE','HouseStyle_1.5Fin','HouseStyle_1Story','HouseStyle_2Story',\n",
    " 'RoofStyle_Gable','RoofStyle_Hip','RoofMatl_CompShg','Exterior1st_HdBoard','Exterior1st_MetalSd','Exterior1st_Plywood',\n",
    " 'Exterior1st_VinylSd','Exterior1st_Wd Sdng','Exterior2nd_HdBoard', 'Exterior2nd_MetalSd', 'Exterior2nd_Plywood',\n",
    " 'Exterior2nd_VinylSd','Exterior2nd_Wd Sdng','MasVnrType_BrkFace','MasVnrType_None','MasVnrType_Stone',\n",
    " 'Foundation_BrkTil','Foundation_CBlock','Foundation_PConc','BsmtFinType1_ALQ','BsmtFinType1_BLQ','BsmtFinType1_GLQ',\n",
    " 'BsmtFinType1_LwQ','BsmtFinType1_Rec','BsmtFinType1_Unf','BsmtFinType2_Unf','Heating_GasA','CentralAir_N',\n",
    " 'Electrical_FuseA','Electrical_SBrkr','Functional_Typ','GarageType_Attchd','GarageType_BuiltIn','GarageType_Detchd',\n",
    " 'GarageType_None','GarageFinish_Fin','GarageFinish_None','GarageFinish_RFn','PavedDrive_N','PavedDrive_Y',\n",
    " 'MiscFeature_None','SaleType_New','SaleType_WD','SaleCondition_Abnorml','SaleCondition_Normal',\n",
    " 'SaleCondition_Partial']"
   ]
  },
  {
   "cell_type": "code",
   "execution_count": 25,
   "metadata": {},
   "outputs": [],
   "source": [
    "list_of_ordinal_categorical = ['BsmtExposure', 'BsmtQual', 'ExterQual', 'FireplaceQu', 'GarageQual',\\\n",
    "'HeatingQC', 'KitchenQual', \"BsmtCond\", \"ExterCond\", \"GarageCond\"] "
   ]
  },
  {
   "cell_type": "code",
   "execution_count": 26,
   "metadata": {},
   "outputs": [],
   "source": [
    "list_of_predictors = list_of_continuous_columns + list_of_dummified_categorical + list_of_ordinal_categorical "
   ]
  },
  {
   "cell_type": "code",
   "execution_count": 27,
   "metadata": {},
   "outputs": [
    {
     "data": {
      "text/plain": [
       "99"
      ]
     },
     "execution_count": 27,
     "metadata": {},
     "output_type": "execute_result"
    }
   ],
   "source": [
    "len(list_of_predictors)"
   ]
  },
  {
   "cell_type": "markdown",
   "metadata": {},
   "source": [
    "### Split Train and Test Data"
   ]
  },
  {
   "cell_type": "code",
   "execution_count": 28,
   "metadata": {},
   "outputs": [],
   "source": [
    "df_train = df_ordinal_dummified.iloc[:1460,]\n",
    "df_test = df_ordinal_dummified.iloc[1460:,]"
   ]
  },
  {
   "cell_type": "markdown",
   "metadata": {},
   "source": [
    "### Remove outliers for Train dataset using standard deviation"
   ]
  },
  {
   "cell_type": "code",
   "execution_count": 29,
   "metadata": {},
   "outputs": [],
   "source": [
    "df_without_outliers = remove_rows_with_outliers(df_train, list_of_continuous_columns, stdev_threshold = 5)\n",
    "# around 100 rows removed"
   ]
  },
  {
   "cell_type": "markdown",
   "metadata": {},
   "source": [
    "### Checking Multicollinearity"
   ]
  },
  {
   "cell_type": "code",
   "execution_count": 30,
   "metadata": {},
   "outputs": [
    {
     "name": "stderr",
     "output_type": "stream",
     "text": [
      "C:\\Users\\zhang\\Anaconda3\\lib\\site-packages\\numpy\\core\\fromnumeric.py:2542: FutureWarning: Method .ptp is deprecated and will be removed in a future version. Use numpy.ptp instead.\n",
      "  return ptp(axis=axis, out=out, **kwargs)\n"
     ]
    },
    {
     "data": {
      "text/plain": [
       "const             77.344146\n",
       "AdjTotalBsmtSF     1.927784\n",
       "GarageArea         1.855823\n",
       "GrLivArea          3.591806\n",
       "HouseAge           2.297718\n",
       "LotArea            1.479966\n",
       "AdjTotalBath       2.822233\n",
       "AdjOutdoorSF       1.251750\n",
       "OverallQual        2.947152\n",
       "BedroomAbvGr       1.738915\n",
       "Fireplaces         1.434320\n",
       "LotFrontage        1.425895\n",
       "MasVnrArea         1.318286\n",
       "BsmtUnfSF          1.680152\n",
       "LowQualFinSF       1.023394\n",
       "MiscVal            1.012163\n",
       "dtype: float64"
      ]
     },
     "execution_count": 30,
     "metadata": {},
     "output_type": "execute_result"
    }
   ],
   "source": [
    "# Method: Using VIF to check multicollinearity\n",
    "from statsmodels.stats.outliers_influence import variance_inflation_factor\n",
    "from statsmodels.tools.tools import add_constant\n",
    "VIF = add_constant(df_without_outliers.loc[:,list_of_continuous_columns])\n",
    "pd.Series([variance_inflation_factor(VIF.values, i) \n",
    "               for i in range(VIF.shape[1])], \n",
    "              index=VIF.columns)"
   ]
  },
  {
   "cell_type": "markdown",
   "metadata": {},
   "source": [
    "### Feature Selection using Lasso"
   ]
  },
  {
   "cell_type": "code",
   "execution_count": 31,
   "metadata": {},
   "outputs": [],
   "source": [
    "X = df_without_outliers[list_of_predictors]\n",
    "Y = df_without_outliers['LogSalePrice'].values"
   ]
  },
  {
   "cell_type": "code",
   "execution_count": 32,
   "metadata": {},
   "outputs": [],
   "source": [
    "lasso_FS = Lasso(normalize=True, max_iter = 10000)\n",
    "alpha_FS = np.logspace(-9, -2, 100)\n",
    "\n",
    "alpha_coefs = []\n",
    "for alpha in alpha_FS:\n",
    "    lasso_FS.set_params(alpha=alpha)\n",
    "    lasso_FS.fit(X, Y)\n",
    "    alpha_coefs.append(lasso_FS.coef_)\n",
    "\n",
    "# the order of predictors to become zero coefficient\n",
    "coefs_df = pd.DataFrame(alpha_coefs, index=alpha_FS, columns = list_of_predictors)"
   ]
  },
  {
   "cell_type": "code",
   "execution_count": 33,
   "metadata": {},
   "outputs": [
    {
     "data": {
      "text/plain": [
       "Text(0, 0.5, 'slope values')"
      ]
     },
     "execution_count": 33,
     "metadata": {},
     "output_type": "execute_result"
    },
    {
     "data": {
      "image/png": "[encoded data removed]",
      "text/plain": [
       "<Figure size 1440x720 with 1 Axes>"
      ]
     },
     "metadata": {
      "needs_background": "light"
     },
     "output_type": "display_data"
    }
   ],
   "source": [
    "# feature selection graph\n",
    "plt.figure(figsize=(20,10))\n",
    "for name in coefs_df.columns:\n",
    "    plt.plot(coefs_df.index, coefs_df[name], label=name)\n",
    "plt.xlabel(r'hyperparameter $\\lambda$')\n",
    "plt.ylabel(r'slope values')\n",
    "# plt.legend(loc=1)"
   ]
  },
  {
   "cell_type": "code",
   "execution_count": 34,
   "metadata": {},
   "outputs": [],
   "source": [
    "### find the alpha where coefficient becomes zero ###\n",
    "alpha_zero = {}\n",
    "for col in coefs_df.columns:\n",
    "    for alpha in coefs_df.index:\n",
    "        if coefs_df.loc[alpha, col] == 0:\n",
    "            alpha_zero[col] = alpha\n",
    "            break\n",
    "alpha_zero = sorted(alpha_zero.items(), key=lambda x: x[1], reverse=True)"
   ]
  },
  {
   "cell_type": "code",
   "execution_count": 35,
   "metadata": {},
   "outputs": [],
   "source": [
    "# the top features selected by Lasso\n",
    "top_features = [item[0] for item in alpha_zero[:60]]"
   ]
  },
  {
   "cell_type": "markdown",
   "metadata": {},
   "source": [
    "### Build Lasso Model"
   ]
  },
  {
   "cell_type": "code",
   "execution_count": 36,
   "metadata": {},
   "outputs": [],
   "source": [
    "# using lasso selected features only\n",
    "X_after_FS = X[top_features].values\n",
    "\n",
    "# split the training data into 80% and 20%\n",
    "X_train, X_test, y_train, y_test = ms.train_test_split(X_after_FS, Y, train_size=0.8, test_size=0.2, random_state=42)"
   ]
  },
  {
   "cell_type": "code",
   "execution_count": 37,
   "metadata": {},
   "outputs": [],
   "source": [
    "# Cross Validation to find the best alpha\n",
    "\n",
    "alphas_lasso = np.logspace(-9, -3.5, 100)\n",
    "lasso = Lasso(normalize=True)\n",
    "\n",
    "dic = {}\n",
    "for alpha in alphas_lasso:\n",
    "    lasso.set_params(alpha=alpha)\n",
    "    rmse = np.sqrt(-ms.cross_val_score(lasso, X_train, y_train, \n",
    "                      scoring=\"neg_mean_squared_error\",cv = 5))\n",
    "    dic[alpha] = mean(rmse)\n",
    "\n",
    "# rmse for different alpha\n",
    "alpha_rmse = pd.DataFrame.from_dict(dic, orient='index', columns = ['RMSE']).reset_index()"
   ]
  },
  {
   "cell_type": "code",
   "execution_count": 38,
   "metadata": {},
   "outputs": [
    {
     "data": {
      "text/plain": [
       "Text(0, 0.5, 'RMSE')"
      ]
     },
     "execution_count": 38,
     "metadata": {},
     "output_type": "execute_result"
    },
    {
     "data": {
      "image/png": "[encoded data removed]",
      "text/plain": [
       "<Figure size 432x288 with 1 Axes>"
      ]
     },
     "metadata": {
      "needs_background": "light"
     },
     "output_type": "display_data"
    }
   ],
   "source": [
    "alpha_rmse.plot(x = \"index\", y = \"RMSE\")\n",
    "plt.xlabel(\"Alpha\")\n",
    "plt.ylabel(\"RMSE\")"
   ]
  },
  {
   "cell_type": "code",
   "execution_count": 39,
   "metadata": {},
   "outputs": [],
   "source": [
    "alpha_optimal = alpha_rmse.sort_values(by='RMSE').iloc[0,0]"
   ]
  },
  {
   "cell_type": "markdown",
   "metadata": {},
   "source": [
    "### Which houses (observations) are wildy mispredicted by our Lasso?  Show outliers"
   ]
  },
  {
   "cell_type": "code",
   "execution_count": 40,
   "metadata": {},
   "outputs": [],
   "source": [
    "# Use previous optimal alpha to fit train 80% data set\n",
    "lasso_2 = Lasso(normalize = True, alpha = alpha_optimal)\n",
    "lasso_2.fit(X_train,y_train)\n",
    "Y_predicted = lasso_2.predict(X_train)\n",
    "residuals = y_train - Y_predicted"
   ]
  },
  {
   "cell_type": "code",
   "execution_count": 41,
   "metadata": {},
   "outputs": [
    {
     "data": {
      "text/plain": [
       "[<matplotlib.lines.Line2D at 0x23b69a24ec8>]"
      ]
     },
     "execution_count": 41,
     "metadata": {},
     "output_type": "execute_result"
    },
    {
     "data": {
      "image/png": "[encoded data removed]",
      "text/plain": [
       "<Figure size 576x360 with 1 Axes>"
      ]
     },
     "metadata": {
      "needs_background": "light"
     },
     "output_type": "display_data"
    }
   ],
   "source": [
    "plt.figure(figsize=(8,5))\n",
    "plt.ylabel(\"Residuals\")\n",
    "plt.xlabel(\"Observations\")\n",
    "plt.plot(residuals)"
   ]
  },
  {
   "cell_type": "code",
   "execution_count": 42,
   "metadata": {},
   "outputs": [],
   "source": [
    "# indices of outliers\n",
    "import itertools\n",
    "indices_of_residual_outliers_under = list(itertools.chain(*np.argwhere(residuals>0.5).tolist()))\n",
    "indices_of_residual_outliers_over = list(itertools.chain(*np.argwhere(residuals<-0.5).tolist()))"
   ]
  },
  {
   "cell_type": "code",
   "execution_count": 43,
   "metadata": {},
   "outputs": [
    {
     "data": {
      "text/plain": [
       "[392, 438, 606, 625, 662]"
      ]
     },
     "execution_count": 43,
     "metadata": {},
     "output_type": "execute_result"
    }
   ],
   "source": [
    "# indices of outliers\n",
    "outliers_indices = indices_of_residual_outliers_under + indices_of_residual_outliers_over\n",
    "outliers_indices"
   ]
  },
  {
   "cell_type": "markdown",
   "metadata": {},
   "source": [
    "### Remove outliers and do cross validation again"
   ]
  },
  {
   "cell_type": "code",
   "execution_count": 44,
   "metadata": {},
   "outputs": [],
   "source": [
    "X_train_no_outliers = pd.DataFrame(X_train).drop(outliers_indices)\n",
    "y_train_no_outliers = pd.DataFrame(y_train).drop(outliers_indices).values.flatten() # convert it back to 1D array"
   ]
  },
  {
   "cell_type": "code",
   "execution_count": 45,
   "metadata": {},
   "outputs": [],
   "source": [
    "# cross validation to find the best alpha\n",
    "alphas_lasso_2 = np.logspace(-9, -4, 100)\n",
    "lasso_2 = Lasso(normalize=True)\n",
    "\n",
    "dic_2 = {}\n",
    "for alpha in alphas_lasso_2:\n",
    "    lasso_2.set_params(alpha=alpha)\n",
    "    rmse_2 = np.sqrt(-ms.cross_val_score(lasso_2, X_train_no_outliers, y_train_no_outliers, \n",
    "                      scoring=\"neg_mean_squared_error\",cv = 5))\n",
    "    dic_2[alpha] = mean(rmse_2)\n",
    "\n",
    "# rmse for different alpha\n",
    "alpha_rmse_2 = pd.DataFrame.from_dict(dic_2, orient='index', columns = ['RMSE']).reset_index()"
   ]
  },
  {
   "cell_type": "code",
   "execution_count": 46,
   "metadata": {},
   "outputs": [
    {
     "data": {
      "text/plain": [
       "Text(0, 0.5, 'RMSE')"
      ]
     },
     "execution_count": 46,
     "metadata": {},
     "output_type": "execute_result"
    },
    {
     "data": {
      "image/png": "[encoded data removed]",
      "text/plain": [
       "<Figure size 432x288 with 1 Axes>"
      ]
     },
     "metadata": {
      "needs_background": "light"
     },
     "output_type": "display_data"
    }
   ],
   "source": [
    "alpha_rmse_2.plot(x = \"index\", y = \"RMSE\")\n",
    "plt.xlabel(\"Alpha\")\n",
    "plt.ylabel(\"RMSE\")"
   ]
  },
  {
   "cell_type": "code",
   "execution_count": 47,
   "metadata": {},
   "outputs": [],
   "source": [
    "alpha_optimal_2 = alpha_rmse_2.sort_values(by='RMSE').iloc[0,0]"
   ]
  },
  {
   "cell_type": "markdown",
   "metadata": {},
   "source": [
    "### Use the optimal alpha to fit 80% of Train data"
   ]
  },
  {
   "cell_type": "code",
   "execution_count": 48,
   "metadata": {},
   "outputs": [
    {
     "name": "stdout",
     "output_type": "stream",
     "text": [
      "RMSE for train data is: 0.10264835 using optimal alpha of 0.000056 .\n",
      "RMSE for test data is: 0.13822775 using optimal alpha of 0.000056 .\n"
     ]
    }
   ],
   "source": [
    "# Use this alpha_optimal_2 to fit 80% of Train model \n",
    "\n",
    "from sklearn.metrics import mean_squared_error\n",
    "from math import sqrt\n",
    "\n",
    "lasso_3 = Lasso(normalize=True,alpha = alpha_optimal_2)\n",
    "lasso_3.fit(X_train_no_outliers,y_train_no_outliers)\n",
    "#print(lasso_3.coef_)\n",
    "y_train_predicted = lasso_3.predict(X_train_no_outliers)\n",
    "RMSE_train = sqrt(mean_squared_error(y_train_no_outliers,y_train_predicted))\n",
    "\n",
    "\n",
    "y_test_predicted = lasso_3.predict(X_test)\n",
    "RMSE_test = sqrt(mean_squared_error(y_test,y_test_predicted))\n",
    "\n",
    "print('RMSE for train data is: %.8f' % RMSE_train, 'using optimal alpha of %f' % alpha_optimal_2, '.')\n",
    "print('RMSE for test data is: %.8f' % RMSE_test,'using optimal alpha of %f' % alpha_optimal_2, '.')\n"
   ]
  },
  {
   "cell_type": "markdown",
   "metadata": {},
   "source": [
    "### Prediction of Test Data"
   ]
  },
  {
   "cell_type": "code",
   "execution_count": 49,
   "metadata": {},
   "outputs": [],
   "source": [
    "df_test_predictors = df_test[top_features]"
   ]
  },
  {
   "cell_type": "code",
   "execution_count": 50,
   "metadata": {},
   "outputs": [],
   "source": [
    "Predicted_LogPrice = lasso_3.predict(df_test_predictors)\n",
    "Predicted_Price = np.exp(Predicted_LogPrice)\n",
    "Final_Price_Lasso = pd.DataFrame(np.concatenate([df_test[['Id']],pd.DataFrame(Predicted_Price)],axis=1))\n",
    "Final_Price_Lasso.columns= ['Id','SalePrice']\n",
    "Final_Price_Lasso['Id'] = Final_Price_Lasso['Id'].astype('int32')"
   ]
  },
  {
   "cell_type": "code",
   "execution_count": 51,
   "metadata": {},
   "outputs": [],
   "source": [
    "Final_Price_Lasso.to_csv(\"test_price_lasso.csv\",index = False)"
   ]
  },
  {
   "cell_type": "markdown",
   "metadata": {},
   "source": [
    "# Bayesian Ridge Regression"
   ]
  },
  {
   "cell_type": "code",
   "execution_count": 52,
   "metadata": {},
   "outputs": [
    {
     "name": "stdout",
     "output_type": "stream",
     "text": [
      "Dimensions of X: (1424, 99)\n",
      "Dimensions of Y: (1424,)\n",
      "Dimensions of df_test[list_of_predictors]: (1459, 99)\n",
      "Best parameters after 4D grid search: {'alpha_1': 1e-11, 'alpha_2': 1.0, 'lambda_1': 10.0, 'lambda_2': 1.0}\n"
     ]
    }
   ],
   "source": [
    "# Bayesian Ridge regression.  Tuning 4 parameters using 5-fold cross validation\n",
    "# If you care about the details, here is the documentation\n",
    "#    https://scikit-learn.org/stable/modules/linear_model.html#bayesian-ridge-regression\n",
    "#    https://en.wikipedia.org/wiki/Bayesian_linear_regression\n",
    "\n",
    "# Using our original 80 variables\n",
    "\n",
    "print(\"Dimensions of X:\", X.shape)\n",
    "print(\"Dimensions of Y:\", Y.shape)\n",
    "print(\"Dimensions of df_test[list_of_predictors]:\", df_test[list_of_predictors].shape)\n",
    "\n",
    "\"\"\"\n",
    "# Error of 0.13239 on Kaggle\n",
    "alpha_1_vector = np.logspace(-10, -4, 5).tolist()\n",
    "alpha_2_vector = np.logspace(-8, -2, 5).tolist()\n",
    "lambda_1_vector = np.logspace(-8, -2, 5).tolist()\n",
    "lambda_2_vector = np.logspace(-8, -2, 5).tolist()\n",
    "\"\"\"\n",
    "\n",
    "# Error of 0.13237 on Kaggle\n",
    "# Result of this grid Search is {'alpha_1': 1e-11, 'alpha_2': 1.0, 'lambda_1': 100.0, 'lambda_2': 0.1}\n",
    "alpha_1_vector = np.logspace(-14, -10, 5).tolist()\n",
    "alpha_2_vector = np.logspace(-2, 2, 5).tolist()\n",
    "lambda_1_vector = np.logspace(0, 4, 5).tolist()\n",
    "lambda_2_vector = np.logspace(-4, 0, 5).tolist()\n",
    "\n",
    "bayesian_ridge_model = BayesianRidge(normalize = True)\n",
    "bayesian_ridge_parameters = [{'alpha_1': alpha_1_vector, 'alpha_2': alpha_2_vector, 'lambda_1': lambda_1_vector, 'lambda_2': lambda_2_vector}]\n",
    "bayesian_ridge_model_gridSearch = GridSearchCV(bayesian_ridge_model, bayesian_ridge_parameters, cv = 5, scoring = \"neg_mean_squared_error\")\n",
    "bayesian_ridge_model_gridSearch.fit(X, Y)\n",
    "print(\"Best parameters after 4D grid search:\",bayesian_ridge_model_gridSearch.best_params_)\n",
    "\n",
    "Predicted_LogPrice_BayesianRidge_gridSearch = bayesian_ridge_model_gridSearch.predict(df_test[list_of_predictors])\n",
    "Predicted_Price_BayesianRidge_gridSearch = np.exp(Predicted_LogPrice_BayesianRidge_gridSearch)\n",
    "Final_Price_BayesianRidge_gridSearch = pd.DataFrame(np.concatenate([df_test[['Id']],pd.DataFrame(Predicted_Price_BayesianRidge_gridSearch)],axis=1))\n",
    "Final_Price_BayesianRidge_gridSearch.columns= ['Id','SalePrice']\n",
    "Final_Price_BayesianRidge_gridSearch['Id'] = Final_Price_BayesianRidge_gridSearch['Id'].astype('int32')\n",
    "Final_Price_BayesianRidge_gridSearch.to_csv(\"test_price_bayesian_ridge_gridSearch.csv\",index = False)"
   ]
  },
  {
   "cell_type": "markdown",
   "metadata": {},
   "source": [
    "# Ridge Model"
   ]
  },
  {
   "cell_type": "code",
   "execution_count": 53,
   "metadata": {},
   "outputs": [
    {
     "name": "stdout",
     "output_type": "stream",
     "text": [
      "R^2 for ridge model is: 0.923\n",
      "RMSE_train for ridge mode is: 0.109\n",
      "RMSE_test for ridge mode is: 0.137\n"
     ]
    }
   ],
   "source": [
    "ridge = Ridge()\n",
    "ridge.set_params(normalize = True, alpha = 0.0001)\n",
    "ridge.fit(X_train,y_train)\n",
    "print(\"R^2 for ridge model is: %.3f\" % ridge.score(X_train,y_train))\n",
    "y_train_predicted = ridge.predict(X_train)\n",
    "y_test_predicted = ridge.predict(X_test)\n",
    "print(\"RMSE_train for ridge mode is: %.3f\" % sqrt(mean_squared_error(y_train,y_train_predicted)))\n",
    "print(\"RMSE_test for ridge mode is: %.3f\" % sqrt(mean_squared_error(y_test,y_test_predicted)))"
   ]
  },
  {
   "cell_type": "code",
   "execution_count": 54,
   "metadata": {},
   "outputs": [],
   "source": [
    "# cross validation to find the best alpha\n",
    "alphas_ridge = np.logspace(-5, -1, 100)\n",
    "ridge = Ridge(normalize=True)\n",
    "\n",
    "dic_ridge = {}\n",
    "for alpha in alphas_ridge:\n",
    "    ridge.set_params(alpha=alpha)\n",
    "    rmse_ridge = np.sqrt(-ms.cross_val_score(ridge, X_train, y_train, \n",
    "                      scoring=\"neg_mean_squared_error\",cv = 5))\n",
    "    dic_ridge[alpha] = mean(rmse_ridge)\n",
    "\n",
    "# rmse for different alpha\n",
    "alpha_rmse_ridge = pd.DataFrame.from_dict(dic_ridge, orient='index', columns = ['RMSE']).reset_index()"
   ]
  },
  {
   "cell_type": "code",
   "execution_count": 55,
   "metadata": {},
   "outputs": [
    {
     "data": {
      "text/plain": [
       "Text(0, 0.5, 'RMSE')"
      ]
     },
     "execution_count": 55,
     "metadata": {},
     "output_type": "execute_result"
    },
    {
     "data": {
      "image/png": "[encoded data removed]",
      "text/plain": [
       "<Figure size 432x288 with 1 Axes>"
      ]
     },
     "metadata": {
      "needs_background": "light"
     },
     "output_type": "display_data"
    }
   ],
   "source": [
    "alpha_rmse_ridge.plot(x = \"index\", y = \"RMSE\")\n",
    "plt.xlabel(\"Alpha\")\n",
    "plt.ylabel(\"RMSE\")"
   ]
  },
  {
   "cell_type": "code",
   "execution_count": 56,
   "metadata": {},
   "outputs": [
    {
     "data": {
      "text/plain": [
       "0.0394420605943766"
      ]
     },
     "execution_count": 56,
     "metadata": {},
     "output_type": "execute_result"
    }
   ],
   "source": [
    "alpha_optimal_ridge = alpha_rmse_ridge.sort_values(by='RMSE').iloc[0,0]\n",
    "alpha_optimal_ridge"
   ]
  },
  {
   "cell_type": "code",
   "execution_count": 57,
   "metadata": {},
   "outputs": [],
   "source": [
    "# Use previous optimal alpha to fit train 80% data set\n",
    "ridge_2 = Ridge(normalize = True, alpha = alpha_optimal_ridge)\n",
    "ridge_2.fit(X_train,y_train)\n",
    "Y_predicted_train = ridge_2.predict(X_train)\n",
    "residuals = y_train - Y_predicted_train"
   ]
  },
  {
   "cell_type": "code",
   "execution_count": 58,
   "metadata": {},
   "outputs": [
    {
     "data": {
      "text/plain": [
       "[<matplotlib.lines.Line2D at 0x23b69da3e88>]"
      ]
     },
     "execution_count": 58,
     "metadata": {},
     "output_type": "execute_result"
    },
    {
     "data": {
      "image/png": "[encoded data removed]",
      "text/plain": [
       "<Figure size 432x288 with 1 Axes>"
      ]
     },
     "metadata": {
      "needs_background": "light"
     },
     "output_type": "display_data"
    }
   ],
   "source": [
    "plt.plot(residuals)"
   ]
  },
  {
   "cell_type": "code",
   "execution_count": 59,
   "metadata": {},
   "outputs": [],
   "source": [
    "import itertools\n",
    "indices_of_residual_outliers_under = list(itertools.chain(*np.argwhere(residuals>0.5).tolist()))\n",
    "indices_of_residual_outliers_over = list(itertools.chain(*np.argwhere(residuals<-0.5).tolist()))"
   ]
  },
  {
   "cell_type": "code",
   "execution_count": 60,
   "metadata": {},
   "outputs": [
    {
     "data": {
      "text/plain": [
       "[392, 438, 606, 625]"
      ]
     },
     "execution_count": 60,
     "metadata": {},
     "output_type": "execute_result"
    }
   ],
   "source": [
    "# indices of outliers\n",
    "outliers_indices = indices_of_residual_outliers_under + indices_of_residual_outliers_over\n",
    "outliers_indices"
   ]
  },
  {
   "cell_type": "code",
   "execution_count": 61,
   "metadata": {},
   "outputs": [],
   "source": [
    "X_train_no_outliers = pd.DataFrame(X_train).drop(outliers_indices)\n",
    "y_train_no_outliers = pd.DataFrame(y_train).drop(outliers_indices).values.flatten() # convert it back to 1D array"
   ]
  },
  {
   "cell_type": "code",
   "execution_count": 62,
   "metadata": {},
   "outputs": [],
   "source": [
    "# # cross validation to find the best alpha\n",
    "alphas_ridge_3 = np.logspace(-4, -1, 100)\n",
    "ridge_3 = Ridge(normalize=True)\n",
    "\n",
    "dic_ridge_3 = {}\n",
    "for alpha in alphas_ridge_3:\n",
    "    ridge_3.set_params(alpha=alpha)\n",
    "    rmse_ridge_3 = np.sqrt(-ms.cross_val_score(ridge_3, X_train_no_outliers, y_train_no_outliers, \n",
    "                      scoring=\"neg_mean_squared_error\",cv = 5))\n",
    "    dic_ridge_3[alpha] = mean(rmse_ridge_3)\n",
    "\n",
    "# rmse for different alpha\n",
    "alpha_rmse_ridge_3 = pd.DataFrame.from_dict(dic_ridge_3, orient='index', columns = ['RMSE']).reset_index()"
   ]
  },
  {
   "cell_type": "code",
   "execution_count": 63,
   "metadata": {},
   "outputs": [
    {
     "data": {
      "text/plain": [
       "Text(0, 0.5, 'RMSE')"
      ]
     },
     "execution_count": 63,
     "metadata": {},
     "output_type": "execute_result"
    },
    {
     "data": {
      "image/png": "[encoded data removed]",
      "text/plain": [
       "<Figure size 432x288 with 1 Axes>"
      ]
     },
     "metadata": {
      "needs_background": "light"
     },
     "output_type": "display_data"
    }
   ],
   "source": [
    "alpha_rmse_ridge_3.plot(x = \"index\", y = \"RMSE\")\n",
    "plt.xlabel(\"Alpha\")\n",
    "plt.ylabel(\"RMSE\")"
   ]
  },
  {
   "cell_type": "code",
   "execution_count": 64,
   "metadata": {},
   "outputs": [],
   "source": [
    "alpha_optimal_ridge_3 = alpha_rmse_ridge_3.sort_values(by='RMSE').iloc[0,0]"
   ]
  },
  {
   "cell_type": "code",
   "execution_count": 65,
   "metadata": {},
   "outputs": [
    {
     "data": {
      "text/plain": [
       "0.030538555088334154"
      ]
     },
     "execution_count": 65,
     "metadata": {},
     "output_type": "execute_result"
    }
   ],
   "source": [
    "alpha_optimal_ridge_3"
   ]
  },
  {
   "cell_type": "code",
   "execution_count": 66,
   "metadata": {},
   "outputs": [
    {
     "name": "stdout",
     "output_type": "stream",
     "text": [
      "RMSE for train data is: 0.10313907 using optimal alpha of 0.030539 .\n",
      "RMSE for test data is: 0.13717554 using optimal alpha of 0.030539 .\n"
     ]
    }
   ],
   "source": [
    "# # Use this alpha_optimal_ridge_3 to fit 80% of Train model \n",
    "\n",
    "from sklearn.metrics import mean_squared_error\n",
    "from math import sqrt\n",
    "\n",
    "ridge_4 = Ridge(normalize=True,alpha = alpha_optimal_ridge_3)\n",
    "ridge_4.fit(X_train_no_outliers,y_train_no_outliers)\n",
    "y_train_predicted = ridge_4.predict(X_train_no_outliers)\n",
    "RMSE_train = sqrt(mean_squared_error(y_train_no_outliers,y_train_predicted))\n",
    "\n",
    "y_test_predicted = ridge_4.predict(X_test)\n",
    "RMSE_test = sqrt(mean_squared_error(y_test,y_test_predicted))\n",
    "\n",
    "print('RMSE for train data is: %.8f' % RMSE_train, 'using optimal alpha of %f' % alpha_optimal_ridge_3, '.')\n",
    "print('RMSE for test data is: %.8f' % RMSE_test,'using optimal alpha of %f' % alpha_optimal_ridge_3, '.')"
   ]
  },
  {
   "cell_type": "code",
   "execution_count": 67,
   "metadata": {},
   "outputs": [],
   "source": [
    "Predicted_LogPrice_Ridge = ridge_4.predict(df_test_predictors)\n",
    "Predicted_Price_Ridge = np.exp(Predicted_LogPrice_Ridge)\n",
    "Final_Price_Ridge = pd.DataFrame(np.concatenate([df_test[['Id']],pd.DataFrame(Predicted_Price_Ridge)],axis=1))\n",
    "Final_Price_Ridge.columns= ['Id','SalePrice']\n",
    "Final_Price_Ridge['Id'] = Final_Price_Ridge['Id'].astype('int32')\n",
    "Final_Price_Ridge\n",
    "Final_Price_Ridge.to_csv(\"test_Ridge_price.csv\",index = False)"
   ]
  },
  {
   "cell_type": "markdown",
   "metadata": {},
   "source": [
    "# ElasticNet Model"
   ]
  },
  {
   "cell_type": "code",
   "execution_count": 68,
   "metadata": {},
   "outputs": [
    {
     "name": "stdout",
     "output_type": "stream",
     "text": [
      "R^2 for elasticnet model is: 0.920\n",
      "RMSE_train for elasticnet model is: 0.111\n",
      "RMSE_test for elasticnet model is: 0.138\n"
     ]
    }
   ],
   "source": [
    "elasticnet = ElasticNet()\n",
    "elasticnet.set_params(normalize=True, alpha = 0.0001, l1_ratio = 0.5)\n",
    "elasticnet.fit(X_train,y_train)\n",
    "print(\"R^2 for elasticnet model is: %.3f\" % elasticnet.score(X_train,y_train))\n",
    "y_train_predicted = elasticnet.predict(X_train)\n",
    "y_test_predicted = elasticnet.predict(X_test)\n",
    "print(\"RMSE_train for elasticnet model is: %.3f\" % sqrt(mean_squared_error(y_train,y_train_predicted)))\n",
    "print(\"RMSE_test for elasticnet model is: %.3f\" % sqrt(mean_squared_error(y_test,y_test_predicted)))"
   ]
  },
  {
   "cell_type": "code",
   "execution_count": 69,
   "metadata": {},
   "outputs": [
    {
     "data": {
      "text/plain": [
       "GridSearchCV(cv=5, error_score='raise-deprecating',\n",
       "             estimator=ElasticNet(alpha=1.0, copy_X=True, fit_intercept=True,\n",
       "                                  l1_ratio=0.5, max_iter=1000, normalize=True,\n",
       "                                  positive=False, precompute=False,\n",
       "                                  random_state=None, selection='cyclic',\n",
       "                                  tol=0.0001, warm_start=False),\n",
       "             iid='warn', n_jobs=None,\n",
       "             param_grid=[{'alpha': [1e-09, 1e-08, 1e-07, 1e-06, 1e-05, 0.0001,\n",
       "                                    0.001, 0.01, 0.1, 1.0],\n",
       "                          'l1_ratio': [0.001, 0.10644444444444444,\n",
       "                                       0.21188888888888888, 0.3173333333333333,\n",
       "                                       0.42277777777777775, 0.5282222222222221,\n",
       "                                       0.6336666666666666, 0.739111111111111,\n",
       "                                       0.8445555555555555, 0.95]}],\n",
       "             pre_dispatch='2*n_jobs', refit=True, return_train_score=False,\n",
       "             scoring='neg_mean_squared_error', verbose=0)"
      ]
     },
     "execution_count": 69,
     "metadata": {},
     "output_type": "execute_result"
    }
   ],
   "source": [
    "alpha_vector = np.logspace(-9, 0, 10).tolist()\n",
    "l1_ratio_vector = np.linspace(0.001, 0.95, 10).tolist()\n",
    "elasticnet_params = [{'alpha': alpha_vector, 'l1_ratio': l1_ratio_vector}]\n",
    "elasticnet = ElasticNet(normalize=True)\n",
    "elasticnet_model = GridSearchCV(elasticnet, elasticnet_params, cv = 5, scoring = \"neg_mean_squared_error\")\n",
    "elasticnet_model.fit(X_train, y_train) \n",
    "# max_iter = 10**3, tol = 0.0001"
   ]
  },
  {
   "cell_type": "code",
   "execution_count": 70,
   "metadata": {},
   "outputs": [
    {
     "name": "stdout",
     "output_type": "stream",
     "text": [
      "Best parameters: {'alpha': 0.0001, 'l1_ratio': 0.8445555555555555}\n"
     ]
    }
   ],
   "source": [
    "print(\"Best parameters:\",elasticnet_model.best_params_)"
   ]
  },
  {
   "cell_type": "code",
   "execution_count": 71,
   "metadata": {},
   "outputs": [],
   "source": [
    "elasticnet = ElasticNet(alpha =  8.111308307896872e-05, l1_ratio = 0.9116565656565656, normalize = True)"
   ]
  },
  {
   "cell_type": "code",
   "execution_count": 72,
   "metadata": {},
   "outputs": [
    {
     "name": "stdout",
     "output_type": "stream",
     "text": [
      "RMSE for train data using ElasticNet is: 0.111\n",
      "RMSE for test data using ElasticNet is: 0.138\n"
     ]
    }
   ],
   "source": [
    "elasticnet.fit(X_train,y_train)\n",
    "y_train_predicted = elasticnet.predict(X_train)\n",
    "RMSE_train = sqrt(mean_squared_error(y_train,y_train_predicted))\n",
    "y_test_predicted = elasticnet.predict(X_test)\n",
    "RMSE_test = sqrt(mean_squared_error(y_test,y_test_predicted))\n",
    "\n",
    "residuals = y_train - y_train_predicted\n",
    "print('RMSE for train data using ElasticNet is: %.3f' % RMSE_train)\n",
    "print('RMSE for test data using ElasticNet is: %.3f' % RMSE_test)"
   ]
  },
  {
   "cell_type": "code",
   "execution_count": 73,
   "metadata": {},
   "outputs": [
    {
     "data": {
      "text/plain": [
       "[<matplotlib.lines.Line2D at 0x23b697407c8>]"
      ]
     },
     "execution_count": 73,
     "metadata": {},
     "output_type": "execute_result"
    },
    {
     "data": {
      "image/png": "[encoded data removed]",
      "text/plain": [
       "<Figure size 432x288 with 1 Axes>"
      ]
     },
     "metadata": {
      "needs_background": "light"
     },
     "output_type": "display_data"
    }
   ],
   "source": [
    "plt.plot(residuals)"
   ]
  },
  {
   "cell_type": "code",
   "execution_count": 74,
   "metadata": {},
   "outputs": [
    {
     "data": {
      "text/plain": [
       "GridSearchCV(cv=5, error_score='raise-deprecating',\n",
       "             estimator=ElasticNet(alpha=1.0, copy_X=True, fit_intercept=True,\n",
       "                                  l1_ratio=0.5, max_iter=1000, normalize=True,\n",
       "                                  positive=False, precompute=False,\n",
       "                                  random_state=None, selection='cyclic',\n",
       "                                  tol=0.0001, warm_start=False),\n",
       "             iid='warn', n_jobs=None,\n",
       "             param_grid=[{'alpha': [1e-09, 1e-08, 1e-07, 1e-06, 1e-05, 0.0001,\n",
       "                                    0.001, 0.01, 0.1, 1.0],\n",
       "                          'l1_ratio': [0.001, 0.10644444444444444,\n",
       "                                       0.21188888888888888, 0.3173333333333333,\n",
       "                                       0.42277777777777775, 0.5282222222222221,\n",
       "                                       0.6336666666666666, 0.739111111111111,\n",
       "                                       0.8445555555555555, 0.95]}],\n",
       "             pre_dispatch='2*n_jobs', refit=True, return_train_score=False,\n",
       "             scoring='neg_mean_squared_error', verbose=0)"
      ]
     },
     "execution_count": 74,
     "metadata": {},
     "output_type": "execute_result"
    }
   ],
   "source": [
    "# outliers removed\n",
    "alpha_vector_2 = np.logspace(-9, 0, 10).tolist()\n",
    "l1_ratio_vector_2 = np.linspace(0.001, 0.95, 10).tolist()\n",
    "elasticnet_params = [{'alpha': alpha_vector_2, 'l1_ratio': l1_ratio_vector_2}]\n",
    "elasticnet_2 = ElasticNet(normalize=True)\n",
    "elasticnet_model_2 = GridSearchCV(elasticnet_2, elasticnet_params, cv = 5, scoring = \"neg_mean_squared_error\")\n",
    "elasticnet_model_2.fit(X_train_no_outliers, y_train_no_outliers) "
   ]
  },
  {
   "cell_type": "code",
   "execution_count": 75,
   "metadata": {},
   "outputs": [
    {
     "name": "stdout",
     "output_type": "stream",
     "text": [
      "Best parameters: {'alpha': 0.0001, 'l1_ratio': 0.8445555555555555}\n"
     ]
    }
   ],
   "source": [
    "print(\"Best parameters:\",elasticnet_model_2.best_params_)"
   ]
  },
  {
   "cell_type": "code",
   "execution_count": 76,
   "metadata": {},
   "outputs": [
    {
     "name": "stdout",
     "output_type": "stream",
     "text": [
      "RMSE for train data using ElasticNet is: 0.10481\n",
      "RMSE for test data using ElasticNet is: 0.13828\n"
     ]
    }
   ],
   "source": [
    "y_train_predicted = elasticnet_model_2.predict(X_train_no_outliers)\n",
    "RMSE_train = sqrt(mean_squared_error(y_train_no_outliers,y_train_predicted))\n",
    "y_test_predicted = elasticnet_model_2.predict(X_test)\n",
    "RMSE_test = sqrt(mean_squared_error(y_test,y_test_predicted))\n",
    "print('RMSE for train data using ElasticNet is: %.5f' % RMSE_train)\n",
    "print('RMSE for test data using ElasticNet is: %.5f' % RMSE_test)"
   ]
  },
  {
   "cell_type": "code",
   "execution_count": 77,
   "metadata": {},
   "outputs": [],
   "source": [
    "Predicted_LogPrice_ElasticNet = elasticnet_model_2.predict(df_test_predictors)\n",
    "Predicted_Price_ElasticNet = np.exp(Predicted_LogPrice_ElasticNet)\n",
    "Final_Price_ElasticNet = pd.DataFrame(np.concatenate([df_test[['Id']],pd.DataFrame(Predicted_Price_ElasticNet)],axis=1))\n",
    "Final_Price_ElasticNet.columns= ['Id','SalePrice']\n",
    "Final_Price_ElasticNet['Id'] = Final_Price_ElasticNet['Id'].astype('int32')\n",
    "Final_Price_ElasticNet\n",
    "Final_Price_ElasticNet.to_csv(\"test_ElasticNet_price.csv\",index = False)"
   ]
  },
  {
   "cell_type": "markdown",
   "metadata": {},
   "source": [
    "# Step 5 - Build Gradient Boosting Model"
   ]
  },
  {
   "cell_type": "markdown",
   "metadata": {},
   "source": [
    "### Label Encoding on Categorical Columns "
   ]
  },
  {
   "cell_type": "code",
   "execution_count": 78,
   "metadata": {},
   "outputs": [
    {
     "data": {
      "text/html": [
       "<div>\n",
       "<style scoped>\n",
       "    .dataframe tbody tr th:only-of-type {\n",
       "        vertical-align: middle;\n",
       "    }\n",
       "\n",
       "    .dataframe tbody tr th {\n",
       "        vertical-align: top;\n",
       "    }\n",
       "\n",
       "    .dataframe thead th {\n",
       "        text-align: right;\n",
       "    }\n",
       "</style>\n",
       "<table border=\"1\" class=\"dataframe\">\n",
       "  <thead>\n",
       "    <tr style=\"text-align: right;\">\n",
       "      <th></th>\n",
       "      <th>MSZoning</th>\n",
       "      <th>Street</th>\n",
       "      <th>Alley</th>\n",
       "      <th>LotShape</th>\n",
       "      <th>LandContour</th>\n",
       "      <th>Utilities</th>\n",
       "      <th>LotConfig</th>\n",
       "      <th>LandSlope</th>\n",
       "      <th>Neighborhood</th>\n",
       "      <th>Condition1</th>\n",
       "      <th>...</th>\n",
       "      <th>GarageType</th>\n",
       "      <th>GarageFinish</th>\n",
       "      <th>GarageQual</th>\n",
       "      <th>GarageCond</th>\n",
       "      <th>PavedDrive</th>\n",
       "      <th>PoolQC</th>\n",
       "      <th>Fence</th>\n",
       "      <th>MiscFeature</th>\n",
       "      <th>SaleType</th>\n",
       "      <th>SaleCondition</th>\n",
       "    </tr>\n",
       "  </thead>\n",
       "  <tbody>\n",
       "    <tr>\n",
       "      <td>0</td>\n",
       "      <td>3</td>\n",
       "      <td>1</td>\n",
       "      <td>1</td>\n",
       "      <td>3</td>\n",
       "      <td>3</td>\n",
       "      <td>0</td>\n",
       "      <td>4</td>\n",
       "      <td>0</td>\n",
       "      <td>5</td>\n",
       "      <td>2</td>\n",
       "      <td>...</td>\n",
       "      <td>1</td>\n",
       "      <td>2</td>\n",
       "      <td>5</td>\n",
       "      <td>5</td>\n",
       "      <td>2</td>\n",
       "      <td>3</td>\n",
       "      <td>4</td>\n",
       "      <td>1</td>\n",
       "      <td>8</td>\n",
       "      <td>4</td>\n",
       "    </tr>\n",
       "    <tr>\n",
       "      <td>1</td>\n",
       "      <td>3</td>\n",
       "      <td>1</td>\n",
       "      <td>1</td>\n",
       "      <td>3</td>\n",
       "      <td>3</td>\n",
       "      <td>0</td>\n",
       "      <td>2</td>\n",
       "      <td>0</td>\n",
       "      <td>24</td>\n",
       "      <td>1</td>\n",
       "      <td>...</td>\n",
       "      <td>1</td>\n",
       "      <td>2</td>\n",
       "      <td>5</td>\n",
       "      <td>5</td>\n",
       "      <td>2</td>\n",
       "      <td>3</td>\n",
       "      <td>4</td>\n",
       "      <td>1</td>\n",
       "      <td>8</td>\n",
       "      <td>4</td>\n",
       "    </tr>\n",
       "    <tr>\n",
       "      <td>2</td>\n",
       "      <td>3</td>\n",
       "      <td>1</td>\n",
       "      <td>1</td>\n",
       "      <td>0</td>\n",
       "      <td>3</td>\n",
       "      <td>0</td>\n",
       "      <td>4</td>\n",
       "      <td>0</td>\n",
       "      <td>5</td>\n",
       "      <td>2</td>\n",
       "      <td>...</td>\n",
       "      <td>1</td>\n",
       "      <td>2</td>\n",
       "      <td>5</td>\n",
       "      <td>5</td>\n",
       "      <td>2</td>\n",
       "      <td>3</td>\n",
       "      <td>4</td>\n",
       "      <td>1</td>\n",
       "      <td>8</td>\n",
       "      <td>4</td>\n",
       "    </tr>\n",
       "    <tr>\n",
       "      <td>3</td>\n",
       "      <td>3</td>\n",
       "      <td>1</td>\n",
       "      <td>1</td>\n",
       "      <td>0</td>\n",
       "      <td>3</td>\n",
       "      <td>0</td>\n",
       "      <td>0</td>\n",
       "      <td>0</td>\n",
       "      <td>6</td>\n",
       "      <td>2</td>\n",
       "      <td>...</td>\n",
       "      <td>5</td>\n",
       "      <td>3</td>\n",
       "      <td>5</td>\n",
       "      <td>5</td>\n",
       "      <td>2</td>\n",
       "      <td>3</td>\n",
       "      <td>4</td>\n",
       "      <td>1</td>\n",
       "      <td>8</td>\n",
       "      <td>0</td>\n",
       "    </tr>\n",
       "    <tr>\n",
       "      <td>4</td>\n",
       "      <td>3</td>\n",
       "      <td>1</td>\n",
       "      <td>1</td>\n",
       "      <td>0</td>\n",
       "      <td>3</td>\n",
       "      <td>0</td>\n",
       "      <td>2</td>\n",
       "      <td>0</td>\n",
       "      <td>15</td>\n",
       "      <td>2</td>\n",
       "      <td>...</td>\n",
       "      <td>1</td>\n",
       "      <td>2</td>\n",
       "      <td>5</td>\n",
       "      <td>5</td>\n",
       "      <td>2</td>\n",
       "      <td>3</td>\n",
       "      <td>4</td>\n",
       "      <td>1</td>\n",
       "      <td>8</td>\n",
       "      <td>4</td>\n",
       "    </tr>\n",
       "  </tbody>\n",
       "</table>\n",
       "<p>5 rows × 43 columns</p>\n",
       "</div>"
      ],
      "text/plain": [
       "   MSZoning  Street  Alley  LotShape  LandContour  Utilities  LotConfig  \\\n",
       "0         3       1      1         3            3          0          4   \n",
       "1         3       1      1         3            3          0          2   \n",
       "2         3       1      1         0            3          0          4   \n",
       "3         3       1      1         0            3          0          0   \n",
       "4         3       1      1         0            3          0          2   \n",
       "\n",
       "   LandSlope  Neighborhood  Condition1  ...  GarageType  GarageFinish  \\\n",
       "0          0             5           2  ...           1             2   \n",
       "1          0            24           1  ...           1             2   \n",
       "2          0             5           2  ...           1             2   \n",
       "3          0             6           2  ...           5             3   \n",
       "4          0            15           2  ...           1             2   \n",
       "\n",
       "   GarageQual  GarageCond  PavedDrive  PoolQC  Fence  MiscFeature  SaleType  \\\n",
       "0           5           5           2       3      4            1         8   \n",
       "1           5           5           2       3      4            1         8   \n",
       "2           5           5           2       3      4            1         8   \n",
       "3           5           5           2       3      4            1         8   \n",
       "4           5           5           2       3      4            1         8   \n",
       "\n",
       "   SaleCondition  \n",
       "0              4  \n",
       "1              4  \n",
       "2              4  \n",
       "3              0  \n",
       "4              4  \n",
       "\n",
       "[5 rows x 43 columns]"
      ]
     },
     "execution_count": 78,
     "metadata": {},
     "output_type": "execute_result"
    }
   ],
   "source": [
    "le = LabelEncoder()\n",
    "df_categorical = df_combined.select_dtypes(include=[object]).drop('GarageYrBlt',axis =1) # 43 categorical columns\n",
    "categorical_columns = list(df_categorical.columns)\n",
    "df_categorical_le = df_categorical.apply(le.fit_transform)\n",
    "df_categorical_le.head(5)"
   ]
  },
  {
   "cell_type": "markdown",
   "metadata": {},
   "source": [
    "### Combining Label Encoded Categorical Columns and Numeric Columns"
   ]
  },
  {
   "cell_type": "code",
   "execution_count": 79,
   "metadata": {},
   "outputs": [
    {
     "data": {
      "text/html": [
       "<div>\n",
       "<style scoped>\n",
       "    .dataframe tbody tr th:only-of-type {\n",
       "        vertical-align: middle;\n",
       "    }\n",
       "\n",
       "    .dataframe tbody tr th {\n",
       "        vertical-align: top;\n",
       "    }\n",
       "\n",
       "    .dataframe thead th {\n",
       "        text-align: right;\n",
       "    }\n",
       "</style>\n",
       "<table border=\"1\" class=\"dataframe\">\n",
       "  <thead>\n",
       "    <tr style=\"text-align: right;\">\n",
       "      <th></th>\n",
       "      <th>Id</th>\n",
       "      <th>MSSubClass</th>\n",
       "      <th>LotFrontage</th>\n",
       "      <th>LotArea</th>\n",
       "      <th>OverallQual</th>\n",
       "      <th>OverallCond</th>\n",
       "      <th>YearBuilt</th>\n",
       "      <th>YearRemodAdd</th>\n",
       "      <th>MasVnrArea</th>\n",
       "      <th>BsmtFinSF1</th>\n",
       "      <th>...</th>\n",
       "      <th>GarageType</th>\n",
       "      <th>GarageFinish</th>\n",
       "      <th>GarageQual</th>\n",
       "      <th>GarageCond</th>\n",
       "      <th>PavedDrive</th>\n",
       "      <th>PoolQC</th>\n",
       "      <th>Fence</th>\n",
       "      <th>MiscFeature</th>\n",
       "      <th>SaleType</th>\n",
       "      <th>SaleCondition</th>\n",
       "    </tr>\n",
       "  </thead>\n",
       "  <tbody>\n",
       "    <tr>\n",
       "      <td>0</td>\n",
       "      <td>1.0</td>\n",
       "      <td>60.0</td>\n",
       "      <td>65.0</td>\n",
       "      <td>8450.0</td>\n",
       "      <td>7.0</td>\n",
       "      <td>5.0</td>\n",
       "      <td>2003.0</td>\n",
       "      <td>2003.0</td>\n",
       "      <td>196.0</td>\n",
       "      <td>706.0</td>\n",
       "      <td>...</td>\n",
       "      <td>1.0</td>\n",
       "      <td>2.0</td>\n",
       "      <td>5.0</td>\n",
       "      <td>5.0</td>\n",
       "      <td>2.0</td>\n",
       "      <td>3.0</td>\n",
       "      <td>4.0</td>\n",
       "      <td>1.0</td>\n",
       "      <td>8.0</td>\n",
       "      <td>4.0</td>\n",
       "    </tr>\n",
       "    <tr>\n",
       "      <td>1</td>\n",
       "      <td>2.0</td>\n",
       "      <td>20.0</td>\n",
       "      <td>80.0</td>\n",
       "      <td>9600.0</td>\n",
       "      <td>6.0</td>\n",
       "      <td>8.0</td>\n",
       "      <td>1976.0</td>\n",
       "      <td>1976.0</td>\n",
       "      <td>0.0</td>\n",
       "      <td>978.0</td>\n",
       "      <td>...</td>\n",
       "      <td>1.0</td>\n",
       "      <td>2.0</td>\n",
       "      <td>5.0</td>\n",
       "      <td>5.0</td>\n",
       "      <td>2.0</td>\n",
       "      <td>3.0</td>\n",
       "      <td>4.0</td>\n",
       "      <td>1.0</td>\n",
       "      <td>8.0</td>\n",
       "      <td>4.0</td>\n",
       "    </tr>\n",
       "    <tr>\n",
       "      <td>2</td>\n",
       "      <td>3.0</td>\n",
       "      <td>60.0</td>\n",
       "      <td>68.0</td>\n",
       "      <td>11250.0</td>\n",
       "      <td>7.0</td>\n",
       "      <td>5.0</td>\n",
       "      <td>2001.0</td>\n",
       "      <td>2002.0</td>\n",
       "      <td>162.0</td>\n",
       "      <td>486.0</td>\n",
       "      <td>...</td>\n",
       "      <td>1.0</td>\n",
       "      <td>2.0</td>\n",
       "      <td>5.0</td>\n",
       "      <td>5.0</td>\n",
       "      <td>2.0</td>\n",
       "      <td>3.0</td>\n",
       "      <td>4.0</td>\n",
       "      <td>1.0</td>\n",
       "      <td>8.0</td>\n",
       "      <td>4.0</td>\n",
       "    </tr>\n",
       "    <tr>\n",
       "      <td>3</td>\n",
       "      <td>4.0</td>\n",
       "      <td>70.0</td>\n",
       "      <td>60.0</td>\n",
       "      <td>9550.0</td>\n",
       "      <td>7.0</td>\n",
       "      <td>5.0</td>\n",
       "      <td>1915.0</td>\n",
       "      <td>1970.0</td>\n",
       "      <td>0.0</td>\n",
       "      <td>216.0</td>\n",
       "      <td>...</td>\n",
       "      <td>5.0</td>\n",
       "      <td>3.0</td>\n",
       "      <td>5.0</td>\n",
       "      <td>5.0</td>\n",
       "      <td>2.0</td>\n",
       "      <td>3.0</td>\n",
       "      <td>4.0</td>\n",
       "      <td>1.0</td>\n",
       "      <td>8.0</td>\n",
       "      <td>0.0</td>\n",
       "    </tr>\n",
       "    <tr>\n",
       "      <td>4</td>\n",
       "      <td>5.0</td>\n",
       "      <td>60.0</td>\n",
       "      <td>84.0</td>\n",
       "      <td>14260.0</td>\n",
       "      <td>8.0</td>\n",
       "      <td>5.0</td>\n",
       "      <td>2000.0</td>\n",
       "      <td>2000.0</td>\n",
       "      <td>350.0</td>\n",
       "      <td>655.0</td>\n",
       "      <td>...</td>\n",
       "      <td>1.0</td>\n",
       "      <td>2.0</td>\n",
       "      <td>5.0</td>\n",
       "      <td>5.0</td>\n",
       "      <td>2.0</td>\n",
       "      <td>3.0</td>\n",
       "      <td>4.0</td>\n",
       "      <td>1.0</td>\n",
       "      <td>8.0</td>\n",
       "      <td>4.0</td>\n",
       "    </tr>\n",
       "    <tr>\n",
       "      <td>...</td>\n",
       "      <td>...</td>\n",
       "      <td>...</td>\n",
       "      <td>...</td>\n",
       "      <td>...</td>\n",
       "      <td>...</td>\n",
       "      <td>...</td>\n",
       "      <td>...</td>\n",
       "      <td>...</td>\n",
       "      <td>...</td>\n",
       "      <td>...</td>\n",
       "      <td>...</td>\n",
       "      <td>...</td>\n",
       "      <td>...</td>\n",
       "      <td>...</td>\n",
       "      <td>...</td>\n",
       "      <td>...</td>\n",
       "      <td>...</td>\n",
       "      <td>...</td>\n",
       "      <td>...</td>\n",
       "      <td>...</td>\n",
       "      <td>...</td>\n",
       "    </tr>\n",
       "    <tr>\n",
       "      <td>2914</td>\n",
       "      <td>2915.0</td>\n",
       "      <td>160.0</td>\n",
       "      <td>21.0</td>\n",
       "      <td>1936.0</td>\n",
       "      <td>4.0</td>\n",
       "      <td>7.0</td>\n",
       "      <td>1970.0</td>\n",
       "      <td>1970.0</td>\n",
       "      <td>0.0</td>\n",
       "      <td>0.0</td>\n",
       "      <td>...</td>\n",
       "      <td>6.0</td>\n",
       "      <td>1.0</td>\n",
       "      <td>3.0</td>\n",
       "      <td>3.0</td>\n",
       "      <td>2.0</td>\n",
       "      <td>3.0</td>\n",
       "      <td>4.0</td>\n",
       "      <td>1.0</td>\n",
       "      <td>8.0</td>\n",
       "      <td>4.0</td>\n",
       "    </tr>\n",
       "    <tr>\n",
       "      <td>2915</td>\n",
       "      <td>2916.0</td>\n",
       "      <td>160.0</td>\n",
       "      <td>21.0</td>\n",
       "      <td>1894.0</td>\n",
       "      <td>4.0</td>\n",
       "      <td>5.0</td>\n",
       "      <td>1970.0</td>\n",
       "      <td>1970.0</td>\n",
       "      <td>0.0</td>\n",
       "      <td>252.0</td>\n",
       "      <td>...</td>\n",
       "      <td>4.0</td>\n",
       "      <td>3.0</td>\n",
       "      <td>5.0</td>\n",
       "      <td>5.0</td>\n",
       "      <td>2.0</td>\n",
       "      <td>3.0</td>\n",
       "      <td>4.0</td>\n",
       "      <td>1.0</td>\n",
       "      <td>8.0</td>\n",
       "      <td>0.0</td>\n",
       "    </tr>\n",
       "    <tr>\n",
       "      <td>2916</td>\n",
       "      <td>2917.0</td>\n",
       "      <td>20.0</td>\n",
       "      <td>160.0</td>\n",
       "      <td>20000.0</td>\n",
       "      <td>5.0</td>\n",
       "      <td>7.0</td>\n",
       "      <td>1960.0</td>\n",
       "      <td>1996.0</td>\n",
       "      <td>0.0</td>\n",
       "      <td>1224.0</td>\n",
       "      <td>...</td>\n",
       "      <td>5.0</td>\n",
       "      <td>3.0</td>\n",
       "      <td>5.0</td>\n",
       "      <td>5.0</td>\n",
       "      <td>2.0</td>\n",
       "      <td>3.0</td>\n",
       "      <td>4.0</td>\n",
       "      <td>1.0</td>\n",
       "      <td>8.0</td>\n",
       "      <td>0.0</td>\n",
       "    </tr>\n",
       "    <tr>\n",
       "      <td>2917</td>\n",
       "      <td>2918.0</td>\n",
       "      <td>85.0</td>\n",
       "      <td>62.0</td>\n",
       "      <td>10441.0</td>\n",
       "      <td>5.0</td>\n",
       "      <td>5.0</td>\n",
       "      <td>1992.0</td>\n",
       "      <td>1992.0</td>\n",
       "      <td>0.0</td>\n",
       "      <td>337.0</td>\n",
       "      <td>...</td>\n",
       "      <td>6.0</td>\n",
       "      <td>1.0</td>\n",
       "      <td>3.0</td>\n",
       "      <td>3.0</td>\n",
       "      <td>2.0</td>\n",
       "      <td>3.0</td>\n",
       "      <td>2.0</td>\n",
       "      <td>3.0</td>\n",
       "      <td>8.0</td>\n",
       "      <td>4.0</td>\n",
       "    </tr>\n",
       "    <tr>\n",
       "      <td>2918</td>\n",
       "      <td>2919.0</td>\n",
       "      <td>60.0</td>\n",
       "      <td>74.0</td>\n",
       "      <td>9627.0</td>\n",
       "      <td>7.0</td>\n",
       "      <td>5.0</td>\n",
       "      <td>1993.0</td>\n",
       "      <td>1994.0</td>\n",
       "      <td>94.0</td>\n",
       "      <td>758.0</td>\n",
       "      <td>...</td>\n",
       "      <td>1.0</td>\n",
       "      <td>0.0</td>\n",
       "      <td>5.0</td>\n",
       "      <td>5.0</td>\n",
       "      <td>2.0</td>\n",
       "      <td>3.0</td>\n",
       "      <td>4.0</td>\n",
       "      <td>1.0</td>\n",
       "      <td>8.0</td>\n",
       "      <td>4.0</td>\n",
       "    </tr>\n",
       "  </tbody>\n",
       "</table>\n",
       "<p>2919 rows × 85 columns</p>\n",
       "</div>"
      ],
      "text/plain": [
       "          Id  MSSubClass  LotFrontage  LotArea  OverallQual  OverallCond  \\\n",
       "0        1.0        60.0         65.0   8450.0          7.0          5.0   \n",
       "1        2.0        20.0         80.0   9600.0          6.0          8.0   \n",
       "2        3.0        60.0         68.0  11250.0          7.0          5.0   \n",
       "3        4.0        70.0         60.0   9550.0          7.0          5.0   \n",
       "4        5.0        60.0         84.0  14260.0          8.0          5.0   \n",
       "...      ...         ...          ...      ...          ...          ...   \n",
       "2914  2915.0       160.0         21.0   1936.0          4.0          7.0   \n",
       "2915  2916.0       160.0         21.0   1894.0          4.0          5.0   \n",
       "2916  2917.0        20.0        160.0  20000.0          5.0          7.0   \n",
       "2917  2918.0        85.0         62.0  10441.0          5.0          5.0   \n",
       "2918  2919.0        60.0         74.0   9627.0          7.0          5.0   \n",
       "\n",
       "      YearBuilt  YearRemodAdd  MasVnrArea  BsmtFinSF1  ...  GarageType  \\\n",
       "0        2003.0        2003.0       196.0       706.0  ...         1.0   \n",
       "1        1976.0        1976.0         0.0       978.0  ...         1.0   \n",
       "2        2001.0        2002.0       162.0       486.0  ...         1.0   \n",
       "3        1915.0        1970.0         0.0       216.0  ...         5.0   \n",
       "4        2000.0        2000.0       350.0       655.0  ...         1.0   \n",
       "...         ...           ...         ...         ...  ...         ...   \n",
       "2914     1970.0        1970.0         0.0         0.0  ...         6.0   \n",
       "2915     1970.0        1970.0         0.0       252.0  ...         4.0   \n",
       "2916     1960.0        1996.0         0.0      1224.0  ...         5.0   \n",
       "2917     1992.0        1992.0         0.0       337.0  ...         6.0   \n",
       "2918     1993.0        1994.0        94.0       758.0  ...         1.0   \n",
       "\n",
       "      GarageFinish  GarageQual  GarageCond  PavedDrive  PoolQC  Fence  \\\n",
       "0              2.0         5.0         5.0         2.0     3.0    4.0   \n",
       "1              2.0         5.0         5.0         2.0     3.0    4.0   \n",
       "2              2.0         5.0         5.0         2.0     3.0    4.0   \n",
       "3              3.0         5.0         5.0         2.0     3.0    4.0   \n",
       "4              2.0         5.0         5.0         2.0     3.0    4.0   \n",
       "...            ...         ...         ...         ...     ...    ...   \n",
       "2914           1.0         3.0         3.0         2.0     3.0    4.0   \n",
       "2915           3.0         5.0         5.0         2.0     3.0    4.0   \n",
       "2916           3.0         5.0         5.0         2.0     3.0    4.0   \n",
       "2917           1.0         3.0         3.0         2.0     3.0    2.0   \n",
       "2918           0.0         5.0         5.0         2.0     3.0    4.0   \n",
       "\n",
       "      MiscFeature  SaleType  SaleCondition  \n",
       "0             1.0       8.0            4.0  \n",
       "1             1.0       8.0            4.0  \n",
       "2             1.0       8.0            4.0  \n",
       "3             1.0       8.0            0.0  \n",
       "4             1.0       8.0            4.0  \n",
       "...           ...       ...            ...  \n",
       "2914          1.0       8.0            4.0  \n",
       "2915          1.0       8.0            0.0  \n",
       "2916          1.0       8.0            0.0  \n",
       "2917          3.0       8.0            4.0  \n",
       "2918          1.0       8.0            4.0  \n",
       "\n",
       "[2919 rows x 85 columns]"
      ]
     },
     "execution_count": 79,
     "metadata": {},
     "output_type": "execute_result"
    }
   ],
   "source": [
    "df_numeric = df_combined._get_numeric_data() \n",
    "numeric_columns = list(df_numeric.columns)\n",
    "df_le = pd.DataFrame(np.concatenate([df_numeric,df_categorical_le],axis = 1))\n",
    "df_le.columns = numeric_columns + categorical_columns\n",
    "df_le"
   ]
  },
  {
   "cell_type": "markdown",
   "metadata": {},
   "source": [
    "### Split the test dataset from the train dataset  "
   ]
  },
  {
   "cell_type": "code",
   "execution_count": 80,
   "metadata": {},
   "outputs": [],
   "source": [
    "X = df_le.iloc[:1460,:].drop(['Id','SalePrice','LogSalePrice'],axis =1)\n",
    "Y = df_le.iloc[:1460,]['SalePrice']\n",
    "X_Original_Test = df_le.iloc[1460:,].drop(['SalePrice','LogSalePrice'],axis =1) "
   ]
  },
  {
   "cell_type": "code",
   "execution_count": 81,
   "metadata": {},
   "outputs": [
    {
     "data": {
      "text/plain": [
       "(1460, 82)"
      ]
     },
     "execution_count": 81,
     "metadata": {},
     "output_type": "execute_result"
    }
   ],
   "source": [
    "X.shape"
   ]
  },
  {
   "cell_type": "markdown",
   "metadata": {},
   "source": [
    "### Initial GBM Model Fit"
   ]
  },
  {
   "cell_type": "code",
   "execution_count": 82,
   "metadata": {},
   "outputs": [
    {
     "name": "stdout",
     "output_type": "stream",
     "text": [
      "      Iter       Train Loss   Remaining Time \n",
      "         1  5414666697.2413            0.24s\n",
      "         2  4670811099.6029            0.31s\n",
      "         3  4064945702.8768            0.34s\n",
      "         4  3559917680.1599            0.41s\n",
      "         5  3127159220.5939            0.36s\n",
      "         6  2766554720.6472            0.36s\n",
      "         7  2464020257.2934            0.37s\n",
      "         8  2206444029.1449            0.37s\n",
      "         9  1981905228.2157            0.36s\n",
      "        10  1784535935.3719            0.36s\n",
      "        20   809356353.9819            0.31s\n",
      "        30   510647600.5843            0.28s\n",
      "        40   392797074.0168            0.25s\n",
      "        50   327028738.4629            0.21s\n",
      "        60   292320602.2855            0.17s\n",
      "        70   267473609.2618            0.13s\n",
      "        80   245723125.3323            0.09s\n",
      "        90   233105582.0757            0.04s\n",
      "       100   217394185.9758            0.00s\n"
     ]
    },
    {
     "data": {
      "text/plain": [
       "0.9655301294733736"
      ]
     },
     "execution_count": 82,
     "metadata": {},
     "output_type": "execute_result"
    }
   ],
   "source": [
    "gbm = GradientBoostingRegressor()\n",
    "gbm.set_params(verbose = 1)\n",
    "gbm.fit(X,Y)\n",
    "gbm.score(X,Y)"
   ]
  },
  {
   "cell_type": "markdown",
   "metadata": {},
   "source": [
    "### Train Test Split"
   ]
  },
  {
   "cell_type": "code",
   "execution_count": 83,
   "metadata": {},
   "outputs": [],
   "source": [
    "X_train, X_test, Y_train, Y_test = train_test_split(X,Y, test_size=0.2,random_state = 42)"
   ]
  },
  {
   "cell_type": "markdown",
   "metadata": {},
   "source": [
    "### Bagging "
   ]
  },
  {
   "cell_type": "code",
   "execution_count": 84,
   "metadata": {},
   "outputs": [
    {
     "data": {
      "text/plain": [
       "GradientBoostingRegressor(alpha=0.9, criterion='friedman_mse', init=None,\n",
       "                          learning_rate=0.03, loss='ls', max_depth=4,\n",
       "                          max_features=2, max_leaf_nodes=None,\n",
       "                          min_impurity_decrease=0.01, min_impurity_split=None,\n",
       "                          min_samples_leaf=1, min_samples_split=2,\n",
       "                          min_weight_fraction_leaf=0.0, n_estimators=800,\n",
       "                          n_iter_no_change=None, presort='auto',\n",
       "                          random_state=42, subsample=0.7, tol=0.0001,\n",
       "                          validation_fraction=0.1, verbose=1, warm_start=False)"
      ]
     },
     "execution_count": 84,
     "metadata": {},
     "output_type": "execute_result"
    }
   ],
   "source": [
    "gbm.set_params(learning_rate=0.03, n_estimators=800, verbose=1, subsample=0.7, warm_start=False, loss='ls', max_depth=4, max_features=2, min_impurity_decrease=0.01,random_state = 42)"
   ]
  },
  {
   "cell_type": "code",
   "execution_count": 85,
   "metadata": {},
   "outputs": [
    {
     "name": "stdout",
     "output_type": "stream",
     "text": [
      "      Iter       Train Loss      OOB Improve   Remaining Time \n",
      "         1  6239899733.6282   189658659.6929            1.60s\n",
      "         2  5111332888.0278   140094527.3009            1.38s\n",
      "         3  5676701913.3351   170003276.1288            1.18s\n",
      "         4  5075219257.6807   121462807.0714            1.28s\n",
      "         5  4991088058.6958   149680039.9634            1.18s\n",
      "         6  5151590159.1290   129730646.4157            1.25s\n",
      "         7  4844030871.3334   131100810.1966            1.29s\n",
      "         8  4676630057.5156   124751570.6961            1.43s\n",
      "         9  4720404395.2354   118879092.9074            1.36s\n",
      "        10  4218205891.5667   121122143.5240            1.38s\n",
      "        20  3354110972.8322    99498119.4699            1.11s\n",
      "        30  2334621037.4883    52231976.3445            1.06s\n",
      "        40  2140248366.2105    41738024.7627            1.17s\n",
      "        50  1535943374.3546    22245469.6500            1.12s\n",
      "        60  1253395542.1490    21140811.1962            1.07s\n",
      "        70   998546393.2908    32358825.7467            1.02s\n",
      "        80   979611189.6773     8328693.6122            0.98s\n",
      "        90   790377642.3633     8641965.5109            0.94s\n",
      "       100   750152822.0738     7256875.4369            0.91s\n",
      "       200   328422819.1738    -1590674.1219            0.70s\n",
      "       300   245016286.6077      146855.1346            0.49s\n",
      "       400   220340937.7536       11016.4585            0.35s\n",
      "       500   180256323.4930     -114650.0047            0.25s\n",
      "       600   134464016.7764      -19720.4064            0.16s\n",
      "       700   130345359.7351       60609.6248            0.08s\n",
      "       800    97572160.8656        2612.0265            0.00s\n",
      "--------------------------------------------------\n",
      "The train set R^2 is 0.983\n",
      "The test set R^2 is 0.912\n",
      "The difference between test and train is 0.071\n"
     ]
    }
   ],
   "source": [
    "gbm.fit(X_train,Y_train)\n",
    "print('-'*50)\n",
    "print(\"The train set R^2 is %.3f\" %(gbm.score(X_train, Y_train)))\n",
    "print(\"The test set R^2 is %.3f\" %(gbm.score(X_test,Y_test)))\n",
    "print(\"The difference between test and train is %.3f\" %(gbm.score(X_train, Y_train)-gbm.score(X_test,Y_test)))"
   ]
  },
  {
   "cell_type": "markdown",
   "metadata": {},
   "source": [
    "### Rank the Feature Importance and Select the top 35 features to refit GBM Model"
   ]
  },
  {
   "cell_type": "code",
   "execution_count": 86,
   "metadata": {},
   "outputs": [
    {
     "data": {
      "text/plain": [
       "[('HouseAge', 0.05986308093299578),\n",
       " ('GrLivArea', 0.053123032436120037),\n",
       " ('BsmtQual', 0.0437033945941471),\n",
       " ('GarageArea', 0.0428628332910568),\n",
       " ('OverallQual', 0.04275305176187684),\n",
       " ('ExterQual', 0.04001371999307796),\n",
       " ('FullBath', 0.03919810537939983),\n",
       " ('2ndFlrSF', 0.03660951023059982),\n",
       " ('Fireplaces', 0.03522326810300279),\n",
       " ('KitchenQual', 0.030517173107292506),\n",
       " ('TotalBsmtSF', 0.027672881124814586),\n",
       " ('AdjTotalBsmtSF', 0.02698926267124254),\n",
       " ('HeatingQC', 0.025748308043293554),\n",
       " ('BsmtFinSF1', 0.024527525891424484),\n",
       " ('AdjOutdoorSF', 0.024341445625522592),\n",
       " ('AdjTotalBath', 0.022566821462024166),\n",
       " ('YearBuilt', 0.02183314662821625),\n",
       " ('1stFlrSF', 0.021209430569942112),\n",
       " ('GarageType', 0.020730813370372865),\n",
       " ('BsmtExposure', 0.019636784393280177),\n",
       " ('LotArea', 0.019537057502091885),\n",
       " ('TotRmsAbvGrd', 0.018038011616791225),\n",
       " ('MasVnrArea', 0.017981592284771378),\n",
       " ('GarageFinish', 0.01736891673560805),\n",
       " ('GarageCars', 0.016382246105588985),\n",
       " ('Neighborhood', 0.014888563689822734),\n",
       " ('LotFrontage', 0.014546400539697201),\n",
       " ('WoodDeckSF', 0.014315107090816908),\n",
       " ('FireplaceQu', 0.01352348173458426),\n",
       " ('OpenPorchSF', 0.012895842502754579),\n",
       " ('YearRemodAdd', 0.011291495427464876),\n",
       " ('MSZoning', 0.010146804629568965),\n",
       " ('OverallCond', 0.009374421129320817),\n",
       " ('MasVnrType', 0.008888070864832485),\n",
       " ('Foundation', 0.008708728996756865)]"
      ]
     },
     "execution_count": 86,
     "metadata": {},
     "output_type": "execute_result"
    }
   ],
   "source": [
    "sorted_importance = sorted(zip(X.columns.values, gbm.feature_importances_), key=lambda t:t[1], reverse=True)\n",
    "sorted_importance_top35 = sorted_importance[:35]\n",
    "sorted_importance_top35"
   ]
  },
  {
   "cell_type": "code",
   "execution_count": 87,
   "metadata": {},
   "outputs": [
    {
     "data": {
      "text/plain": [
       "Text(0.5, 1.0, 'Feature Importance Plot of 500-Tree GBM')"
      ]
     },
     "execution_count": 87,
     "metadata": {},
     "output_type": "execute_result"
    },
    {
     "data": {
      "image/png": "[encoded data removed]",
      "text/plain": [
       "<Figure size 1296x864 with 1 Axes>"
      ]
     },
     "metadata": {
      "needs_background": "light"
     },
     "output_type": "display_data"
    }
   ],
   "source": [
    "plt.rcParams['figure.figsize'] = (18,12)\n",
    "a, b = zip(*sorted_importance_top35) # this splits the list of tuples into two lists\n",
    "pd.DataFrame({'feature_name':a, 'importance_score':b}).plot.bar(x='feature_name',y='importance_score', legend=None)\n",
    "feature_selected = a\n",
    "plt.title('Feature Importance Plot of 500-Tree GBM')"
   ]
  },
  {
   "cell_type": "code",
   "execution_count": 88,
   "metadata": {},
   "outputs": [
    {
     "data": {
      "text/html": [
       "<div>\n",
       "<style scoped>\n",
       "    .dataframe tbody tr th:only-of-type {\n",
       "        vertical-align: middle;\n",
       "    }\n",
       "\n",
       "    .dataframe tbody tr th {\n",
       "        vertical-align: top;\n",
       "    }\n",
       "\n",
       "    .dataframe thead th {\n",
       "        text-align: right;\n",
       "    }\n",
       "</style>\n",
       "<table border=\"1\" class=\"dataframe\">\n",
       "  <thead>\n",
       "    <tr style=\"text-align: right;\">\n",
       "      <th></th>\n",
       "      <th>HouseAge</th>\n",
       "      <th>GrLivArea</th>\n",
       "      <th>BsmtQual</th>\n",
       "      <th>GarageArea</th>\n",
       "      <th>OverallQual</th>\n",
       "      <th>ExterQual</th>\n",
       "      <th>FullBath</th>\n",
       "      <th>2ndFlrSF</th>\n",
       "      <th>Fireplaces</th>\n",
       "      <th>KitchenQual</th>\n",
       "      <th>...</th>\n",
       "      <th>Neighborhood</th>\n",
       "      <th>LotFrontage</th>\n",
       "      <th>WoodDeckSF</th>\n",
       "      <th>FireplaceQu</th>\n",
       "      <th>OpenPorchSF</th>\n",
       "      <th>YearRemodAdd</th>\n",
       "      <th>MSZoning</th>\n",
       "      <th>OverallCond</th>\n",
       "      <th>MasVnrType</th>\n",
       "      <th>Foundation</th>\n",
       "    </tr>\n",
       "  </thead>\n",
       "  <tbody>\n",
       "    <tr>\n",
       "      <td>0</td>\n",
       "      <td>5.0</td>\n",
       "      <td>1710.0</td>\n",
       "      <td>2.0</td>\n",
       "      <td>548.0</td>\n",
       "      <td>7.0</td>\n",
       "      <td>2.0</td>\n",
       "      <td>2.0</td>\n",
       "      <td>854.0</td>\n",
       "      <td>0.0</td>\n",
       "      <td>2.0</td>\n",
       "      <td>...</td>\n",
       "      <td>5.0</td>\n",
       "      <td>65.0</td>\n",
       "      <td>0.0</td>\n",
       "      <td>3.0</td>\n",
       "      <td>61.0</td>\n",
       "      <td>2003.0</td>\n",
       "      <td>3.0</td>\n",
       "      <td>5.0</td>\n",
       "      <td>1.0</td>\n",
       "      <td>2.0</td>\n",
       "    </tr>\n",
       "    <tr>\n",
       "      <td>1</td>\n",
       "      <td>31.0</td>\n",
       "      <td>1262.0</td>\n",
       "      <td>2.0</td>\n",
       "      <td>460.0</td>\n",
       "      <td>6.0</td>\n",
       "      <td>3.0</td>\n",
       "      <td>2.0</td>\n",
       "      <td>0.0</td>\n",
       "      <td>1.0</td>\n",
       "      <td>3.0</td>\n",
       "      <td>...</td>\n",
       "      <td>24.0</td>\n",
       "      <td>80.0</td>\n",
       "      <td>298.0</td>\n",
       "      <td>5.0</td>\n",
       "      <td>0.0</td>\n",
       "      <td>1976.0</td>\n",
       "      <td>3.0</td>\n",
       "      <td>8.0</td>\n",
       "      <td>2.0</td>\n",
       "      <td>1.0</td>\n",
       "    </tr>\n",
       "    <tr>\n",
       "      <td>2</td>\n",
       "      <td>6.4</td>\n",
       "      <td>1786.0</td>\n",
       "      <td>2.0</td>\n",
       "      <td>608.0</td>\n",
       "      <td>7.0</td>\n",
       "      <td>2.0</td>\n",
       "      <td>2.0</td>\n",
       "      <td>866.0</td>\n",
       "      <td>1.0</td>\n",
       "      <td>2.0</td>\n",
       "      <td>...</td>\n",
       "      <td>5.0</td>\n",
       "      <td>68.0</td>\n",
       "      <td>0.0</td>\n",
       "      <td>5.0</td>\n",
       "      <td>42.0</td>\n",
       "      <td>2002.0</td>\n",
       "      <td>3.0</td>\n",
       "      <td>5.0</td>\n",
       "      <td>1.0</td>\n",
       "      <td>2.0</td>\n",
       "    </tr>\n",
       "    <tr>\n",
       "      <td>3</td>\n",
       "      <td>58.0</td>\n",
       "      <td>1717.0</td>\n",
       "      <td>4.0</td>\n",
       "      <td>642.0</td>\n",
       "      <td>7.0</td>\n",
       "      <td>3.0</td>\n",
       "      <td>1.0</td>\n",
       "      <td>756.0</td>\n",
       "      <td>1.0</td>\n",
       "      <td>2.0</td>\n",
       "      <td>...</td>\n",
       "      <td>6.0</td>\n",
       "      <td>60.0</td>\n",
       "      <td>0.0</td>\n",
       "      <td>2.0</td>\n",
       "      <td>35.0</td>\n",
       "      <td>1970.0</td>\n",
       "      <td>3.0</td>\n",
       "      <td>5.0</td>\n",
       "      <td>2.0</td>\n",
       "      <td>0.0</td>\n",
       "    </tr>\n",
       "    <tr>\n",
       "      <td>4</td>\n",
       "      <td>8.0</td>\n",
       "      <td>2198.0</td>\n",
       "      <td>2.0</td>\n",
       "      <td>836.0</td>\n",
       "      <td>8.0</td>\n",
       "      <td>2.0</td>\n",
       "      <td>2.0</td>\n",
       "      <td>1053.0</td>\n",
       "      <td>1.0</td>\n",
       "      <td>2.0</td>\n",
       "      <td>...</td>\n",
       "      <td>15.0</td>\n",
       "      <td>84.0</td>\n",
       "      <td>192.0</td>\n",
       "      <td>5.0</td>\n",
       "      <td>84.0</td>\n",
       "      <td>2000.0</td>\n",
       "      <td>3.0</td>\n",
       "      <td>5.0</td>\n",
       "      <td>1.0</td>\n",
       "      <td>2.0</td>\n",
       "    </tr>\n",
       "  </tbody>\n",
       "</table>\n",
       "<p>5 rows × 35 columns</p>\n",
       "</div>"
      ],
      "text/plain": [
       "   HouseAge  GrLivArea  BsmtQual  GarageArea  OverallQual  ExterQual  \\\n",
       "0       5.0     1710.0       2.0       548.0          7.0        2.0   \n",
       "1      31.0     1262.0       2.0       460.0          6.0        3.0   \n",
       "2       6.4     1786.0       2.0       608.0          7.0        2.0   \n",
       "3      58.0     1717.0       4.0       642.0          7.0        3.0   \n",
       "4       8.0     2198.0       2.0       836.0          8.0        2.0   \n",
       "\n",
       "   FullBath  2ndFlrSF  Fireplaces  KitchenQual  ...  Neighborhood  \\\n",
       "0       2.0     854.0         0.0          2.0  ...           5.0   \n",
       "1       2.0       0.0         1.0          3.0  ...          24.0   \n",
       "2       2.0     866.0         1.0          2.0  ...           5.0   \n",
       "3       1.0     756.0         1.0          2.0  ...           6.0   \n",
       "4       2.0    1053.0         1.0          2.0  ...          15.0   \n",
       "\n",
       "   LotFrontage  WoodDeckSF  FireplaceQu  OpenPorchSF  YearRemodAdd  MSZoning  \\\n",
       "0         65.0         0.0          3.0         61.0        2003.0       3.0   \n",
       "1         80.0       298.0          5.0          0.0        1976.0       3.0   \n",
       "2         68.0         0.0          5.0         42.0        2002.0       3.0   \n",
       "3         60.0         0.0          2.0         35.0        1970.0       3.0   \n",
       "4         84.0       192.0          5.0         84.0        2000.0       3.0   \n",
       "\n",
       "   OverallCond  MasVnrType  Foundation  \n",
       "0          5.0         1.0         2.0  \n",
       "1          8.0         2.0         1.0  \n",
       "2          5.0         1.0         2.0  \n",
       "3          5.0         2.0         0.0  \n",
       "4          5.0         1.0         2.0  \n",
       "\n",
       "[5 rows x 35 columns]"
      ]
     },
     "execution_count": 88,
     "metadata": {},
     "output_type": "execute_result"
    }
   ],
   "source": [
    "X_top35 = X.loc[:,list(feature_selected)] # Train Dataset\n",
    "X_Original_Test_Predictor = X_Original_Test.loc[:,list(feature_selected)]\n",
    "X_top35.head(5)"
   ]
  },
  {
   "cell_type": "code",
   "execution_count": 89,
   "metadata": {},
   "outputs": [],
   "source": [
    "X_top35_train, X_top35_test, Y_top35_train, Y_top35_test = train_test_split(X_top35,Y, test_size=0.2,random_state = 42)"
   ]
  },
  {
   "cell_type": "code",
   "execution_count": 90,
   "metadata": {},
   "outputs": [
    {
     "data": {
      "text/plain": [
       "GradientBoostingRegressor(alpha=0.9, criterion='friedman_mse', init=None,\n",
       "                          learning_rate=0.03, loss='ls', max_depth=4,\n",
       "                          max_features=2, max_leaf_nodes=None,\n",
       "                          min_impurity_decrease=0.01, min_impurity_split=None,\n",
       "                          min_samples_leaf=1, min_samples_split=2,\n",
       "                          min_weight_fraction_leaf=0.0, n_estimators=900,\n",
       "                          n_iter_no_change=None, presort='auto',\n",
       "                          random_state=42, subsample=0.7, tol=0.0001,\n",
       "                          validation_fraction=0.1, verbose=1, warm_start=False)"
      ]
     },
     "execution_count": 90,
     "metadata": {},
     "output_type": "execute_result"
    }
   ],
   "source": [
    "gbm_top35 = GradientBoostingRegressor()\n",
    "gbm_top35.set_params(learning_rate=0.03, n_estimators=900, verbose=1, subsample=0.7, warm_start=False, loss='ls', max_depth=4, max_features=2, min_impurity_decrease=0.01,random_state = 42)\n",
    "# subsample = 0.7: each tree only use random 70% of the whole dataset for bagging"
   ]
  },
  {
   "cell_type": "code",
   "execution_count": 91,
   "metadata": {},
   "outputs": [
    {
     "name": "stdout",
     "output_type": "stream",
     "text": [
      "      Iter       Train Loss      OOB Improve   Remaining Time \n",
      "         1  6247726367.8379   180808607.9897            0.91s\n",
      "         2  5051668642.3950   207795156.8871            0.90s\n",
      "         3  5562933517.6264   182623794.3848            0.89s\n",
      "         4  4906762315.1391   198891698.0178            0.89s\n",
      "         5  4783098351.9904   167540982.1750            0.99s\n",
      "         6  4910303393.5195   151347408.7333            0.97s\n",
      "         7  4584462122.2585   160860868.2296            0.96s\n",
      "         8  4381381391.0880   149312049.1506            0.84s\n",
      "         9  4393708917.1968   114953307.1110            0.74s\n",
      "        10  3873151071.8057   157741833.0142            0.67s\n",
      "        20  2806324532.7957    71461868.2699            0.69s\n",
      "        30  1812210709.5940    57052434.9068            0.67s\n",
      "        40  1666870532.0326    29562514.6414            0.58s\n",
      "        50  1179746108.1741    18310061.1663            0.60s\n",
      "        60   888336578.5751    22051101.5548            0.59s\n",
      "        70   742915629.9863     8011282.1234            0.62s\n",
      "        80   692345927.7478     4891533.4864            0.59s\n",
      "        90   572156985.9081     5172879.8800            0.59s\n",
      "       100   548805834.3799     4337123.7309            0.59s\n",
      "       200   249904094.5121      510412.5337            0.45s\n",
      "       300   192988299.0718       35571.5613            0.42s\n",
      "       400   167042585.7299     -144178.4083            0.34s\n",
      "       500   138870095.5592        7469.6142            0.28s\n",
      "       600   105666553.2896       -1190.4173            0.24s\n",
      "       700    95842271.2899      -47732.3755            0.16s\n",
      "       800    74459806.5202      -59106.5756            0.08s\n",
      "       900    68659673.6500      -70488.5373            0.00s\n",
      "--------------------------------------------------\n",
      "The train set R^2 is 0.989\n",
      "The test set R^2 is 0.917\n",
      "Difference between train and test set R^2 is 0.071\n"
     ]
    }
   ],
   "source": [
    "gbm_top35.fit(X_top35_train,Y_top35_train)\n",
    "print('-'*50)\n",
    "print(\"The train set R^2 is %.3f\" %(gbm_top35.score(X_top35_train, Y_top35_train)))\n",
    "print(\"The test set R^2 is %.3f\" %(gbm_top35.score(X_top35_test,Y_top35_test)))\n",
    "a = gbm_top35.score(X_top35_train, Y_top35_train)\n",
    "b = gbm_top35.score(X_top35_test,Y_top35_test)\n",
    "print(\"Difference between train and test set R^2 is %.3f\" % (a-b))"
   ]
  },
  {
   "cell_type": "markdown",
   "metadata": {},
   "source": [
    "### Using GridSerach to Tune Hyperparameters"
   ]
  },
  {
   "cell_type": "code",
   "execution_count": 92,
   "metadata": {},
   "outputs": [
    {
     "name": "stdout",
     "output_type": "stream",
     "text": [
      "      Iter       Train Loss      OOB Improve   Remaining Time \n",
      "         1  6214216091.7554   199157238.7609            0.00s\n",
      "         2  5005135943.9599   242237675.0714            4.54s\n",
      "         3  5494538460.1003   200112907.3206            3.64s\n",
      "         4  4789976436.3665   243842874.6772            2.73s\n",
      "         5  4651120777.5112   199664439.7951            2.18s\n",
      "         6  4739852911.8858   153011989.8939            1.81s\n",
      "         7  4415489181.8236   172633958.1502            1.55s\n",
      "         8  4182511974.6457   171961781.5633            2.25s\n",
      "         9  4190947803.7962   121691194.8689            2.00s\n",
      "        10  3667620127.2430   188397504.0994            1.80s\n",
      "        20  2583304378.7283    71943736.7264            1.47s\n",
      "        30  1627060238.1732    55664393.0946            1.47s\n",
      "        40  1465147318.6565    30854116.4280            1.31s\n",
      "        50  1033397761.7657    16482491.1738            1.24s\n",
      "        60   790864152.8503    16325308.6963            1.14s\n",
      "        70   646989827.2812     8479886.1792            1.08s\n",
      "        80   623150276.4231     -697961.1057            1.10s\n",
      "        90   528022163.7712     4261926.2164            1.12s\n",
      "       100   518462099.2073     1618724.1910            0.99s\n",
      "       200   260030442.1750     -328151.0168            0.84s\n",
      "       300   196803300.9640      -73437.8965            0.61s\n",
      "       400   175762082.9474     -228400.7367            0.47s\n",
      "       500   145729110.6348      -46769.7892            0.39s\n",
      "       600   109158609.1568      -70990.0809            0.27s\n",
      "       700   100541718.2214     -233624.8652            0.18s\n",
      "       800    78615505.0127     -156908.4303            0.09s\n",
      "       900    74751416.8475      -47223.4724            0.00s\n",
      "Wall time: 2min 15s\n"
     ]
    },
    {
     "data": {
      "text/plain": [
       "GridSearchCV(cv=3, error_score='raise-deprecating',\n",
       "             estimator=GradientBoostingRegressor(alpha=0.9,\n",
       "                                                 criterion='friedman_mse',\n",
       "                                                 init=None, learning_rate=0.03,\n",
       "                                                 loss='ls', max_depth=4,\n",
       "                                                 max_features=2,\n",
       "                                                 max_leaf_nodes=None,\n",
       "                                                 min_impurity_decrease=0.01,\n",
       "                                                 min_impurity_split=None,\n",
       "                                                 min_samples_leaf=1,\n",
       "                                                 min_samples_split=2,\n",
       "                                                 min_weight_fraction_leaf=0.0,\n",
       "                                                 n_estimators=900,\n",
       "                                                 n_iter_...\n",
       "                                                 validation_fraction=0.1,\n",
       "                                                 verbose=1, warm_start=False),\n",
       "             iid='warn', n_jobs=6,\n",
       "             param_grid=[{'learning_rate': array([0.02      , 0.02333333, 0.02666667, 0.03      , 0.03333333,\n",
       "       0.03666667, 0.04      , 0.04333333, 0.04666667, 0.05      ]),\n",
       "                          'min_samples_split': array([ 6,  7,  9, 11, 12, 14, 16]),\n",
       "                          'n_estimators': array([500, 600, 700, 800, 900])}],\n",
       "             pre_dispatch='2*n_jobs', refit=True, return_train_score=False,\n",
       "             scoring=None, verbose=0)"
      ]
     },
     "execution_count": 92,
     "metadata": {},
     "output_type": "execute_result"
    }
   ],
   "source": [
    "grid_para_tree = [{\n",
    "    'n_estimators':np.arange(500,1000,100),\n",
    "    'learning_rate':np.linspace(0.02,0.05,10),\n",
    "#     \"min_samples_leaf\": range(1, 10, 3),\n",
    "#     'subsample': np.linspace(0.6,0.9,4),\n",
    "    \"min_samples_split\": np.linspace(start=6, stop=16, num=7, dtype=int) # not recommend to do a through research, try num =7 first \n",
    "}]\n",
    "\n",
    "gbm_top35.set_params(random_state=42)\n",
    "grid_search_tree = GridSearchCV(gbm_top35, grid_para_tree, cv=3, n_jobs=6)\n",
    "%time grid_search_tree.fit(X_top35_train, Y_top35_train)"
   ]
  },
  {
   "cell_type": "code",
   "execution_count": 93,
   "metadata": {},
   "outputs": [
    {
     "data": {
      "text/plain": [
       "{'learning_rate': 0.03333333333333333,\n",
       " 'min_samples_split': 11,\n",
       " 'n_estimators': 900}"
      ]
     },
     "execution_count": 93,
     "metadata": {},
     "output_type": "execute_result"
    }
   ],
   "source": [
    "## best parameters\n",
    "grid_search_tree.best_params_"
   ]
  },
  {
   "cell_type": "code",
   "execution_count": 94,
   "metadata": {},
   "outputs": [
    {
     "name": "stdout",
     "output_type": "stream",
     "text": [
      "Train set score is: 0.988\n",
      "Test set score is: 0.920\n"
     ]
    }
   ],
   "source": [
    "print(\"Train set score is: %.3f\" % grid_search_tree.score(X_top35_train, Y_top35_train))\n",
    "print(\"Test set score is: %.3f\" % grid_search_tree.score(X_top35_test, Y_top35_test))"
   ]
  },
  {
   "cell_type": "markdown",
   "metadata": {},
   "source": [
    "### Use the best parameters and make a prediction on original test dataset"
   ]
  },
  {
   "cell_type": "code",
   "execution_count": 95,
   "metadata": {},
   "outputs": [
    {
     "data": {
      "text/html": [
       "<div>\n",
       "<style scoped>\n",
       "    .dataframe tbody tr th:only-of-type {\n",
       "        vertical-align: middle;\n",
       "    }\n",
       "\n",
       "    .dataframe tbody tr th {\n",
       "        vertical-align: top;\n",
       "    }\n",
       "\n",
       "    .dataframe thead th {\n",
       "        text-align: right;\n",
       "    }\n",
       "</style>\n",
       "<table border=\"1\" class=\"dataframe\">\n",
       "  <thead>\n",
       "    <tr style=\"text-align: right;\">\n",
       "      <th></th>\n",
       "      <th>Id</th>\n",
       "      <th>SalePrice</th>\n",
       "    </tr>\n",
       "  </thead>\n",
       "  <tbody>\n",
       "    <tr>\n",
       "      <td>0</td>\n",
       "      <td>1461</td>\n",
       "      <td>132127.027709</td>\n",
       "    </tr>\n",
       "    <tr>\n",
       "      <td>1</td>\n",
       "      <td>1462</td>\n",
       "      <td>161057.770814</td>\n",
       "    </tr>\n",
       "    <tr>\n",
       "      <td>2</td>\n",
       "      <td>1463</td>\n",
       "      <td>190688.933371</td>\n",
       "    </tr>\n",
       "    <tr>\n",
       "      <td>3</td>\n",
       "      <td>1464</td>\n",
       "      <td>202627.325208</td>\n",
       "    </tr>\n",
       "    <tr>\n",
       "      <td>4</td>\n",
       "      <td>1465</td>\n",
       "      <td>192296.019318</td>\n",
       "    </tr>\n",
       "    <tr>\n",
       "      <td>...</td>\n",
       "      <td>...</td>\n",
       "      <td>...</td>\n",
       "    </tr>\n",
       "    <tr>\n",
       "      <td>1454</td>\n",
       "      <td>2915</td>\n",
       "      <td>78589.327306</td>\n",
       "    </tr>\n",
       "    <tr>\n",
       "      <td>1455</td>\n",
       "      <td>2916</td>\n",
       "      <td>82905.314886</td>\n",
       "    </tr>\n",
       "    <tr>\n",
       "      <td>1456</td>\n",
       "      <td>2917</td>\n",
       "      <td>194068.129127</td>\n",
       "    </tr>\n",
       "    <tr>\n",
       "      <td>1457</td>\n",
       "      <td>2918</td>\n",
       "      <td>130182.084089</td>\n",
       "    </tr>\n",
       "    <tr>\n",
       "      <td>1458</td>\n",
       "      <td>2919</td>\n",
       "      <td>218925.809876</td>\n",
       "    </tr>\n",
       "  </tbody>\n",
       "</table>\n",
       "<p>1459 rows × 2 columns</p>\n",
       "</div>"
      ],
      "text/plain": [
       "        Id      SalePrice\n",
       "0     1461  132127.027709\n",
       "1     1462  161057.770814\n",
       "2     1463  190688.933371\n",
       "3     1464  202627.325208\n",
       "4     1465  192296.019318\n",
       "...    ...            ...\n",
       "1454  2915   78589.327306\n",
       "1455  2916   82905.314886\n",
       "1456  2917  194068.129127\n",
       "1457  2918  130182.084089\n",
       "1458  2919  218925.809876\n",
       "\n",
       "[1459 rows x 2 columns]"
      ]
     },
     "execution_count": 95,
     "metadata": {},
     "output_type": "execute_result"
    }
   ],
   "source": [
    "Predicted_test_price = grid_search_tree.predict(X_Original_Test_Predictor)\n",
    "Final_Price_GBM = pd.DataFrame(np.concatenate([pd.DataFrame(X_Original_Test['Id']),pd.DataFrame(Predicted_test_price)],axis=1))\n",
    "Final_Price_GBM.columns= ['Id','SalePrice']\n",
    "Final_Price_GBM['Id'] = Final_Price_GBM['Id'].astype('int32')\n",
    "Final_Price_GBM"
   ]
  },
  {
   "cell_type": "code",
   "execution_count": 96,
   "metadata": {},
   "outputs": [],
   "source": [
    "Final_Price_GBM.to_csv(\"test_price_GBM.csv\", index = False)"
   ]
  },
  {
   "cell_type": "markdown",
   "metadata": {},
   "source": [
    "### Stacking Linear Model and Tree Based Model"
   ]
  },
  {
   "cell_type": "code",
   "execution_count": 97,
   "metadata": {},
   "outputs": [],
   "source": [
    "# ratios = np.linspace(0.1,0.9,9)\n",
    "# for ratio in ratios:\n",
    "#     Final_Price_Stacked = Final_Price_Lasso.copy()\n",
    "#     Final_Price_Stacked['SalePrice'] = Final_Price_Lasso['SalePrice']*ratio+Final_Price_GBM['SalePrice']*(1-ratio)\n",
    "#     Final_Price_Stacked.to_csv(\"test_price_stacked_\"+str(ratio)+\".csv\", index = False)"
   ]
  },
  {
   "cell_type": "markdown",
   "metadata": {},
   "source": [
    "# Step 6 - Stacking Lasso and GBM"
   ]
  },
  {
   "cell_type": "code",
   "execution_count": 98,
   "metadata": {},
   "outputs": [],
   "source": [
    "ratio = 0.6\n",
    "Final_Price_Stacked = Final_Price_Lasso.copy()\n",
    "Final_Price_Stacked['SalePrice'] = Final_Price_Lasso['SalePrice']*ratio+Final_Price_GBM['SalePrice']*(1-ratio)\n",
    "Final_Price_Stacked.to_csv(\"test_price_stacked_\"+str(ratio)+\".csv\", index = False)"
   ]
  },
  {
   "cell_type": "markdown",
   "metadata": {},
   "source": [
    "# Step 7- Stacking Lasso, Baysian Ridge and GBM"
   ]
  },
  {
   "cell_type": "code",
   "execution_count": 99,
   "metadata": {},
   "outputs": [
    {
     "data": {
      "text/html": [
       "<div>\n",
       "<style scoped>\n",
       "    .dataframe tbody tr th:only-of-type {\n",
       "        vertical-align: middle;\n",
       "    }\n",
       "\n",
       "    .dataframe tbody tr th {\n",
       "        vertical-align: top;\n",
       "    }\n",
       "\n",
       "    .dataframe thead th {\n",
       "        text-align: right;\n",
       "    }\n",
       "</style>\n",
       "<table border=\"1\" class=\"dataframe\">\n",
       "  <thead>\n",
       "    <tr style=\"text-align: right;\">\n",
       "      <th></th>\n",
       "      <th>Id</th>\n",
       "      <th>SalePrice</th>\n",
       "    </tr>\n",
       "  </thead>\n",
       "  <tbody>\n",
       "    <tr>\n",
       "      <td>0</td>\n",
       "      <td>1461</td>\n",
       "      <td>121276.087825</td>\n",
       "    </tr>\n",
       "    <tr>\n",
       "      <td>1</td>\n",
       "      <td>1462</td>\n",
       "      <td>176879.865936</td>\n",
       "    </tr>\n",
       "    <tr>\n",
       "      <td>2</td>\n",
       "      <td>1463</td>\n",
       "      <td>183995.630032</td>\n",
       "    </tr>\n",
       "    <tr>\n",
       "      <td>3</td>\n",
       "      <td>1464</td>\n",
       "      <td>197369.838555</td>\n",
       "    </tr>\n",
       "    <tr>\n",
       "      <td>4</td>\n",
       "      <td>1465</td>\n",
       "      <td>187022.359403</td>\n",
       "    </tr>\n",
       "    <tr>\n",
       "      <td>...</td>\n",
       "      <td>...</td>\n",
       "      <td>...</td>\n",
       "    </tr>\n",
       "    <tr>\n",
       "      <td>1454</td>\n",
       "      <td>2915</td>\n",
       "      <td>83716.463808</td>\n",
       "    </tr>\n",
       "    <tr>\n",
       "      <td>1455</td>\n",
       "      <td>2916</td>\n",
       "      <td>86345.094429</td>\n",
       "    </tr>\n",
       "    <tr>\n",
       "      <td>1456</td>\n",
       "      <td>2917</td>\n",
       "      <td>180720.164502</td>\n",
       "    </tr>\n",
       "    <tr>\n",
       "      <td>1457</td>\n",
       "      <td>2918</td>\n",
       "      <td>125161.759221</td>\n",
       "    </tr>\n",
       "    <tr>\n",
       "      <td>1458</td>\n",
       "      <td>2919</td>\n",
       "      <td>219295.375435</td>\n",
       "    </tr>\n",
       "  </tbody>\n",
       "</table>\n",
       "<p>1459 rows × 2 columns</p>\n",
       "</div>"
      ],
      "text/plain": [
       "        Id      SalePrice\n",
       "0     1461  121276.087825\n",
       "1     1462  176879.865936\n",
       "2     1463  183995.630032\n",
       "3     1464  197369.838555\n",
       "4     1465  187022.359403\n",
       "...    ...            ...\n",
       "1454  2915   83716.463808\n",
       "1455  2916   86345.094429\n",
       "1456  2917  180720.164502\n",
       "1457  2918  125161.759221\n",
       "1458  2919  219295.375435\n",
       "\n",
       "[1459 rows x 2 columns]"
      ]
     },
     "execution_count": 99,
     "metadata": {},
     "output_type": "execute_result"
    }
   ],
   "source": [
    "Final_Price_Stacked = Final_Price_Lasso.copy()\n",
    "Final_Price_Stacked['SalePrice'] = Final_Price_Lasso['SalePrice']*0.2+ \\\n",
    "                                   Final_Price_BayesianRidge_gridSearch['SalePrice']*0.3 + \\\n",
    "                                   Final_Price_GBM['SalePrice']*0.5\n",
    "Final_Price_Stacked"
   ]
  },
  {
   "cell_type": "code",
   "execution_count": 100,
   "metadata": {},
   "outputs": [],
   "source": [
    "Final_Price_Stacked.to_csv(\"test_price_stacked_3models.csv\", index = False)"
   ]
  },
  {
   "cell_type": "markdown",
   "metadata": {},
   "source": [
    "# Step 8 - K-means (unsupervised) clustering"
   ]
  },
  {
   "cell_type": "markdown",
   "metadata": {},
   "source": [
    "### Use list of most important 35 features from tree models"
   ]
  },
  {
   "cell_type": "code",
   "execution_count": 101,
   "metadata": {},
   "outputs": [
    {
     "name": "stdout",
     "output_type": "stream",
     "text": [
      "Shape: (1460, 35)\n"
     ]
    },
    {
     "data": {
      "text/html": [
       "<div>\n",
       "<style scoped>\n",
       "    .dataframe tbody tr th:only-of-type {\n",
       "        vertical-align: middle;\n",
       "    }\n",
       "\n",
       "    .dataframe tbody tr th {\n",
       "        vertical-align: top;\n",
       "    }\n",
       "\n",
       "    .dataframe thead th {\n",
       "        text-align: right;\n",
       "    }\n",
       "</style>\n",
       "<table border=\"1\" class=\"dataframe\">\n",
       "  <thead>\n",
       "    <tr style=\"text-align: right;\">\n",
       "      <th></th>\n",
       "      <th>HouseAge</th>\n",
       "      <th>GrLivArea</th>\n",
       "      <th>BsmtQual</th>\n",
       "      <th>GarageArea</th>\n",
       "      <th>OverallQual</th>\n",
       "      <th>ExterQual</th>\n",
       "      <th>FullBath</th>\n",
       "      <th>2ndFlrSF</th>\n",
       "      <th>Fireplaces</th>\n",
       "      <th>KitchenQual</th>\n",
       "      <th>...</th>\n",
       "      <th>Neighborhood</th>\n",
       "      <th>LotFrontage</th>\n",
       "      <th>WoodDeckSF</th>\n",
       "      <th>FireplaceQu</th>\n",
       "      <th>OpenPorchSF</th>\n",
       "      <th>YearRemodAdd</th>\n",
       "      <th>MSZoning</th>\n",
       "      <th>OverallCond</th>\n",
       "      <th>MasVnrType</th>\n",
       "      <th>Foundation</th>\n",
       "    </tr>\n",
       "  </thead>\n",
       "  <tbody>\n",
       "    <tr>\n",
       "      <td>0</td>\n",
       "      <td>5.0</td>\n",
       "      <td>1710.0</td>\n",
       "      <td>2.0</td>\n",
       "      <td>548.0</td>\n",
       "      <td>7.0</td>\n",
       "      <td>2.0</td>\n",
       "      <td>2.0</td>\n",
       "      <td>854.0</td>\n",
       "      <td>0.0</td>\n",
       "      <td>2.0</td>\n",
       "      <td>...</td>\n",
       "      <td>5.0</td>\n",
       "      <td>65.0</td>\n",
       "      <td>0.0</td>\n",
       "      <td>3.0</td>\n",
       "      <td>61.0</td>\n",
       "      <td>2003.0</td>\n",
       "      <td>3.0</td>\n",
       "      <td>5.0</td>\n",
       "      <td>1.0</td>\n",
       "      <td>2.0</td>\n",
       "    </tr>\n",
       "    <tr>\n",
       "      <td>1</td>\n",
       "      <td>31.0</td>\n",
       "      <td>1262.0</td>\n",
       "      <td>2.0</td>\n",
       "      <td>460.0</td>\n",
       "      <td>6.0</td>\n",
       "      <td>3.0</td>\n",
       "      <td>2.0</td>\n",
       "      <td>0.0</td>\n",
       "      <td>1.0</td>\n",
       "      <td>3.0</td>\n",
       "      <td>...</td>\n",
       "      <td>24.0</td>\n",
       "      <td>80.0</td>\n",
       "      <td>298.0</td>\n",
       "      <td>5.0</td>\n",
       "      <td>0.0</td>\n",
       "      <td>1976.0</td>\n",
       "      <td>3.0</td>\n",
       "      <td>8.0</td>\n",
       "      <td>2.0</td>\n",
       "      <td>1.0</td>\n",
       "    </tr>\n",
       "    <tr>\n",
       "      <td>2</td>\n",
       "      <td>6.4</td>\n",
       "      <td>1786.0</td>\n",
       "      <td>2.0</td>\n",
       "      <td>608.0</td>\n",
       "      <td>7.0</td>\n",
       "      <td>2.0</td>\n",
       "      <td>2.0</td>\n",
       "      <td>866.0</td>\n",
       "      <td>1.0</td>\n",
       "      <td>2.0</td>\n",
       "      <td>...</td>\n",
       "      <td>5.0</td>\n",
       "      <td>68.0</td>\n",
       "      <td>0.0</td>\n",
       "      <td>5.0</td>\n",
       "      <td>42.0</td>\n",
       "      <td>2002.0</td>\n",
       "      <td>3.0</td>\n",
       "      <td>5.0</td>\n",
       "      <td>1.0</td>\n",
       "      <td>2.0</td>\n",
       "    </tr>\n",
       "    <tr>\n",
       "      <td>3</td>\n",
       "      <td>58.0</td>\n",
       "      <td>1717.0</td>\n",
       "      <td>4.0</td>\n",
       "      <td>642.0</td>\n",
       "      <td>7.0</td>\n",
       "      <td>3.0</td>\n",
       "      <td>1.0</td>\n",
       "      <td>756.0</td>\n",
       "      <td>1.0</td>\n",
       "      <td>2.0</td>\n",
       "      <td>...</td>\n",
       "      <td>6.0</td>\n",
       "      <td>60.0</td>\n",
       "      <td>0.0</td>\n",
       "      <td>2.0</td>\n",
       "      <td>35.0</td>\n",
       "      <td>1970.0</td>\n",
       "      <td>3.0</td>\n",
       "      <td>5.0</td>\n",
       "      <td>2.0</td>\n",
       "      <td>0.0</td>\n",
       "    </tr>\n",
       "    <tr>\n",
       "      <td>4</td>\n",
       "      <td>8.0</td>\n",
       "      <td>2198.0</td>\n",
       "      <td>2.0</td>\n",
       "      <td>836.0</td>\n",
       "      <td>8.0</td>\n",
       "      <td>2.0</td>\n",
       "      <td>2.0</td>\n",
       "      <td>1053.0</td>\n",
       "      <td>1.0</td>\n",
       "      <td>2.0</td>\n",
       "      <td>...</td>\n",
       "      <td>15.0</td>\n",
       "      <td>84.0</td>\n",
       "      <td>192.0</td>\n",
       "      <td>5.0</td>\n",
       "      <td>84.0</td>\n",
       "      <td>2000.0</td>\n",
       "      <td>3.0</td>\n",
       "      <td>5.0</td>\n",
       "      <td>1.0</td>\n",
       "      <td>2.0</td>\n",
       "    </tr>\n",
       "  </tbody>\n",
       "</table>\n",
       "<p>5 rows × 35 columns</p>\n",
       "</div>"
      ],
      "text/plain": [
       "   HouseAge  GrLivArea  BsmtQual  GarageArea  OverallQual  ExterQual  \\\n",
       "0       5.0     1710.0       2.0       548.0          7.0        2.0   \n",
       "1      31.0     1262.0       2.0       460.0          6.0        3.0   \n",
       "2       6.4     1786.0       2.0       608.0          7.0        2.0   \n",
       "3      58.0     1717.0       4.0       642.0          7.0        3.0   \n",
       "4       8.0     2198.0       2.0       836.0          8.0        2.0   \n",
       "\n",
       "   FullBath  2ndFlrSF  Fireplaces  KitchenQual  ...  Neighborhood  \\\n",
       "0       2.0     854.0         0.0          2.0  ...           5.0   \n",
       "1       2.0       0.0         1.0          3.0  ...          24.0   \n",
       "2       2.0     866.0         1.0          2.0  ...           5.0   \n",
       "3       1.0     756.0         1.0          2.0  ...           6.0   \n",
       "4       2.0    1053.0         1.0          2.0  ...          15.0   \n",
       "\n",
       "   LotFrontage  WoodDeckSF  FireplaceQu  OpenPorchSF  YearRemodAdd  MSZoning  \\\n",
       "0         65.0         0.0          3.0         61.0        2003.0       3.0   \n",
       "1         80.0       298.0          5.0          0.0        1976.0       3.0   \n",
       "2         68.0         0.0          5.0         42.0        2002.0       3.0   \n",
       "3         60.0         0.0          2.0         35.0        1970.0       3.0   \n",
       "4         84.0       192.0          5.0         84.0        2000.0       3.0   \n",
       "\n",
       "   OverallCond  MasVnrType  Foundation  \n",
       "0          5.0         1.0         2.0  \n",
       "1          8.0         2.0         1.0  \n",
       "2          5.0         1.0         2.0  \n",
       "3          5.0         2.0         0.0  \n",
       "4          5.0         1.0         2.0  \n",
       "\n",
       "[5 rows x 35 columns]"
      ]
     },
     "execution_count": 101,
     "metadata": {},
     "output_type": "execute_result"
    }
   ],
   "source": [
    "# List of 35 features for k-means clustering\n",
    "feature_list_for_k_means = []\n",
    "\n",
    "for feature_tuple in sorted_importance_top35:\n",
    "    feature_list_for_k_means.append(feature_tuple[0])\n",
    "\n",
    "# We have sliced X by the 35 most important features as ranked by forests\n",
    "X_for_k_means = X[feature_list_for_k_means]\n",
    "print(\"Shape:\",X_for_k_means.shape)\n",
    "X_for_k_means.head(n = 5)"
   ]
  },
  {
   "cell_type": "markdown",
   "metadata": {},
   "source": [
    "### Use the elbow method to find the optimal number of clusters"
   ]
  },
  {
   "cell_type": "code",
   "execution_count": 102,
   "metadata": {},
   "outputs": [
    {
     "data": {
      "image/png": "[encoded data removed]",
      "text/plain": [
       "<Figure size 1296x864 with 1 Axes>"
      ]
     },
     "metadata": {
      "needs_background": "light"
     },
     "output_type": "display_data"
    }
   ],
   "source": [
    "# Standardize the data to avoid issues where wider range features dominate in k-means\n",
    "from sklearn.preprocessing import StandardScaler\n",
    "\n",
    "scaler = StandardScaler()\n",
    "scaler.fit(X_for_k_means)\n",
    "X_for_k_means_scaled = scaler.transform(X_for_k_means)\n",
    "\n",
    "# Now, use standardized features to run k-means, and then tell me the optimal number of clusters\n",
    "from sklearn.cluster import KMeans\n",
    "from scipy.spatial.distance import cdist \n",
    "\n",
    "# Choosing the number of clusters using the elbow method\n",
    "distortions = []\n",
    "K_max = 20\n",
    "K = range(1, K_max) \n",
    "  \n",
    "for k in K: \n",
    "    #Building and fitting the model \n",
    "    kmeanModel = KMeans(n_clusters=k) \n",
    "    kmeanModel.fit(X_for_k_means_scaled)     \n",
    "      \n",
    "    distortions.append(sum(np.min(cdist(X_for_k_means_scaled, kmeanModel.cluster_centers_, 'euclidean'),axis=1)) / X.shape[0]) \n",
    "\n",
    "plt.plot(K, distortions, 'bx-') \n",
    "plt.xlabel('Values of K') \n",
    "plt.ylabel('Distortion') \n",
    "plt.title('The Elbow Method using Distortion') \n",
    "plt.show() "
   ]
  },
  {
   "cell_type": "code",
   "execution_count": 103,
   "metadata": {},
   "outputs": [],
   "source": [
    "### Looks like the optimal number is around 6 clusters"
   ]
  },
  {
   "cell_type": "code",
   "execution_count": 104,
   "metadata": {},
   "outputs": [
    {
     "data": {
      "text/html": [
       "<div>\n",
       "<style scoped>\n",
       "    .dataframe tbody tr th:only-of-type {\n",
       "        vertical-align: middle;\n",
       "    }\n",
       "\n",
       "    .dataframe tbody tr th {\n",
       "        vertical-align: top;\n",
       "    }\n",
       "\n",
       "    .dataframe thead th {\n",
       "        text-align: right;\n",
       "    }\n",
       "</style>\n",
       "<table border=\"1\" class=\"dataframe\">\n",
       "  <thead>\n",
       "    <tr style=\"text-align: right;\">\n",
       "      <th></th>\n",
       "      <th>cluster</th>\n",
       "    </tr>\n",
       "  </thead>\n",
       "  <tbody>\n",
       "    <tr>\n",
       "      <td>0</td>\n",
       "      <td>5</td>\n",
       "    </tr>\n",
       "    <tr>\n",
       "      <td>1</td>\n",
       "      <td>2</td>\n",
       "    </tr>\n",
       "    <tr>\n",
       "      <td>2</td>\n",
       "      <td>5</td>\n",
       "    </tr>\n",
       "    <tr>\n",
       "      <td>3</td>\n",
       "      <td>1</td>\n",
       "    </tr>\n",
       "    <tr>\n",
       "      <td>4</td>\n",
       "      <td>5</td>\n",
       "    </tr>\n",
       "  </tbody>\n",
       "</table>\n",
       "</div>"
      ],
      "text/plain": [
       "   cluster\n",
       "0        5\n",
       "1        2\n",
       "2        5\n",
       "3        1\n",
       "4        5"
      ]
     },
     "execution_count": 104,
     "metadata": {},
     "output_type": "execute_result"
    }
   ],
   "source": [
    "# Fit k-means with 6 clusters to each of the rows (houses), using standardized data\n",
    "k_means_clustering = KMeans(n_clusters = 6, n_init = 10)\n",
    "k_means_clustering.fit(X_for_k_means_scaled)\n",
    "\n",
    "# Turn this into a pandas dataframe\n",
    "X_labels = pd.DataFrame(k_means_clustering.labels_, columns = [\"cluster\"])\n",
    "X_labels.head(n=5)"
   ]
  },
  {
   "cell_type": "code",
   "execution_count": 105,
   "metadata": {},
   "outputs": [
    {
     "data": {
      "text/plain": [
       "(1460, 37)"
      ]
     },
     "execution_count": 105,
     "metadata": {},
     "output_type": "execute_result"
    }
   ],
   "source": [
    "# Add the cluster as a new feature, and also add the saleprice back to the dataframe\n",
    "X_clustered = X_for_k_means.join(X_labels)\n",
    "X_clustered = X_clustered.join(df_train[\"SalePrice\"])\n",
    "X_clustered.shape"
   ]
  },
  {
   "cell_type": "code",
   "execution_count": 106,
   "metadata": {},
   "outputs": [
    {
     "data": {
      "text/html": [
       "<div>\n",
       "<style scoped>\n",
       "    .dataframe tbody tr th:only-of-type {\n",
       "        vertical-align: middle;\n",
       "    }\n",
       "\n",
       "    .dataframe tbody tr th {\n",
       "        vertical-align: top;\n",
       "    }\n",
       "\n",
       "    .dataframe thead th {\n",
       "        text-align: right;\n",
       "    }\n",
       "</style>\n",
       "<table border=\"1\" class=\"dataframe\">\n",
       "  <thead>\n",
       "    <tr style=\"text-align: right;\">\n",
       "      <th></th>\n",
       "      <th>SalePrice</th>\n",
       "      <th>YearBuilt</th>\n",
       "      <th>HouseAge</th>\n",
       "      <th>GrLivArea</th>\n",
       "      <th>1stFlrSF</th>\n",
       "      <th>FullBath</th>\n",
       "      <th>LotFrontage</th>\n",
       "      <th>OverallQual</th>\n",
       "      <th>KitchenQual</th>\n",
       "    </tr>\n",
       "    <tr>\n",
       "      <th>cluster</th>\n",
       "      <th></th>\n",
       "      <th></th>\n",
       "      <th></th>\n",
       "      <th></th>\n",
       "      <th></th>\n",
       "      <th></th>\n",
       "      <th></th>\n",
       "      <th></th>\n",
       "      <th></th>\n",
       "    </tr>\n",
       "  </thead>\n",
       "  <tbody>\n",
       "    <tr>\n",
       "      <td>4</td>\n",
       "      <td>341000.0</td>\n",
       "      <td>2006.0</td>\n",
       "      <td>1.4</td>\n",
       "      <td>2020.0</td>\n",
       "      <td>1792.0</td>\n",
       "      <td>2.0</td>\n",
       "      <td>86.0</td>\n",
       "      <td>8.0</td>\n",
       "      <td>0.0</td>\n",
       "    </tr>\n",
       "    <tr>\n",
       "      <td>5</td>\n",
       "      <td>205000.0</td>\n",
       "      <td>2000.0</td>\n",
       "      <td>7.0</td>\n",
       "      <td>1786.0</td>\n",
       "      <td>927.0</td>\n",
       "      <td>2.0</td>\n",
       "      <td>70.0</td>\n",
       "      <td>7.0</td>\n",
       "      <td>2.0</td>\n",
       "    </tr>\n",
       "    <tr>\n",
       "      <td>0</td>\n",
       "      <td>203500.0</td>\n",
       "      <td>2004.0</td>\n",
       "      <td>4.0</td>\n",
       "      <td>1457.5</td>\n",
       "      <td>1442.0</td>\n",
       "      <td>2.0</td>\n",
       "      <td>70.0</td>\n",
       "      <td>7.0</td>\n",
       "      <td>2.0</td>\n",
       "    </tr>\n",
       "    <tr>\n",
       "      <td>2</td>\n",
       "      <td>180000.0</td>\n",
       "      <td>1965.0</td>\n",
       "      <td>36.0</td>\n",
       "      <td>1788.0</td>\n",
       "      <td>1390.0</td>\n",
       "      <td>2.0</td>\n",
       "      <td>80.0</td>\n",
       "      <td>6.0</td>\n",
       "      <td>3.0</td>\n",
       "    </tr>\n",
       "    <tr>\n",
       "      <td>3</td>\n",
       "      <td>138650.0</td>\n",
       "      <td>1965.0</td>\n",
       "      <td>35.0</td>\n",
       "      <td>1077.5</td>\n",
       "      <td>1053.0</td>\n",
       "      <td>1.0</td>\n",
       "      <td>72.0</td>\n",
       "      <td>5.0</td>\n",
       "      <td>3.0</td>\n",
       "    </tr>\n",
       "    <tr>\n",
       "      <td>1</td>\n",
       "      <td>113000.0</td>\n",
       "      <td>1932.0</td>\n",
       "      <td>56.4</td>\n",
       "      <td>1218.0</td>\n",
       "      <td>864.0</td>\n",
       "      <td>1.0</td>\n",
       "      <td>60.0</td>\n",
       "      <td>5.0</td>\n",
       "      <td>3.0</td>\n",
       "    </tr>\n",
       "  </tbody>\n",
       "</table>\n",
       "</div>"
      ],
      "text/plain": [
       "         SalePrice  YearBuilt  HouseAge  GrLivArea  1stFlrSF  FullBath  \\\n",
       "cluster                                                                  \n",
       "4         341000.0     2006.0       1.4     2020.0    1792.0       2.0   \n",
       "5         205000.0     2000.0       7.0     1786.0     927.0       2.0   \n",
       "0         203500.0     2004.0       4.0     1457.5    1442.0       2.0   \n",
       "2         180000.0     1965.0      36.0     1788.0    1390.0       2.0   \n",
       "3         138650.0     1965.0      35.0     1077.5    1053.0       1.0   \n",
       "1         113000.0     1932.0      56.4     1218.0     864.0       1.0   \n",
       "\n",
       "         LotFrontage  OverallQual  KitchenQual  \n",
       "cluster                                         \n",
       "4               86.0          8.0          0.0  \n",
       "5               70.0          7.0          2.0  \n",
       "0               70.0          7.0          2.0  \n",
       "2               80.0          6.0          3.0  \n",
       "3               72.0          5.0          3.0  \n",
       "1               60.0          5.0          3.0  "
      ]
     },
     "execution_count": 106,
     "metadata": {},
     "output_type": "execute_result"
    }
   ],
   "source": [
    "# Print out details of the clusters\n",
    "k_means_feature_list = [\"SalePrice\", \"YearBuilt\", \"HouseAge\", \"GrLivArea\", \"1stFlrSF\", \"FullBath\", \"LotFrontage\", \"OverallQual\", \"KitchenQual\"]\n",
    "X_clustered.groupby(\"cluster\")[k_means_feature_list].aggregate(\"median\").sort_values(\"SalePrice\", ascending = False)"
   ]
  }
 ],
 "metadata": {
  "kernelspec": {
   "display_name": "Python 3",
   "language": "python",
   "name": "python3"
  },
  "language_info": {
   "codemirror_mode": {
    "name": "ipython",
    "version": 3
   },
   "file_extension": ".py",
   "mimetype": "text/x-python",
   "name": "python",
   "nbconvert_exporter": "python",
   "pygments_lexer": "ipython3",
   "version": "3.7.4"
  }
 },
 "nbformat": 4,
 "nbformat_minor": 2
}
