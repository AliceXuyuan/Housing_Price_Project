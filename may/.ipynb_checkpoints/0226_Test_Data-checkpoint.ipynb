{
 "cells": [
  {
   "cell_type": "code",
   "execution_count": 11,
   "metadata": {},
   "outputs": [],
   "source": [
    "# Import required libraries\n",
    "import pandas as pd\n",
    "import numpy as np\n",
    "import matplotlib.pyplot as plt\n",
    "%matplotlib inline\n",
    "#df = pd.read_csv(\"train.csv\")\n",
    "df_test = pd.read_csv('test.csv')"
   ]
  },
  {
   "cell_type": "code",
   "execution_count": 12,
   "metadata": {},
   "outputs": [
    {
     "data": {
      "text/plain": [
       "(1459, 80)"
      ]
     },
     "execution_count": 12,
     "metadata": {},
     "output_type": "execute_result"
    }
   ],
   "source": [
    "df_test.shape"
   ]
  },
  {
   "cell_type": "markdown",
   "metadata": {},
   "source": [
    "# NA Imputation"
   ]
  },
  {
   "cell_type": "markdown",
   "metadata": {},
   "source": [
    "#### Missing Values in Test Data"
   ]
  },
  {
   "cell_type": "code",
   "execution_count": 13,
   "metadata": {},
   "outputs": [
    {
     "name": "stdout",
     "output_type": "stream",
     "text": [
      "No      951\n",
      "Av      197\n",
      "Gd      142\n",
      "Mn      125\n",
      "None     44\n",
      "Name: BsmtExposure, dtype: int64\n",
      "********************\n",
      "TA      634\n",
      "Gd      591\n",
      "Ex      137\n",
      "Fa       53\n",
      "None     44\n",
      "Name: BsmtQual, dtype: int64\n",
      "********************\n",
      "None    730\n",
      "Gd      364\n",
      "TA      279\n",
      "Fa       41\n",
      "Po       26\n",
      "Ex       19\n",
      "Name: FireplaceQu, dtype: int64\n",
      "********************\n",
      "TA      1293\n",
      "None      78\n",
      "Fa        76\n",
      "Gd        10\n",
      "Po         2\n",
      "Name: GarageQual, dtype: int64\n",
      "********************\n"
     ]
    }
   ],
   "source": [
    "series_names = ['BsmtExposure','BsmtQual','FireplaceQu','GarageQual']\n",
    "for series_name in series_names:\n",
    "    df_test.loc[df_test[series_name].isnull(),series_name] = 'None'\n",
    "    print(df_test[series_name].value_counts(sort = True))\n",
    "    print('*'*20)"
   ]
  },
  {
   "cell_type": "code",
   "execution_count": 14,
   "metadata": {
    "scrolled": true
   },
   "outputs": [
    {
     "data": {
      "text/plain": [
       "MSZoning           4\n",
       "LotFrontage      227\n",
       "Alley           1352\n",
       "Utilities          2\n",
       "Exterior1st        1\n",
       "Exterior2nd        1\n",
       "MasVnrType        16\n",
       "MasVnrArea        15\n",
       "BsmtCond          45\n",
       "BsmtFinType1      42\n",
       "BsmtFinSF1         1\n",
       "BsmtFinType2      42\n",
       "BsmtFinSF2         1\n",
       "BsmtUnfSF          1\n",
       "TotalBsmtSF        1\n",
       "BsmtFullBath       2\n",
       "BsmtHalfBath       2\n",
       "KitchenQual        1\n",
       "Functional         2\n",
       "GarageType        76\n",
       "GarageYrBlt       78\n",
       "GarageFinish      78\n",
       "GarageCars         1\n",
       "GarageArea         1\n",
       "GarageCond        78\n",
       "PoolQC          1456\n",
       "Fence           1169\n",
       "MiscFeature     1408\n",
       "SaleType           1\n",
       "dtype: int64"
      ]
     },
     "execution_count": 14,
     "metadata": {},
     "output_type": "execute_result"
    }
   ],
   "source": [
    "# check NA in original df\n",
    "df_test.isnull().sum()[df_test.isnull().sum()>0]   # 28 columns contain N/A"
   ]
  },
  {
   "cell_type": "markdown",
   "metadata": {},
   "source": [
    "#### Line by line\n",
    "#### Doesn't handle floats"
   ]
  },
  {
   "cell_type": "code",
   "execution_count": 15,
   "metadata": {},
   "outputs": [
    {
     "data": {
      "text/plain": [
       "GarageArea      0\n",
       "TotalBsmtSF     0\n",
       "BsmtFinSF1      0\n",
       "BsmtFinSF2      0\n",
       "BsmtUnfSF       0\n",
       "BsmtFullBath    0\n",
       "BsmtHalfBath    0\n",
       "Exterior1st     0\n",
       "KitchenQual     0\n",
       "Functional      0\n",
       "MSZoning        0\n",
       "dtype: int64"
      ]
     },
     "execution_count": 15,
     "metadata": {},
     "output_type": "execute_result"
    }
   ],
   "source": [
    "# There is one house in test set that containing missing value in GarageArea, seems like it does not have a Garage\n",
    "df_test['GarageArea']= df_test['GarageArea'].fillna(0)\n",
    "# Only one house has missing value in BsmtSF due to no basement, should fill NA with 0\n",
    "df_test['TotalBsmtSF'] = df_test['TotalBsmtSF'].fillna(0)\n",
    "df_test['BsmtFinSF1'] = df_test['BsmtFinSF1'].fillna(0)\n",
    "df_test['BsmtFinSF2'] = df_test['BsmtFinSF2'].fillna(0)\n",
    "df_test['BsmtUnfSF'] = df_test['BsmtUnfSF'].fillna(0)\n",
    "# There are 2 houses that have missing values in basement bathroom due to no basement \n",
    "df_test['BsmtFullBath'] = df_test['BsmtFullBath'].fillna(0)\n",
    "df_test['BsmtHalfBath'] = df_test['BsmtHalfBath'].fillna(0)\n",
    "df_test['Exterior1st'] = df_test.groupby(['RoofMatl'])['Exterior1st'].transform(lambda x: x.fillna(x.mode()[0])) # group by roofmaterial? \n",
    "df_test['KitchenQual'] = df_test.groupby(['OverallCond'])['KitchenQual'].transform(lambda x: x.fillna(x.mode()[0])) # group by Overall Condition\n",
    "# 2 houses have missing values in Functional. Both are in poor quality condition and sold as abnormal type. Should not consider it as Functional_typ\n",
    "df_test['Functional'] = df_test['Functional'].fillna('Mod')\n",
    "# 4 houses having missing values in MSZoning\n",
    "df_test['MSZoning'] = df_test.groupby(['Neighborhood'])['MSZoning'].transform(lambda x:x.fillna(x.mode()[0]))\n",
    "\n",
    "df_test.loc[:,['GarageArea','TotalBsmtSF','BsmtFinSF1','BsmtFinSF2','BsmtUnfSF','BsmtFullBath','BsmtHalfBath','Exterior1st','KitchenQual','Functional','MSZoning']].isnull().sum()\n"
   ]
  },
  {
   "cell_type": "markdown",
   "metadata": {
    "scrolled": true
   },
   "source": [
    "##### df_test.isnull().sum()[df_test.isnull().sum()>0]"
   ]
  },
  {
   "cell_type": "markdown",
   "metadata": {},
   "source": [
    "# Create Custom Features"
   ]
  },
  {
   "cell_type": "code",
   "execution_count": 18,
   "metadata": {},
   "outputs": [],
   "source": [
    "# Create Custom Feature: Adjusted Total Basement Area\n",
    "df_test['AdjTotalBsmtSF'] = df_test['BsmtFinSF1']+df_test['BsmtFinSF2']+0.9*df_test['BsmtUnfSF']"
   ]
  },
  {
   "cell_type": "code",
   "execution_count": 19,
   "metadata": {},
   "outputs": [],
   "source": [
    "# Create Custom Feature: Adjusted Total Bathroom \n",
    "df_test['AdjTotalBath'] = df_test['FullBath']+df_test['BsmtFullBath']+0.6*(df_test['HalfBath']+df_test['BsmtHalfBath'])"
   ]
  },
  {
   "cell_type": "code",
   "execution_count": 20,
   "metadata": {},
   "outputs": [],
   "source": [
    "# Create Custom Feature: HouseAge\n",
    "df_test['HouseAge'] = df_test['YrSold']-(0.6*df_test['YearRemodAdd']+0.4*df_test['YearBuilt'])"
   ]
  },
  {
   "cell_type": "code",
   "execution_count": 21,
   "metadata": {},
   "outputs": [],
   "source": [
    "# Create Custom Feature: Outdoor SF\n",
    "df_test['AdjOutdoorSF'] = df_test['3SsnPorch']+df_test['EnclosedPorch']+df_test['OpenPorchSF']+df_test['ScreenPorch']+df_test['WoodDeckSF']"
   ]
  },
  {
   "cell_type": "code",
   "execution_count": 22,
   "metadata": {},
   "outputs": [
    {
     "data": {
      "text/plain": [
       "(1459, 84)"
      ]
     },
     "execution_count": 22,
     "metadata": {},
     "output_type": "execute_result"
    }
   ],
   "source": [
    "df_test.shape"
   ]
  },
  {
   "cell_type": "markdown",
   "metadata": {},
   "source": [
    "# Function to create dummify features "
   ]
  },
  {
   "cell_type": "code",
   "execution_count": 23,
   "metadata": {},
   "outputs": [],
   "source": [
    "def dummify_categorical(df, columns):\n",
    "    for col in columns:\n",
    "        # value_counts (sort by frequency)\n",
    "        grouped = df.groupby(col)[[col]].agg('count').rename(columns={col:'count'}).sort_values(by = \"count\", ascending = False)\n",
    "        # dummify all categories\n",
    "        df = pd.get_dummies(df, columns=[col], prefix=col, prefix_sep='_') \n",
    "        # categories with frequency less than 65\n",
    "        columns_to_drop = list(grouped.loc[grouped['count']<65].index)\n",
    "        columns_to_drop = [col + \"_\" + i for i in columns_to_drop]\n",
    "        # drop dummified columns\n",
    "        if len(columns_to_drop) > 0:\n",
    "            df = df.drop(columns = columns_to_drop,axis = 1)\n",
    "        else:\n",
    "            # when all the categories have frequency higher than 70\n",
    "            df = df.drop(col + \"_\" + grouped.index[0], axis=1)\n",
    "    return df"
   ]
  },
  {
   "cell_type": "code",
   "execution_count": 24,
   "metadata": {},
   "outputs": [
    {
     "data": {
      "text/html": [
       "<div>\n",
       "<style scoped>\n",
       "    .dataframe tbody tr th:only-of-type {\n",
       "        vertical-align: middle;\n",
       "    }\n",
       "\n",
       "    .dataframe tbody tr th {\n",
       "        vertical-align: top;\n",
       "    }\n",
       "\n",
       "    .dataframe thead th {\n",
       "        text-align: right;\n",
       "    }\n",
       "</style>\n",
       "<table border=\"1\" class=\"dataframe\">\n",
       "  <thead>\n",
       "    <tr style=\"text-align: right;\">\n",
       "      <th></th>\n",
       "      <th>Id</th>\n",
       "      <th>MSSubClass</th>\n",
       "      <th>LotFrontage</th>\n",
       "      <th>LotArea</th>\n",
       "      <th>Street</th>\n",
       "      <th>Alley</th>\n",
       "      <th>LandContour</th>\n",
       "      <th>Utilities</th>\n",
       "      <th>LandSlope</th>\n",
       "      <th>Neighborhood</th>\n",
       "      <th>...</th>\n",
       "      <th>LotShape_IR1</th>\n",
       "      <th>LotShape_Reg</th>\n",
       "      <th>MasVnrType_BrkFace</th>\n",
       "      <th>MasVnrType_None</th>\n",
       "      <th>MasVnrType_Stone</th>\n",
       "      <th>MSZoning_FV</th>\n",
       "      <th>MSZoning_RL</th>\n",
       "      <th>MSZoning_RM</th>\n",
       "      <th>PavedDrive_N</th>\n",
       "      <th>PavedDrive_Y</th>\n",
       "    </tr>\n",
       "  </thead>\n",
       "  <tbody>\n",
       "    <tr>\n",
       "      <td>0</td>\n",
       "      <td>1461</td>\n",
       "      <td>20</td>\n",
       "      <td>80.0</td>\n",
       "      <td>11622</td>\n",
       "      <td>Pave</td>\n",
       "      <td>NaN</td>\n",
       "      <td>Lvl</td>\n",
       "      <td>AllPub</td>\n",
       "      <td>Gtl</td>\n",
       "      <td>NAmes</td>\n",
       "      <td>...</td>\n",
       "      <td>0</td>\n",
       "      <td>1</td>\n",
       "      <td>0</td>\n",
       "      <td>1</td>\n",
       "      <td>0</td>\n",
       "      <td>0</td>\n",
       "      <td>0</td>\n",
       "      <td>0</td>\n",
       "      <td>0</td>\n",
       "      <td>1</td>\n",
       "    </tr>\n",
       "    <tr>\n",
       "      <td>1</td>\n",
       "      <td>1462</td>\n",
       "      <td>20</td>\n",
       "      <td>81.0</td>\n",
       "      <td>14267</td>\n",
       "      <td>Pave</td>\n",
       "      <td>NaN</td>\n",
       "      <td>Lvl</td>\n",
       "      <td>AllPub</td>\n",
       "      <td>Gtl</td>\n",
       "      <td>NAmes</td>\n",
       "      <td>...</td>\n",
       "      <td>1</td>\n",
       "      <td>0</td>\n",
       "      <td>1</td>\n",
       "      <td>0</td>\n",
       "      <td>0</td>\n",
       "      <td>0</td>\n",
       "      <td>1</td>\n",
       "      <td>0</td>\n",
       "      <td>0</td>\n",
       "      <td>1</td>\n",
       "    </tr>\n",
       "    <tr>\n",
       "      <td>2</td>\n",
       "      <td>1463</td>\n",
       "      <td>60</td>\n",
       "      <td>74.0</td>\n",
       "      <td>13830</td>\n",
       "      <td>Pave</td>\n",
       "      <td>NaN</td>\n",
       "      <td>Lvl</td>\n",
       "      <td>AllPub</td>\n",
       "      <td>Gtl</td>\n",
       "      <td>Gilbert</td>\n",
       "      <td>...</td>\n",
       "      <td>1</td>\n",
       "      <td>0</td>\n",
       "      <td>0</td>\n",
       "      <td>1</td>\n",
       "      <td>0</td>\n",
       "      <td>0</td>\n",
       "      <td>1</td>\n",
       "      <td>0</td>\n",
       "      <td>0</td>\n",
       "      <td>1</td>\n",
       "    </tr>\n",
       "    <tr>\n",
       "      <td>3</td>\n",
       "      <td>1464</td>\n",
       "      <td>60</td>\n",
       "      <td>78.0</td>\n",
       "      <td>9978</td>\n",
       "      <td>Pave</td>\n",
       "      <td>NaN</td>\n",
       "      <td>Lvl</td>\n",
       "      <td>AllPub</td>\n",
       "      <td>Gtl</td>\n",
       "      <td>Gilbert</td>\n",
       "      <td>...</td>\n",
       "      <td>1</td>\n",
       "      <td>0</td>\n",
       "      <td>1</td>\n",
       "      <td>0</td>\n",
       "      <td>0</td>\n",
       "      <td>0</td>\n",
       "      <td>1</td>\n",
       "      <td>0</td>\n",
       "      <td>0</td>\n",
       "      <td>1</td>\n",
       "    </tr>\n",
       "    <tr>\n",
       "      <td>4</td>\n",
       "      <td>1465</td>\n",
       "      <td>120</td>\n",
       "      <td>43.0</td>\n",
       "      <td>5005</td>\n",
       "      <td>Pave</td>\n",
       "      <td>NaN</td>\n",
       "      <td>HLS</td>\n",
       "      <td>AllPub</td>\n",
       "      <td>Gtl</td>\n",
       "      <td>StoneBr</td>\n",
       "      <td>...</td>\n",
       "      <td>1</td>\n",
       "      <td>0</td>\n",
       "      <td>0</td>\n",
       "      <td>1</td>\n",
       "      <td>0</td>\n",
       "      <td>0</td>\n",
       "      <td>1</td>\n",
       "      <td>0</td>\n",
       "      <td>0</td>\n",
       "      <td>1</td>\n",
       "    </tr>\n",
       "  </tbody>\n",
       "</table>\n",
       "<p>5 rows × 99 columns</p>\n",
       "</div>"
      ],
      "text/plain": [
       "     Id  MSSubClass  LotFrontage  LotArea Street Alley LandContour Utilities  \\\n",
       "0  1461          20         80.0    11622   Pave   NaN         Lvl    AllPub   \n",
       "1  1462          20         81.0    14267   Pave   NaN         Lvl    AllPub   \n",
       "2  1463          60         74.0    13830   Pave   NaN         Lvl    AllPub   \n",
       "3  1464          60         78.0     9978   Pave   NaN         Lvl    AllPub   \n",
       "4  1465         120         43.0     5005   Pave   NaN         HLS    AllPub   \n",
       "\n",
       "  LandSlope Neighborhood  ... LotShape_IR1 LotShape_Reg MasVnrType_BrkFace  \\\n",
       "0       Gtl        NAmes  ...            0            1                  0   \n",
       "1       Gtl        NAmes  ...            1            0                  1   \n",
       "2       Gtl      Gilbert  ...            1            0                  0   \n",
       "3       Gtl      Gilbert  ...            1            0                  1   \n",
       "4       Gtl      StoneBr  ...            1            0                  0   \n",
       "\n",
       "  MasVnrType_None  MasVnrType_Stone  MSZoning_FV  MSZoning_RL  MSZoning_RM  \\\n",
       "0               1                 0            0            0            0   \n",
       "1               0                 0            0            1            0   \n",
       "2               1                 0            0            1            0   \n",
       "3               0                 0            0            1            0   \n",
       "4               1                 0            0            1            0   \n",
       "\n",
       "  PavedDrive_N PavedDrive_Y  \n",
       "0            0            1  \n",
       "1            0            1  \n",
       "2            0            1  \n",
       "3            0            1  \n",
       "4            0            1  \n",
       "\n",
       "[5 rows x 99 columns]"
      ]
     },
     "execution_count": 24,
     "metadata": {},
     "output_type": "execute_result"
    }
   ],
   "source": [
    "df_test_dummified = dummify_categorical(df_test,['CentralAir','Exterior1st','Foundation','Functional',\\\n",
    "                        'LotConfig','LotShape','MasVnrType','MSZoning','PavedDrive'])\n",
    "df_test_dummified.head(5)"
   ]
  },
  {
   "cell_type": "markdown",
   "metadata": {},
   "source": [
    "# Function for ordinal variables"
   ]
  },
  {
   "cell_type": "code",
   "execution_count": 25,
   "metadata": {},
   "outputs": [],
   "source": [
    "def impute_ordinal(df, list_of_dic_to_replace):\n",
    "    for dic in list_of_dic_to_replace:\n",
    "        df = df.replace(dic)\n",
    "    return df"
   ]
  },
  {
   "cell_type": "code",
   "execution_count": 26,
   "metadata": {},
   "outputs": [
    {
     "data": {
      "text/html": [
       "<div>\n",
       "<style scoped>\n",
       "    .dataframe tbody tr th:only-of-type {\n",
       "        vertical-align: middle;\n",
       "    }\n",
       "\n",
       "    .dataframe tbody tr th {\n",
       "        vertical-align: top;\n",
       "    }\n",
       "\n",
       "    .dataframe thead th {\n",
       "        text-align: right;\n",
       "    }\n",
       "</style>\n",
       "<table border=\"1\" class=\"dataframe\">\n",
       "  <thead>\n",
       "    <tr style=\"text-align: right;\">\n",
       "      <th></th>\n",
       "      <th>Id</th>\n",
       "      <th>MSSubClass</th>\n",
       "      <th>LotFrontage</th>\n",
       "      <th>LotArea</th>\n",
       "      <th>Street</th>\n",
       "      <th>Alley</th>\n",
       "      <th>LandContour</th>\n",
       "      <th>Utilities</th>\n",
       "      <th>LandSlope</th>\n",
       "      <th>Neighborhood</th>\n",
       "      <th>...</th>\n",
       "      <th>LotShape_IR1</th>\n",
       "      <th>LotShape_Reg</th>\n",
       "      <th>MasVnrType_BrkFace</th>\n",
       "      <th>MasVnrType_None</th>\n",
       "      <th>MasVnrType_Stone</th>\n",
       "      <th>MSZoning_FV</th>\n",
       "      <th>MSZoning_RL</th>\n",
       "      <th>MSZoning_RM</th>\n",
       "      <th>PavedDrive_N</th>\n",
       "      <th>PavedDrive_Y</th>\n",
       "    </tr>\n",
       "  </thead>\n",
       "  <tbody>\n",
       "    <tr>\n",
       "      <td>0</td>\n",
       "      <td>1461</td>\n",
       "      <td>20</td>\n",
       "      <td>80.0</td>\n",
       "      <td>11622</td>\n",
       "      <td>Pave</td>\n",
       "      <td>NaN</td>\n",
       "      <td>Lvl</td>\n",
       "      <td>AllPub</td>\n",
       "      <td>Gtl</td>\n",
       "      <td>NAmes</td>\n",
       "      <td>...</td>\n",
       "      <td>0</td>\n",
       "      <td>1</td>\n",
       "      <td>0</td>\n",
       "      <td>1</td>\n",
       "      <td>0</td>\n",
       "      <td>0</td>\n",
       "      <td>0</td>\n",
       "      <td>0</td>\n",
       "      <td>0</td>\n",
       "      <td>1</td>\n",
       "    </tr>\n",
       "    <tr>\n",
       "      <td>1</td>\n",
       "      <td>1462</td>\n",
       "      <td>20</td>\n",
       "      <td>81.0</td>\n",
       "      <td>14267</td>\n",
       "      <td>Pave</td>\n",
       "      <td>NaN</td>\n",
       "      <td>Lvl</td>\n",
       "      <td>AllPub</td>\n",
       "      <td>Gtl</td>\n",
       "      <td>NAmes</td>\n",
       "      <td>...</td>\n",
       "      <td>1</td>\n",
       "      <td>0</td>\n",
       "      <td>1</td>\n",
       "      <td>0</td>\n",
       "      <td>0</td>\n",
       "      <td>0</td>\n",
       "      <td>1</td>\n",
       "      <td>0</td>\n",
       "      <td>0</td>\n",
       "      <td>1</td>\n",
       "    </tr>\n",
       "    <tr>\n",
       "      <td>2</td>\n",
       "      <td>1463</td>\n",
       "      <td>60</td>\n",
       "      <td>74.0</td>\n",
       "      <td>13830</td>\n",
       "      <td>Pave</td>\n",
       "      <td>NaN</td>\n",
       "      <td>Lvl</td>\n",
       "      <td>AllPub</td>\n",
       "      <td>Gtl</td>\n",
       "      <td>Gilbert</td>\n",
       "      <td>...</td>\n",
       "      <td>1</td>\n",
       "      <td>0</td>\n",
       "      <td>0</td>\n",
       "      <td>1</td>\n",
       "      <td>0</td>\n",
       "      <td>0</td>\n",
       "      <td>1</td>\n",
       "      <td>0</td>\n",
       "      <td>0</td>\n",
       "      <td>1</td>\n",
       "    </tr>\n",
       "    <tr>\n",
       "      <td>3</td>\n",
       "      <td>1464</td>\n",
       "      <td>60</td>\n",
       "      <td>78.0</td>\n",
       "      <td>9978</td>\n",
       "      <td>Pave</td>\n",
       "      <td>NaN</td>\n",
       "      <td>Lvl</td>\n",
       "      <td>AllPub</td>\n",
       "      <td>Gtl</td>\n",
       "      <td>Gilbert</td>\n",
       "      <td>...</td>\n",
       "      <td>1</td>\n",
       "      <td>0</td>\n",
       "      <td>1</td>\n",
       "      <td>0</td>\n",
       "      <td>0</td>\n",
       "      <td>0</td>\n",
       "      <td>1</td>\n",
       "      <td>0</td>\n",
       "      <td>0</td>\n",
       "      <td>1</td>\n",
       "    </tr>\n",
       "    <tr>\n",
       "      <td>4</td>\n",
       "      <td>1465</td>\n",
       "      <td>120</td>\n",
       "      <td>43.0</td>\n",
       "      <td>5005</td>\n",
       "      <td>Pave</td>\n",
       "      <td>NaN</td>\n",
       "      <td>HLS</td>\n",
       "      <td>AllPub</td>\n",
       "      <td>Gtl</td>\n",
       "      <td>StoneBr</td>\n",
       "      <td>...</td>\n",
       "      <td>1</td>\n",
       "      <td>0</td>\n",
       "      <td>0</td>\n",
       "      <td>1</td>\n",
       "      <td>0</td>\n",
       "      <td>0</td>\n",
       "      <td>1</td>\n",
       "      <td>0</td>\n",
       "      <td>0</td>\n",
       "      <td>1</td>\n",
       "    </tr>\n",
       "  </tbody>\n",
       "</table>\n",
       "<p>5 rows × 99 columns</p>\n",
       "</div>"
      ],
      "text/plain": [
       "     Id  MSSubClass  LotFrontage  LotArea Street Alley LandContour Utilities  \\\n",
       "0  1461          20         80.0    11622   Pave   NaN         Lvl    AllPub   \n",
       "1  1462          20         81.0    14267   Pave   NaN         Lvl    AllPub   \n",
       "2  1463          60         74.0    13830   Pave   NaN         Lvl    AllPub   \n",
       "3  1464          60         78.0     9978   Pave   NaN         Lvl    AllPub   \n",
       "4  1465         120         43.0     5005   Pave   NaN         HLS    AllPub   \n",
       "\n",
       "  LandSlope Neighborhood  ... LotShape_IR1 LotShape_Reg MasVnrType_BrkFace  \\\n",
       "0       Gtl        NAmes  ...            0            1                  0   \n",
       "1       Gtl        NAmes  ...            1            0                  1   \n",
       "2       Gtl      Gilbert  ...            1            0                  0   \n",
       "3       Gtl      Gilbert  ...            1            0                  1   \n",
       "4       Gtl      StoneBr  ...            1            0                  0   \n",
       "\n",
       "  MasVnrType_None  MasVnrType_Stone  MSZoning_FV  MSZoning_RL  MSZoning_RM  \\\n",
       "0               1                 0            0            0            0   \n",
       "1               0                 0            0            1            0   \n",
       "2               1                 0            0            1            0   \n",
       "3               0                 0            0            1            0   \n",
       "4               1                 0            0            1            0   \n",
       "\n",
       "  PavedDrive_N PavedDrive_Y  \n",
       "0            0            1  \n",
       "1            0            1  \n",
       "2            0            1  \n",
       "3            0            1  \n",
       "4            0            1  \n",
       "\n",
       "[5 rows x 99 columns]"
      ]
     },
     "execution_count": 26,
     "metadata": {},
     "output_type": "execute_result"
    }
   ],
   "source": [
    "list_of_dic_to_replace = [\n",
    "    {\"BsmtExposure\": {\"Gd\": 5, \"Av\": 4, \"Mn\": 3, \"No\": 2, \"None\": 0}},\n",
    "    {\"BsmtQual\": {\"Ex\": 7, \"Gd\": 4, \"TA\": 2, \"Fa\": 1, \"Po\": 0, \"None\": 0}},\n",
    "    {\"ExterQual\": {\"Ex\": 5, \"Gd\": 4, \"TA\": 3, \"Fa\": 1}}, # \"Po\": 0\n",
    "    {\"FireplaceQu\": {\"Ex\": 5, \"Gd\": 3, \"TA\": 2.5, \"Fa\": 1.5, \"Po\":0, \"None\": 0.5}},\n",
    "    {\"KitchenQual\": {\"Ex\": 4, \"Gd\": 3, \"TA\": 2, \"Fa\": 1}},    #\"Po\": 0\n",
    "    {\"GarageQual\": {\"Ex\": 5, \"Gd\": 5, \"TA\": 4.5, \"Fa\": 2.5, \"Po\": 1, \"None\": 1}},\n",
    "    {\"HeatingQC\": {\"Ex\": 3, \"Gd\": 2, \"TA\": 1.5, \"Fa\": 1, \"Po\": 0}}]\n",
    "\n",
    "df_test_ordinal_dummified = impute_ordinal(df_test_dummified,list_of_dic_to_replace)\n",
    "df_test_ordinal_dummified.head(5)"
   ]
  },
  {
   "cell_type": "code",
   "execution_count": 28,
   "metadata": {},
   "outputs": [],
   "source": [
    "df_test_ordinal_dummified.to_csv(\"test_modified.csv\",index = False)"
   ]
  },
  {
   "cell_type": "markdown",
   "metadata": {},
   "source": [
    "# Define Predictors"
   ]
  },
  {
   "cell_type": "code",
   "execution_count": null,
   "metadata": {},
   "outputs": [],
   "source": [
    "list_of_continuous_columns = ['AdjTotalBsmtSF', 'GarageArea', 'GrLivArea', 'HouseAge', 'LotArea',\\\n",
    "                        'AdjTotalBath', 'TotRmsAbvGrd', 'AdjOutdoorSF', 'OverallQual']\n",
    "df_without_outliers = remove_rows_with_outliers(df_ordinal_dummified, list_of_continuous_columns, stdev_threshold = 3)"
   ]
  },
  {
   "cell_type": "code",
   "execution_count": null,
   "metadata": {},
   "outputs": [],
   "source": [
    "list_of_dummified_categorical = ['CentralAir_N', 'Exterior1st_HdBoard', 'Exterior1st_MetalSd',\n",
    "       'Exterior1st_Plywood', 'Exterior1st_VinylSd', 'Exterior1st_Wd Sdng',\n",
    "       'Foundation_BrkTil', 'Foundation_CBlock', 'Foundation_PConc',\n",
    "       'Functional_Typ', 'LotConfig_Corner', 'LotConfig_CulDSac',\n",
    "       'LotConfig_Inside', 'LotShape_IR1', 'LotShape_Reg',\n",
    "       'MasVnrType_BrkFace', 'MasVnrType_None', 'MasVnrType_Stone',\n",
    "       'MSZoning_FV', 'MSZoning_RL', 'MSZoning_RM', 'PavedDrive_N',\n",
    "       'PavedDrive_Y']"
   ]
  },
  {
   "cell_type": "code",
   "execution_count": null,
   "metadata": {},
   "outputs": [],
   "source": [
    "list_of_ordinal_categorical = ['BsmtExposure', 'BsmtQual', 'ExterQual', 'FireplaceQu', 'GarageQual',\\\n",
    "'HeatingQC', 'KitchenQual'] "
   ]
  },
  {
   "cell_type": "code",
   "execution_count": null,
   "metadata": {},
   "outputs": [],
   "source": [
    "list_of_predictors = list_of_continuous_columns+list_of_dummified_categorical+list_of_ordinal_categorical \n",
    "len(list_of_predictors)"
   ]
  }
 ],
 "metadata": {
  "kernelspec": {
   "display_name": "Python 3",
   "language": "python",
   "name": "python3"
  },
  "language_info": {
   "codemirror_mode": {
    "name": "ipython",
    "version": 3
   },
   "file_extension": ".py",
   "mimetype": "text/x-python",
   "name": "python",
   "nbconvert_exporter": "python",
   "pygments_lexer": "ipython3",
   "version": "3.7.4"
  }
 },
 "nbformat": 4,
 "nbformat_minor": 2
}
