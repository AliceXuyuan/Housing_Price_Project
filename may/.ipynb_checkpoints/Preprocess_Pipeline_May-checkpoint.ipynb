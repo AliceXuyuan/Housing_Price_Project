{
 "cells": [
  {
   "cell_type": "code",
   "execution_count": 1,
   "metadata": {},
   "outputs": [],
   "source": [
    "# Import required libraries\n",
    "import pandas as pd\n",
    "import numpy as np\n",
    "import matplotlib.pyplot as plt\n",
    "%matplotlib inline\n",
    "df = pd.read_csv(\"train.csv\")"
   ]
  },
  {
   "cell_type": "code",
   "execution_count": 2,
   "metadata": {},
   "outputs": [
    {
     "data": {
      "text/plain": [
       "(1460, 81)"
      ]
     },
     "execution_count": 2,
     "metadata": {},
     "output_type": "execute_result"
    }
   ],
   "source": [
    "df.shape"
   ]
  },
  {
   "cell_type": "code",
   "execution_count": 3,
   "metadata": {
    "scrolled": true
   },
   "outputs": [
    {
     "data": {
      "text/html": [
       "<div>\n",
       "<style scoped>\n",
       "    .dataframe tbody tr th:only-of-type {\n",
       "        vertical-align: middle;\n",
       "    }\n",
       "\n",
       "    .dataframe tbody tr th {\n",
       "        vertical-align: top;\n",
       "    }\n",
       "\n",
       "    .dataframe thead th {\n",
       "        text-align: right;\n",
       "    }\n",
       "</style>\n",
       "<table border=\"1\" class=\"dataframe\">\n",
       "  <thead>\n",
       "    <tr style=\"text-align: right;\">\n",
       "      <th></th>\n",
       "      <th>Id</th>\n",
       "      <th>MSSubClass</th>\n",
       "      <th>MSZoning</th>\n",
       "      <th>LotFrontage</th>\n",
       "      <th>LotArea</th>\n",
       "      <th>Street</th>\n",
       "      <th>Alley</th>\n",
       "      <th>LotShape</th>\n",
       "      <th>LandContour</th>\n",
       "      <th>Utilities</th>\n",
       "      <th>...</th>\n",
       "      <th>PoolArea</th>\n",
       "      <th>PoolQC</th>\n",
       "      <th>Fence</th>\n",
       "      <th>MiscFeature</th>\n",
       "      <th>MiscVal</th>\n",
       "      <th>MoSold</th>\n",
       "      <th>YrSold</th>\n",
       "      <th>SaleType</th>\n",
       "      <th>SaleCondition</th>\n",
       "      <th>SalePrice</th>\n",
       "    </tr>\n",
       "  </thead>\n",
       "  <tbody>\n",
       "    <tr>\n",
       "      <td>0</td>\n",
       "      <td>1</td>\n",
       "      <td>60</td>\n",
       "      <td>RL</td>\n",
       "      <td>65.0</td>\n",
       "      <td>8450</td>\n",
       "      <td>Pave</td>\n",
       "      <td>NaN</td>\n",
       "      <td>Reg</td>\n",
       "      <td>Lvl</td>\n",
       "      <td>AllPub</td>\n",
       "      <td>...</td>\n",
       "      <td>0</td>\n",
       "      <td>NaN</td>\n",
       "      <td>NaN</td>\n",
       "      <td>NaN</td>\n",
       "      <td>0</td>\n",
       "      <td>2</td>\n",
       "      <td>2008</td>\n",
       "      <td>WD</td>\n",
       "      <td>Normal</td>\n",
       "      <td>208500</td>\n",
       "    </tr>\n",
       "    <tr>\n",
       "      <td>1</td>\n",
       "      <td>2</td>\n",
       "      <td>20</td>\n",
       "      <td>RL</td>\n",
       "      <td>80.0</td>\n",
       "      <td>9600</td>\n",
       "      <td>Pave</td>\n",
       "      <td>NaN</td>\n",
       "      <td>Reg</td>\n",
       "      <td>Lvl</td>\n",
       "      <td>AllPub</td>\n",
       "      <td>...</td>\n",
       "      <td>0</td>\n",
       "      <td>NaN</td>\n",
       "      <td>NaN</td>\n",
       "      <td>NaN</td>\n",
       "      <td>0</td>\n",
       "      <td>5</td>\n",
       "      <td>2007</td>\n",
       "      <td>WD</td>\n",
       "      <td>Normal</td>\n",
       "      <td>181500</td>\n",
       "    </tr>\n",
       "    <tr>\n",
       "      <td>2</td>\n",
       "      <td>3</td>\n",
       "      <td>60</td>\n",
       "      <td>RL</td>\n",
       "      <td>68.0</td>\n",
       "      <td>11250</td>\n",
       "      <td>Pave</td>\n",
       "      <td>NaN</td>\n",
       "      <td>IR1</td>\n",
       "      <td>Lvl</td>\n",
       "      <td>AllPub</td>\n",
       "      <td>...</td>\n",
       "      <td>0</td>\n",
       "      <td>NaN</td>\n",
       "      <td>NaN</td>\n",
       "      <td>NaN</td>\n",
       "      <td>0</td>\n",
       "      <td>9</td>\n",
       "      <td>2008</td>\n",
       "      <td>WD</td>\n",
       "      <td>Normal</td>\n",
       "      <td>223500</td>\n",
       "    </tr>\n",
       "    <tr>\n",
       "      <td>3</td>\n",
       "      <td>4</td>\n",
       "      <td>70</td>\n",
       "      <td>RL</td>\n",
       "      <td>60.0</td>\n",
       "      <td>9550</td>\n",
       "      <td>Pave</td>\n",
       "      <td>NaN</td>\n",
       "      <td>IR1</td>\n",
       "      <td>Lvl</td>\n",
       "      <td>AllPub</td>\n",
       "      <td>...</td>\n",
       "      <td>0</td>\n",
       "      <td>NaN</td>\n",
       "      <td>NaN</td>\n",
       "      <td>NaN</td>\n",
       "      <td>0</td>\n",
       "      <td>2</td>\n",
       "      <td>2006</td>\n",
       "      <td>WD</td>\n",
       "      <td>Abnorml</td>\n",
       "      <td>140000</td>\n",
       "    </tr>\n",
       "    <tr>\n",
       "      <td>4</td>\n",
       "      <td>5</td>\n",
       "      <td>60</td>\n",
       "      <td>RL</td>\n",
       "      <td>84.0</td>\n",
       "      <td>14260</td>\n",
       "      <td>Pave</td>\n",
       "      <td>NaN</td>\n",
       "      <td>IR1</td>\n",
       "      <td>Lvl</td>\n",
       "      <td>AllPub</td>\n",
       "      <td>...</td>\n",
       "      <td>0</td>\n",
       "      <td>NaN</td>\n",
       "      <td>NaN</td>\n",
       "      <td>NaN</td>\n",
       "      <td>0</td>\n",
       "      <td>12</td>\n",
       "      <td>2008</td>\n",
       "      <td>WD</td>\n",
       "      <td>Normal</td>\n",
       "      <td>250000</td>\n",
       "    </tr>\n",
       "  </tbody>\n",
       "</table>\n",
       "<p>5 rows × 81 columns</p>\n",
       "</div>"
      ],
      "text/plain": [
       "   Id  MSSubClass MSZoning  LotFrontage  LotArea Street Alley LotShape  \\\n",
       "0   1          60       RL         65.0     8450   Pave   NaN      Reg   \n",
       "1   2          20       RL         80.0     9600   Pave   NaN      Reg   \n",
       "2   3          60       RL         68.0    11250   Pave   NaN      IR1   \n",
       "3   4          70       RL         60.0     9550   Pave   NaN      IR1   \n",
       "4   5          60       RL         84.0    14260   Pave   NaN      IR1   \n",
       "\n",
       "  LandContour Utilities  ... PoolArea PoolQC Fence MiscFeature MiscVal MoSold  \\\n",
       "0         Lvl    AllPub  ...        0    NaN   NaN         NaN       0      2   \n",
       "1         Lvl    AllPub  ...        0    NaN   NaN         NaN       0      5   \n",
       "2         Lvl    AllPub  ...        0    NaN   NaN         NaN       0      9   \n",
       "3         Lvl    AllPub  ...        0    NaN   NaN         NaN       0      2   \n",
       "4         Lvl    AllPub  ...        0    NaN   NaN         NaN       0     12   \n",
       "\n",
       "  YrSold  SaleType  SaleCondition  SalePrice  \n",
       "0   2008        WD         Normal     208500  \n",
       "1   2007        WD         Normal     181500  \n",
       "2   2008        WD         Normal     223500  \n",
       "3   2006        WD        Abnorml     140000  \n",
       "4   2008        WD         Normal     250000  \n",
       "\n",
       "[5 rows x 81 columns]"
      ]
     },
     "execution_count": 3,
     "metadata": {},
     "output_type": "execute_result"
    }
   ],
   "source": [
    "df.head(n=5)"
   ]
  },
  {
   "cell_type": "markdown",
   "metadata": {},
   "source": [
    "### Create Custom Features"
   ]
  },
  {
   "cell_type": "code",
   "execution_count": 4,
   "metadata": {},
   "outputs": [],
   "source": [
    "# Create Custom Feature: Adjusted Total Basement Area\n",
    "df['AdjTotalBsmtSF'] = df['BsmtFinSF1']+df['BsmtFinSF2']+0.9*df['BsmtUnfSF']"
   ]
  },
  {
   "cell_type": "code",
   "execution_count": 5,
   "metadata": {},
   "outputs": [],
   "source": [
    "# Create Custom Feature: Adjusted Total Bathroom \n",
    "df['AdjTotalBath'] = df['FullBath']+df['BsmtFullBath']+0.6*(df['HalfBath']+df['BsmtHalfBath'])"
   ]
  },
  {
   "cell_type": "code",
   "execution_count": 6,
   "metadata": {},
   "outputs": [],
   "source": [
    "# Create Custom Feature: HouseAge\n",
    "df['HouseAge'] = df['YrSold']-(0.6*df['YearRemodAdd']+0.4*df['YearBuilt'])"
   ]
  },
  {
   "cell_type": "code",
   "execution_count": 7,
   "metadata": {},
   "outputs": [],
   "source": [
    "# Transform SalePrice to LogSalePrice \n",
    "df['LogSalePrice'] = np.log(df['SalePrice'])"
   ]
  },
  {
   "cell_type": "code",
   "execution_count": 8,
   "metadata": {},
   "outputs": [],
   "source": [
    "df['AdjOutdoorSF'] = df['3SsnPorch']+df['EnclosedPorch']+df['OpenPorchSF']+df['ScreenPorch']+df['WoodDeckSF']"
   ]
  },
  {
   "cell_type": "code",
   "execution_count": 9,
   "metadata": {},
   "outputs": [
    {
     "data": {
      "text/plain": [
       "(1460, 86)"
      ]
     },
     "execution_count": 9,
     "metadata": {},
     "output_type": "execute_result"
    }
   ],
   "source": [
    "df.shape"
   ]
  },
  {
   "cell_type": "markdown",
   "metadata": {},
   "source": [
    "# (1) Helper Functions for Pipeline"
   ]
  },
  {
   "cell_type": "markdown",
   "metadata": {},
   "source": [
    "### Function for Removing Rows"
   ]
  },
  {
   "cell_type": "code",
   "execution_count": 10,
   "metadata": {},
   "outputs": [
    {
     "name": "stdout",
     "output_type": "stream",
     "text": [
      "3 observations (rows) dropped from dataframe\n",
      "Dimensions of new dataframe: (1457, 86)\n"
     ]
    }
   ],
   "source": [
    "# Given a list of indices (rows) to drop, this returns a copy of the original df without those rows\n",
    "def remove_rows_from_df(df, list_of_rows_to_drop, printDetails = False):\n",
    "    df_rows_removed = df.drop(df.index[list_of_rows_to_drop])\n",
    "    if printDetails:\n",
    "        print(len(set(list_of_rows_to_drop)),\"observations (rows) dropped from dataframe\")\n",
    "        print(\"Dimensions of new dataframe:\", df_rows_removed.shape)\n",
    "    return df_rows_removed\n",
    "\n",
    "# Example of usage\n",
    "list_of_rows_to_remove = [57, 57, 72, 101]\n",
    "df_with_rows_removed = remove_rows_from_df(df, list_of_rows_to_remove, printDetails = True)"
   ]
  },
  {
   "cell_type": "markdown",
   "metadata": {},
   "source": [
    "### Function for Removing Outlier Rows"
   ]
  },
  {
   "cell_type": "code",
   "execution_count": 11,
   "metadata": {},
   "outputs": [
    {
     "name": "stdout",
     "output_type": "stream",
     "text": [
      "There are 12 outliers in LotFrontage and their indices are:\n",
      "{197, 934, 807, 231, 1127, 1337, 909, 1298, 1107, 313, 1211, 1182}\n",
      "\n",
      "There are 2 outliers in OverallQual and their indices are:\n",
      "{533, 375}\n",
      "\n",
      "Dropping outliers based on 3 standard deviation criteria...\n",
      "14 observations (rows) dropped from dataframe\n",
      "Dimensions of new dataframe: (1446, 86)\n"
     ]
    }
   ],
   "source": [
    "# Input: dataframe, column name, and threshold for determining if observation is outlier in column\n",
    "# Ouput: a set whose elements are the indices (rows) of the outliers in this data frame\n",
    "def indices_of_outliers(df, column_name, stdev_threshold, printDetails = False):\n",
    "    mask_of_outliers = np.abs(df[column_name] - df[column_name].mean()) >= (stdev_threshold*df[column_name].std())\n",
    "    set_of_indices_of_outliers = set(df.index[mask_of_outliers].tolist())\n",
    "    if printDetails:\n",
    "        print(\"There are\",len(set_of_indices_of_outliers),\"outliers in\",column_name,\"and their indices are:\")\n",
    "        print(set_of_indices_of_outliers)\n",
    "    return set_of_indices_of_outliers\n",
    "\n",
    "# \"Vectorized\" version of set_of_outliers and removes all of them from dataframe\n",
    "# Non-mutatable, i.e. - original dataframe is not modified. Returns a new dataframe without outliers\n",
    "def remove_rows_with_outliers(df, list_of_column_names, stdev_threshold, printDetails = False):\n",
    "    set_of_indices_of_all_outliers = set()\n",
    "    for column_name in list_of_column_names:\n",
    "        set_of_indices_of_outliers = indices_of_outliers(df, column_name, stdev_threshold, printDetails)\n",
    "        if printDetails:\n",
    "            print(\"\")\n",
    "        set_of_indices_of_all_outliers = set_of_indices_of_all_outliers.union(set_of_indices_of_outliers)\n",
    "    list_of_indices_to_drop = list(set_of_indices_of_all_outliers)\n",
    "    if printDetails:\n",
    "        print(\"Dropping outliers based on\", stdev_threshold, \"standard deviation criteria...\")\n",
    "    df_without_outliers = remove_rows_from_df(df, list_of_indices_to_drop, printDetails)\n",
    "    return df_without_outliers\n",
    "\n",
    "# Example of usage\n",
    "list_of_column_names = [\"LotFrontage\", \"OverallQual\"]\n",
    "df_without_outliers = remove_rows_with_outliers(df, list_of_column_names, stdev_threshold = 3, printDetails = True)"
   ]
  },
  {
   "cell_type": "markdown",
   "metadata": {},
   "source": [
    "### Function for finding where MSSubClass conflicts with HouseStyle, i.e. - we don't know how many floors the house has"
   ]
  },
  {
   "cell_type": "code",
   "execution_count": 12,
   "metadata": {},
   "outputs": [
    {
     "name": "stdout",
     "output_type": "stream",
     "text": [
      "\n",
      "###########################################################################\n",
      "For MSSubClass = 20 ( 1-STORY 1946 & NEWER ALL STYLES ) \n",
      "The values & frequencies of HouseStyle are:\n",
      "1Story    534\n",
      "SLvl        1\n",
      "2Story      1\n",
      "Name: HouseStyle, dtype: int64\n",
      "\n",
      "Grabbing problematic observations where MSSubClass = 20 but HouseStyle = 2Story ...\n",
      "1 observation(s)\n",
      "\n",
      "Grabbing problematic observations where MSSubClass = 20 but HouseStyle = SLvl ...\n",
      "1 observation(s)\n"
     ]
    }
   ],
   "source": [
    "# Define two auxiliary functions to help us comb through this data\n",
    "#   to find conflicts between the labels of the columns \"MSSubClass\" and \"HouseStyle\"\n",
    "def HouseStyle_Value_Count_for_MSSubClass(df, MSSubClass_label, description):\n",
    "    print(\"\")\n",
    "    print(\"#\"*75)\n",
    "    print(\"For MSSubClass =\",MSSubClass_label,\"(\",description,\")\",\"\\nThe values & frequencies of HouseStyle are:\")\n",
    "    print(df.loc[df[\"MSSubClass\"]==MSSubClass_label,\"HouseStyle\"].value_counts())\n",
    "    print(\"\")\n",
    "\n",
    "def Find_MSSubClass_HouseStyle_Conflict(df, MSSubClass_label, HouseStyle_label):\n",
    "    rows_with_conflict = (df[\"MSSubClass\"]==MSSubClass_label) & (df[\"HouseStyle\"]==HouseStyle_label)\n",
    "    if (sum(rows_with_conflict) >= 1):\n",
    "        print(\"Grabbing problematic observations where MSSubClass =\",MSSubClass_label,\"but\",\"HouseStyle =\", HouseStyle_label,\"...\")\n",
    "    else:\n",
    "        raise ValueError(\"No rows matching this criterion!\")\n",
    "    return rows_with_conflict\n",
    "\n",
    "# Example of usage\n",
    "# MSSubClass = 20: 1-STORY 1946 & NEWER ALL STYLES\n",
    "HouseStyle_Value_Count_for_MSSubClass(df, 20, \"1-STORY 1946 & NEWER ALL STYLES\")\n",
    "mask_1 = Find_MSSubClass_HouseStyle_Conflict(df, 20, \"2Story\")\n",
    "print(sum(mask_1),\"observation(s)\")\n",
    "\n",
    "print(\"\")\n",
    "\n",
    "mask_2 = Find_MSSubClass_HouseStyle_Conflict(df, 20, \"SLvl\")\n",
    "print(sum(mask_2),\"observation(s)\")"
   ]
  },
  {
   "cell_type": "markdown",
   "metadata": {},
   "source": [
    "### Function for finding houses that fail the sanity check, i.e. - square footage of basement = 0 but there is a bathroom in the basement, the renovation date is after the sell date, etc."
   ]
  },
  {
   "cell_type": "code",
   "execution_count": 13,
   "metadata": {},
   "outputs": [
    {
     "data": {
      "text/html": [
       "<div>\n",
       "<style scoped>\n",
       "    .dataframe tbody tr th:only-of-type {\n",
       "        vertical-align: middle;\n",
       "    }\n",
       "\n",
       "    .dataframe tbody tr th {\n",
       "        vertical-align: top;\n",
       "    }\n",
       "\n",
       "    .dataframe thead th {\n",
       "        text-align: right;\n",
       "    }\n",
       "</style>\n",
       "<table border=\"1\" class=\"dataframe\">\n",
       "  <thead>\n",
       "    <tr style=\"text-align: right;\">\n",
       "      <th></th>\n",
       "      <th>YearRemodAdd</th>\n",
       "      <th>YrSold</th>\n",
       "      <th>YearBuilt</th>\n",
       "    </tr>\n",
       "  </thead>\n",
       "  <tbody>\n",
       "    <tr>\n",
       "      <td>523</td>\n",
       "      <td>2008</td>\n",
       "      <td>2007</td>\n",
       "      <td>2007</td>\n",
       "    </tr>\n",
       "  </tbody>\n",
       "</table>\n",
       "</div>"
      ],
      "text/plain": [
       "     YearRemodAdd  YrSold  YearBuilt\n",
       "523          2008    2007       2007"
      ]
     },
     "execution_count": 13,
     "metadata": {},
     "output_type": "execute_result"
    }
   ],
   "source": [
    "df.loc[df[\"YearRemodAdd\"] > df[\"YrSold\"], [\"YearRemodAdd\",\"YrSold\",\"YearBuilt\"]]\n",
    "\n",
    "# Age of house = YearSold - 0.6*YearRemod - 0.4*YrBuilt\n",
    "# This would produce a negative age\n",
    "# Proposed solution: add 1.0 year to every single house's age...then this observation would become positive"
   ]
  },
  {
   "cell_type": "code",
   "execution_count": 14,
   "metadata": {
    "scrolled": true
   },
   "outputs": [
    {
     "data": {
      "text/plain": [
       "None       859\n",
       "Stone        1\n",
       "BrkFace      1\n",
       "Name: MasVnrType, dtype: int64"
      ]
     },
     "execution_count": 14,
     "metadata": {},
     "output_type": "execute_result"
    }
   ],
   "source": [
    "# MasVnrArea = 0, but the MasVnrType is \"Stone\" or \"BrkFace\"\n",
    "\n",
    "x = df.loc[df[\"MasVnrArea\"]==0]\n",
    "x[\"MasVnrType\"].value_counts()"
   ]
  },
  {
   "cell_type": "markdown",
   "metadata": {},
   "source": [
    "### Function to convert NA category to None"
   ]
  },
  {
   "cell_type": "markdown",
   "metadata": {},
   "source": [
    "- Ordinal Categories that need to convert NA to None:\n",
    "\n",
    "BsmtExposure, BsmtQual, FireplaceQu, GarageQual"
   ]
  },
  {
   "cell_type": "code",
   "execution_count": 15,
   "metadata": {},
   "outputs": [],
   "source": [
    "def convert_NA_category(df,series_names):\n",
    "    for series_name in series_names:\n",
    "        df.loc[df[series_name].isnull(),series_name] = 'None'\n",
    "        print(df[series_name].value_counts(sort = True))\n",
    "        print('*'*20)"
   ]
  },
  {
   "cell_type": "code",
   "execution_count": 16,
   "metadata": {},
   "outputs": [
    {
     "name": "stdout",
     "output_type": "stream",
     "text": [
      "No      953\n",
      "Av      221\n",
      "Gd      134\n",
      "Mn      114\n",
      "None     38\n",
      "Name: BsmtExposure, dtype: int64\n",
      "********************\n",
      "TA      649\n",
      "Gd      618\n",
      "Ex      121\n",
      "None     37\n",
      "Fa       35\n",
      "Name: BsmtQual, dtype: int64\n",
      "********************\n",
      "None    690\n",
      "Gd      380\n",
      "TA      313\n",
      "Fa       33\n",
      "Ex       24\n",
      "Po       20\n",
      "Name: FireplaceQu, dtype: int64\n",
      "********************\n",
      "TA      1311\n",
      "None      81\n",
      "Fa        48\n",
      "Gd        14\n",
      "Ex         3\n",
      "Po         3\n",
      "Name: GarageQual, dtype: int64\n",
      "********************\n"
     ]
    }
   ],
   "source": [
    "convert_NA_category(df,['BsmtExposure','BsmtQual','FireplaceQu','GarageQual'])"
   ]
  },
  {
   "cell_type": "markdown",
   "metadata": {},
   "source": [
    "### Function to create dummify features "
   ]
  },
  {
   "cell_type": "code",
   "execution_count": 17,
   "metadata": {},
   "outputs": [],
   "source": [
    "def dummify_categorical(df, columns):\n",
    "    for col in columns:\n",
    "        # value_counts (sort by frequency)\n",
    "        grouped = df.groupby(col)[[col]].agg('count').rename(columns={col:'count'}).sort_values(by = \"count\", ascending = False)\n",
    "        # dummify all categories\n",
    "        df = pd.get_dummies(df, columns=[col], prefix=col, prefix_sep='_') \n",
    "        # categories with frequency less than 70\n",
    "        columns_to_drop = list(grouped.loc[grouped['count']<65].index)\n",
    "        columns_to_drop = [col + \"_\" + i for i in columns_to_drop]\n",
    "        # drop dummified columns\n",
    "        if len(columns_to_drop) > 0:\n",
    "            df = df.drop(columns = columns_to_drop,axis = 1)\n",
    "        else:\n",
    "            # when all the categories have frequency higher than 70\n",
    "            df = df.drop(col + \"_\" + grouped.index[0], axis=1)\n",
    "    return df"
   ]
  },
  {
   "cell_type": "code",
   "execution_count": 18,
   "metadata": {},
   "outputs": [
    {
     "data": {
      "text/html": [
       "<div>\n",
       "<style scoped>\n",
       "    .dataframe tbody tr th:only-of-type {\n",
       "        vertical-align: middle;\n",
       "    }\n",
       "\n",
       "    .dataframe tbody tr th {\n",
       "        vertical-align: top;\n",
       "    }\n",
       "\n",
       "    .dataframe thead th {\n",
       "        text-align: right;\n",
       "    }\n",
       "</style>\n",
       "<table border=\"1\" class=\"dataframe\">\n",
       "  <thead>\n",
       "    <tr style=\"text-align: right;\">\n",
       "      <th></th>\n",
       "      <th>Id</th>\n",
       "      <th>MSSubClass</th>\n",
       "      <th>LotFrontage</th>\n",
       "      <th>LotArea</th>\n",
       "      <th>Street</th>\n",
       "      <th>Alley</th>\n",
       "      <th>LandContour</th>\n",
       "      <th>Utilities</th>\n",
       "      <th>LandSlope</th>\n",
       "      <th>Neighborhood</th>\n",
       "      <th>...</th>\n",
       "      <th>LotShape_IR1</th>\n",
       "      <th>LotShape_Reg</th>\n",
       "      <th>MasVnrType_BrkFace</th>\n",
       "      <th>MasVnrType_None</th>\n",
       "      <th>MasVnrType_Stone</th>\n",
       "      <th>MSZoning_FV</th>\n",
       "      <th>MSZoning_RL</th>\n",
       "      <th>MSZoning_RM</th>\n",
       "      <th>PavedDrive_N</th>\n",
       "      <th>PavedDrive_Y</th>\n",
       "    </tr>\n",
       "  </thead>\n",
       "  <tbody>\n",
       "    <tr>\n",
       "      <td>0</td>\n",
       "      <td>1</td>\n",
       "      <td>60</td>\n",
       "      <td>65.0</td>\n",
       "      <td>8450</td>\n",
       "      <td>Pave</td>\n",
       "      <td>NaN</td>\n",
       "      <td>Lvl</td>\n",
       "      <td>AllPub</td>\n",
       "      <td>Gtl</td>\n",
       "      <td>CollgCr</td>\n",
       "      <td>...</td>\n",
       "      <td>0</td>\n",
       "      <td>1</td>\n",
       "      <td>1</td>\n",
       "      <td>0</td>\n",
       "      <td>0</td>\n",
       "      <td>0</td>\n",
       "      <td>1</td>\n",
       "      <td>0</td>\n",
       "      <td>0</td>\n",
       "      <td>1</td>\n",
       "    </tr>\n",
       "    <tr>\n",
       "      <td>1</td>\n",
       "      <td>2</td>\n",
       "      <td>20</td>\n",
       "      <td>80.0</td>\n",
       "      <td>9600</td>\n",
       "      <td>Pave</td>\n",
       "      <td>NaN</td>\n",
       "      <td>Lvl</td>\n",
       "      <td>AllPub</td>\n",
       "      <td>Gtl</td>\n",
       "      <td>Veenker</td>\n",
       "      <td>...</td>\n",
       "      <td>0</td>\n",
       "      <td>1</td>\n",
       "      <td>0</td>\n",
       "      <td>1</td>\n",
       "      <td>0</td>\n",
       "      <td>0</td>\n",
       "      <td>1</td>\n",
       "      <td>0</td>\n",
       "      <td>0</td>\n",
       "      <td>1</td>\n",
       "    </tr>\n",
       "    <tr>\n",
       "      <td>2</td>\n",
       "      <td>3</td>\n",
       "      <td>60</td>\n",
       "      <td>68.0</td>\n",
       "      <td>11250</td>\n",
       "      <td>Pave</td>\n",
       "      <td>NaN</td>\n",
       "      <td>Lvl</td>\n",
       "      <td>AllPub</td>\n",
       "      <td>Gtl</td>\n",
       "      <td>CollgCr</td>\n",
       "      <td>...</td>\n",
       "      <td>1</td>\n",
       "      <td>0</td>\n",
       "      <td>1</td>\n",
       "      <td>0</td>\n",
       "      <td>0</td>\n",
       "      <td>0</td>\n",
       "      <td>1</td>\n",
       "      <td>0</td>\n",
       "      <td>0</td>\n",
       "      <td>1</td>\n",
       "    </tr>\n",
       "    <tr>\n",
       "      <td>3</td>\n",
       "      <td>4</td>\n",
       "      <td>70</td>\n",
       "      <td>60.0</td>\n",
       "      <td>9550</td>\n",
       "      <td>Pave</td>\n",
       "      <td>NaN</td>\n",
       "      <td>Lvl</td>\n",
       "      <td>AllPub</td>\n",
       "      <td>Gtl</td>\n",
       "      <td>Crawfor</td>\n",
       "      <td>...</td>\n",
       "      <td>1</td>\n",
       "      <td>0</td>\n",
       "      <td>0</td>\n",
       "      <td>1</td>\n",
       "      <td>0</td>\n",
       "      <td>0</td>\n",
       "      <td>1</td>\n",
       "      <td>0</td>\n",
       "      <td>0</td>\n",
       "      <td>1</td>\n",
       "    </tr>\n",
       "    <tr>\n",
       "      <td>4</td>\n",
       "      <td>5</td>\n",
       "      <td>60</td>\n",
       "      <td>84.0</td>\n",
       "      <td>14260</td>\n",
       "      <td>Pave</td>\n",
       "      <td>NaN</td>\n",
       "      <td>Lvl</td>\n",
       "      <td>AllPub</td>\n",
       "      <td>Gtl</td>\n",
       "      <td>NoRidge</td>\n",
       "      <td>...</td>\n",
       "      <td>1</td>\n",
       "      <td>0</td>\n",
       "      <td>1</td>\n",
       "      <td>0</td>\n",
       "      <td>0</td>\n",
       "      <td>0</td>\n",
       "      <td>1</td>\n",
       "      <td>0</td>\n",
       "      <td>0</td>\n",
       "      <td>1</td>\n",
       "    </tr>\n",
       "  </tbody>\n",
       "</table>\n",
       "<p>5 rows × 100 columns</p>\n",
       "</div>"
      ],
      "text/plain": [
       "   Id  MSSubClass  LotFrontage  LotArea Street Alley LandContour Utilities  \\\n",
       "0   1          60         65.0     8450   Pave   NaN         Lvl    AllPub   \n",
       "1   2          20         80.0     9600   Pave   NaN         Lvl    AllPub   \n",
       "2   3          60         68.0    11250   Pave   NaN         Lvl    AllPub   \n",
       "3   4          70         60.0     9550   Pave   NaN         Lvl    AllPub   \n",
       "4   5          60         84.0    14260   Pave   NaN         Lvl    AllPub   \n",
       "\n",
       "  LandSlope Neighborhood  ... LotShape_IR1 LotShape_Reg MasVnrType_BrkFace  \\\n",
       "0       Gtl      CollgCr  ...            0            1                  1   \n",
       "1       Gtl      Veenker  ...            0            1                  0   \n",
       "2       Gtl      CollgCr  ...            1            0                  1   \n",
       "3       Gtl      Crawfor  ...            1            0                  0   \n",
       "4       Gtl      NoRidge  ...            1            0                  1   \n",
       "\n",
       "  MasVnrType_None  MasVnrType_Stone  MSZoning_FV  MSZoning_RL  MSZoning_RM  \\\n",
       "0               0                 0            0            1            0   \n",
       "1               1                 0            0            1            0   \n",
       "2               0                 0            0            1            0   \n",
       "3               1                 0            0            1            0   \n",
       "4               0                 0            0            1            0   \n",
       "\n",
       "  PavedDrive_N PavedDrive_Y  \n",
       "0            0            1  \n",
       "1            0            1  \n",
       "2            0            1  \n",
       "3            0            1  \n",
       "4            0            1  \n",
       "\n",
       "[5 rows x 100 columns]"
      ]
     },
     "execution_count": 18,
     "metadata": {},
     "output_type": "execute_result"
    }
   ],
   "source": [
    "df_dummified = dummify_categorical(df,['CentralAir','Exterior1st','Foundation','Functional',\\\n",
    "                        'LotConfig','LotShape','MasVnrType','MSZoning','PavedDrive'])\n",
    "df_dummified.head(5)"
   ]
  },
  {
   "cell_type": "code",
   "execution_count": 19,
   "metadata": {},
   "outputs": [
    {
     "data": {
      "text/plain": [
       "Index(['Id', 'MSSubClass', 'LotFrontage', 'LotArea', 'Street', 'Alley',\n",
       "       'LandContour', 'Utilities', 'LandSlope', 'Neighborhood', 'Condition1',\n",
       "       'Condition2', 'BldgType', 'HouseStyle', 'OverallQual', 'OverallCond',\n",
       "       'YearBuilt', 'YearRemodAdd', 'RoofStyle', 'RoofMatl', 'Exterior2nd',\n",
       "       'MasVnrArea', 'ExterQual', 'ExterCond', 'BsmtQual', 'BsmtCond',\n",
       "       'BsmtExposure', 'BsmtFinType1', 'BsmtFinSF1', 'BsmtFinType2',\n",
       "       'BsmtFinSF2', 'BsmtUnfSF', 'TotalBsmtSF', 'Heating', 'HeatingQC',\n",
       "       'Electrical', '1stFlrSF', '2ndFlrSF', 'LowQualFinSF', 'GrLivArea',\n",
       "       'BsmtFullBath', 'BsmtHalfBath', 'FullBath', 'HalfBath', 'BedroomAbvGr',\n",
       "       'KitchenAbvGr', 'KitchenQual', 'TotRmsAbvGrd', 'Fireplaces',\n",
       "       'FireplaceQu', 'GarageType', 'GarageYrBlt', 'GarageFinish',\n",
       "       'GarageCars', 'GarageArea', 'GarageQual', 'GarageCond', 'WoodDeckSF',\n",
       "       'OpenPorchSF', 'EnclosedPorch', '3SsnPorch', 'ScreenPorch', 'PoolArea',\n",
       "       'PoolQC', 'Fence', 'MiscFeature', 'MiscVal', 'MoSold', 'YrSold',\n",
       "       'SaleType', 'SaleCondition', 'SalePrice', 'AdjTotalBsmtSF',\n",
       "       'AdjTotalBath', 'HouseAge', 'LogSalePrice', 'AdjOutdoorSF',\n",
       "       'CentralAir_N', 'Exterior1st_HdBoard', 'Exterior1st_MetalSd',\n",
       "       'Exterior1st_Plywood', 'Exterior1st_VinylSd', 'Exterior1st_Wd Sdng',\n",
       "       'Foundation_BrkTil', 'Foundation_CBlock', 'Foundation_PConc',\n",
       "       'Functional_Typ', 'LotConfig_Corner', 'LotConfig_CulDSac',\n",
       "       'LotConfig_Inside', 'LotShape_IR1', 'LotShape_Reg',\n",
       "       'MasVnrType_BrkFace', 'MasVnrType_None', 'MasVnrType_Stone',\n",
       "       'MSZoning_FV', 'MSZoning_RL', 'MSZoning_RM', 'PavedDrive_N',\n",
       "       'PavedDrive_Y'],\n",
       "      dtype='object')"
      ]
     },
     "execution_count": 19,
     "metadata": {},
     "output_type": "execute_result"
    }
   ],
   "source": [
    "df_dummified.columns"
   ]
  },
  {
   "cell_type": "markdown",
   "metadata": {},
   "source": [
    "### Function for ordinal variables"
   ]
  },
  {
   "cell_type": "code",
   "execution_count": 20,
   "metadata": {},
   "outputs": [],
   "source": [
    "def impute_ordinal(df, list_of_dic_to_replace):\n",
    "    for dic in list_of_dic_to_replace:\n",
    "        df = df.replace(dic)\n",
    "    return df"
   ]
  },
  {
   "cell_type": "code",
   "execution_count": 21,
   "metadata": {},
   "outputs": [
    {
     "data": {
      "text/html": [
       "<div>\n",
       "<style scoped>\n",
       "    .dataframe tbody tr th:only-of-type {\n",
       "        vertical-align: middle;\n",
       "    }\n",
       "\n",
       "    .dataframe tbody tr th {\n",
       "        vertical-align: top;\n",
       "    }\n",
       "\n",
       "    .dataframe thead th {\n",
       "        text-align: right;\n",
       "    }\n",
       "</style>\n",
       "<table border=\"1\" class=\"dataframe\">\n",
       "  <thead>\n",
       "    <tr style=\"text-align: right;\">\n",
       "      <th></th>\n",
       "      <th>Id</th>\n",
       "      <th>MSSubClass</th>\n",
       "      <th>LotFrontage</th>\n",
       "      <th>LotArea</th>\n",
       "      <th>Street</th>\n",
       "      <th>Alley</th>\n",
       "      <th>LandContour</th>\n",
       "      <th>Utilities</th>\n",
       "      <th>LandSlope</th>\n",
       "      <th>Neighborhood</th>\n",
       "      <th>...</th>\n",
       "      <th>LotShape_IR1</th>\n",
       "      <th>LotShape_Reg</th>\n",
       "      <th>MasVnrType_BrkFace</th>\n",
       "      <th>MasVnrType_None</th>\n",
       "      <th>MasVnrType_Stone</th>\n",
       "      <th>MSZoning_FV</th>\n",
       "      <th>MSZoning_RL</th>\n",
       "      <th>MSZoning_RM</th>\n",
       "      <th>PavedDrive_N</th>\n",
       "      <th>PavedDrive_Y</th>\n",
       "    </tr>\n",
       "  </thead>\n",
       "  <tbody>\n",
       "    <tr>\n",
       "      <td>0</td>\n",
       "      <td>1</td>\n",
       "      <td>60</td>\n",
       "      <td>65.0</td>\n",
       "      <td>8450</td>\n",
       "      <td>Pave</td>\n",
       "      <td>NaN</td>\n",
       "      <td>Lvl</td>\n",
       "      <td>AllPub</td>\n",
       "      <td>Gtl</td>\n",
       "      <td>CollgCr</td>\n",
       "      <td>...</td>\n",
       "      <td>0</td>\n",
       "      <td>1</td>\n",
       "      <td>1</td>\n",
       "      <td>0</td>\n",
       "      <td>0</td>\n",
       "      <td>0</td>\n",
       "      <td>1</td>\n",
       "      <td>0</td>\n",
       "      <td>0</td>\n",
       "      <td>1</td>\n",
       "    </tr>\n",
       "    <tr>\n",
       "      <td>1</td>\n",
       "      <td>2</td>\n",
       "      <td>20</td>\n",
       "      <td>80.0</td>\n",
       "      <td>9600</td>\n",
       "      <td>Pave</td>\n",
       "      <td>NaN</td>\n",
       "      <td>Lvl</td>\n",
       "      <td>AllPub</td>\n",
       "      <td>Gtl</td>\n",
       "      <td>Veenker</td>\n",
       "      <td>...</td>\n",
       "      <td>0</td>\n",
       "      <td>1</td>\n",
       "      <td>0</td>\n",
       "      <td>1</td>\n",
       "      <td>0</td>\n",
       "      <td>0</td>\n",
       "      <td>1</td>\n",
       "      <td>0</td>\n",
       "      <td>0</td>\n",
       "      <td>1</td>\n",
       "    </tr>\n",
       "    <tr>\n",
       "      <td>2</td>\n",
       "      <td>3</td>\n",
       "      <td>60</td>\n",
       "      <td>68.0</td>\n",
       "      <td>11250</td>\n",
       "      <td>Pave</td>\n",
       "      <td>NaN</td>\n",
       "      <td>Lvl</td>\n",
       "      <td>AllPub</td>\n",
       "      <td>Gtl</td>\n",
       "      <td>CollgCr</td>\n",
       "      <td>...</td>\n",
       "      <td>1</td>\n",
       "      <td>0</td>\n",
       "      <td>1</td>\n",
       "      <td>0</td>\n",
       "      <td>0</td>\n",
       "      <td>0</td>\n",
       "      <td>1</td>\n",
       "      <td>0</td>\n",
       "      <td>0</td>\n",
       "      <td>1</td>\n",
       "    </tr>\n",
       "    <tr>\n",
       "      <td>3</td>\n",
       "      <td>4</td>\n",
       "      <td>70</td>\n",
       "      <td>60.0</td>\n",
       "      <td>9550</td>\n",
       "      <td>Pave</td>\n",
       "      <td>NaN</td>\n",
       "      <td>Lvl</td>\n",
       "      <td>AllPub</td>\n",
       "      <td>Gtl</td>\n",
       "      <td>Crawfor</td>\n",
       "      <td>...</td>\n",
       "      <td>1</td>\n",
       "      <td>0</td>\n",
       "      <td>0</td>\n",
       "      <td>1</td>\n",
       "      <td>0</td>\n",
       "      <td>0</td>\n",
       "      <td>1</td>\n",
       "      <td>0</td>\n",
       "      <td>0</td>\n",
       "      <td>1</td>\n",
       "    </tr>\n",
       "    <tr>\n",
       "      <td>4</td>\n",
       "      <td>5</td>\n",
       "      <td>60</td>\n",
       "      <td>84.0</td>\n",
       "      <td>14260</td>\n",
       "      <td>Pave</td>\n",
       "      <td>NaN</td>\n",
       "      <td>Lvl</td>\n",
       "      <td>AllPub</td>\n",
       "      <td>Gtl</td>\n",
       "      <td>NoRidge</td>\n",
       "      <td>...</td>\n",
       "      <td>1</td>\n",
       "      <td>0</td>\n",
       "      <td>1</td>\n",
       "      <td>0</td>\n",
       "      <td>0</td>\n",
       "      <td>0</td>\n",
       "      <td>1</td>\n",
       "      <td>0</td>\n",
       "      <td>0</td>\n",
       "      <td>1</td>\n",
       "    </tr>\n",
       "  </tbody>\n",
       "</table>\n",
       "<p>5 rows × 100 columns</p>\n",
       "</div>"
      ],
      "text/plain": [
       "   Id  MSSubClass  LotFrontage  LotArea Street Alley LandContour Utilities  \\\n",
       "0   1          60         65.0     8450   Pave   NaN         Lvl    AllPub   \n",
       "1   2          20         80.0     9600   Pave   NaN         Lvl    AllPub   \n",
       "2   3          60         68.0    11250   Pave   NaN         Lvl    AllPub   \n",
       "3   4          70         60.0     9550   Pave   NaN         Lvl    AllPub   \n",
       "4   5          60         84.0    14260   Pave   NaN         Lvl    AllPub   \n",
       "\n",
       "  LandSlope Neighborhood  ... LotShape_IR1 LotShape_Reg MasVnrType_BrkFace  \\\n",
       "0       Gtl      CollgCr  ...            0            1                  1   \n",
       "1       Gtl      Veenker  ...            0            1                  0   \n",
       "2       Gtl      CollgCr  ...            1            0                  1   \n",
       "3       Gtl      Crawfor  ...            1            0                  0   \n",
       "4       Gtl      NoRidge  ...            1            0                  1   \n",
       "\n",
       "  MasVnrType_None  MasVnrType_Stone  MSZoning_FV  MSZoning_RL  MSZoning_RM  \\\n",
       "0               0                 0            0            1            0   \n",
       "1               1                 0            0            1            0   \n",
       "2               0                 0            0            1            0   \n",
       "3               1                 0            0            1            0   \n",
       "4               0                 0            0            1            0   \n",
       "\n",
       "  PavedDrive_N PavedDrive_Y  \n",
       "0            0            1  \n",
       "1            0            1  \n",
       "2            0            1  \n",
       "3            0            1  \n",
       "4            0            1  \n",
       "\n",
       "[5 rows x 100 columns]"
      ]
     },
     "execution_count": 21,
     "metadata": {},
     "output_type": "execute_result"
    }
   ],
   "source": [
    "list_of_dic_to_replace = [\n",
    "    {\"BsmtExposure\": {\"Gd\": 5, \"Av\": 4, \"Mn\": 3, \"No\": 2, \"None\": 0}},\n",
    "    {\"BsmtQual\": {\"Ex\": 7, \"Gd\": 4, \"TA\": 2, \"Fa\": 1, \"Po\": 0, \"None\": 0}},\n",
    "    {\"ExterQual\": {\"Ex\": 5, \"Gd\": 4, \"TA\": 3, \"Fa\": 1}}, # \"Po\": 0\n",
    "    {\"FireplaceQu\": {\"Ex\": 5, \"Gd\": 3, \"TA\": 2.5, \"Fa\": 1.5, \"Po\":0, \"None\": 0.5}},\n",
    "    {\"KitchenQual\": {\"Ex\": 4, \"Gd\": 3, \"TA\": 2, \"Fa\": 1}},    #\"Po\": 0\n",
    "    {\"GarageQual\": {\"Ex\": 5, \"Gd\": 5, \"TA\": 4.5, \"Fa\": 2.5, \"Po\": 1, \"None\": 1}},\n",
    "    {\"HeatingQC\": {\"Ex\": 3, \"Gd\": 2, \"TA\": 1.5, \"Fa\": 1, \"Po\": 0}}]\n",
    "\n",
    "df_ordinal_dummified = impute_ordinal(df_dummified,list_of_dic_to_replace)\n",
    "df_ordinal_dummified.head(5)"
   ]
  },
  {
   "cell_type": "markdown",
   "metadata": {},
   "source": [
    "# (2) Actual Pipeline Using Helper Functions"
   ]
  },
  {
   "cell_type": "markdown",
   "metadata": {},
   "source": [
    "### Remove outliers for all numeric features (columns)"
   ]
  },
  {
   "cell_type": "code",
   "execution_count": 22,
   "metadata": {},
   "outputs": [],
   "source": [
    "# df_numeric = df._get_numeric_data()\n",
    "# df_numeric = df_numeric.drop(['Id','LotFrontage','GarageYrBlt','MasVnrArea'],axis = 1)"
   ]
  },
  {
   "cell_type": "code",
   "execution_count": 23,
   "metadata": {},
   "outputs": [],
   "source": [
    "list_of_continuous_columns = ['AdjTotalBsmtSF', 'GarageArea', 'GrLivArea','HouseAge', 'LotArea',\\\n",
    "                        'AdjTotalBath', 'AdjOutdoorSF','OverallQual'] #'TotRmsAbvGrd','GrLivArea'\n",
    "# Multicollinearity between TotRmsAbvGrd and GrLivArea, Pick one or the other\n",
    "df_without_outliers = remove_rows_with_outliers(df_ordinal_dummified, list_of_continuous_columns,\\\n",
    "                                                stdev_threshold = 3, printDetails = False)"
   ]
  },
  {
   "cell_type": "markdown",
   "metadata": {},
   "source": [
    "### Checking Multicollinearity"
   ]
  },
  {
   "cell_type": "code",
   "execution_count": 24,
   "metadata": {},
   "outputs": [],
   "source": [
    "# Method 1: Checking Multicollinearity between Numeric Features by graph\n",
    "from sklearn.linear_model import LinearRegression, Ridge, Lasso, ElasticNet\n",
    "scores = {}\n",
    "ols = LinearRegression()\n",
    "from sklearn.metrics import r2_score\n",
    "for feature_name in list_of_continuous_columns:\n",
    "    df2 = df_ordinal_dummified.loc[:,list_of_continuous_columns].copy()\n",
    "    feature = df2[feature_name].copy()\n",
    "    df2.drop(feature_name,axis =1,inplace = True)\n",
    "    ols.fit(df2,feature)\n",
    "    scores[feature_name] = ols.score(df2,feature)\n",
    "    "
   ]
  },
  {
   "cell_type": "code",
   "execution_count": 25,
   "metadata": {},
   "outputs": [
    {
     "data": {
      "text/plain": [
       "Text(0.5, 1.0, '$R^2$ of a continuous feature against the other features')"
      ]
     },
     "execution_count": 25,
     "metadata": {},
     "output_type": "execute_result"
    },
    {
     "data": {
      "image/png": "[encoded data removed]",
      "text/plain": [
       "<Figure size 432x288 with 1 Axes>"
      ]
     },
     "metadata": {
      "needs_background": "light"
     },
     "output_type": "display_data"
    }
   ],
   "source": [
    "import seaborn as sns\n",
    "sns.barplot(x='R2',y='index', data=pd.DataFrame(scores, index=['R2']).T.reset_index())\n",
    "plt.title('$R^2$ of a continuous feature against the other features')"
   ]
  },
  {
   "cell_type": "code",
   "execution_count": 26,
   "metadata": {},
   "outputs": [
    {
     "name": "stderr",
     "output_type": "stream",
     "text": [
      "C:\\Users\\zhang\\Anaconda3\\lib\\site-packages\\numpy\\core\\fromnumeric.py:2389: FutureWarning: Method .ptp is deprecated and will be removed in a future version. Use numpy.ptp instead.\n",
      "  return ptp(axis=axis, out=out, **kwargs)\n"
     ]
    },
    {
     "data": {
      "text/plain": [
       "const             57.080711\n",
       "AdjTotalBsmtSF     1.618154\n",
       "GarageArea         1.705483\n",
       "GrLivArea          2.279414\n",
       "HouseAge           2.150908\n",
       "LotArea            1.151795\n",
       "AdjTotalBath       2.115894\n",
       "AdjOutdoorSF       1.220141\n",
       "OverallQual        2.677684\n",
       "dtype: float64"
      ]
     },
     "execution_count": 26,
     "metadata": {},
     "output_type": "execute_result"
    }
   ],
   "source": [
    "# Method 2: Using VIF to check multicollinearity\n",
    "from statsmodels.stats.outliers_influence import variance_inflation_factor\n",
    "from statsmodels.tools.tools import add_constant\n",
    "\n",
    "VIF = add_constant(df_ordinal_dummified.loc[:,list_of_continuous_columns])\n",
    "pd.Series([variance_inflation_factor(VIF.values, i) \n",
    "               for i in range(VIF.shape[1])], \n",
    "              index=VIF.columns)"
   ]
  },
  {
   "cell_type": "markdown",
   "metadata": {},
   "source": [
    "### Remove rows where MSSubClass conflicts with HouseStyle.  Just showing this for cases where MSSubClass = 20.  We need to continue searching for all cases, such as MSSubClass = 30, 40, etc..."
   ]
  },
  {
   "cell_type": "code",
   "execution_count": 27,
   "metadata": {},
   "outputs": [
    {
     "data": {
      "text/plain": [
       "8"
      ]
     },
     "execution_count": 27,
     "metadata": {},
     "output_type": "execute_result"
    }
   ],
   "source": [
    "df['MasVnrType'].isnull().sum()"
   ]
  },
  {
   "cell_type": "markdown",
   "metadata": {},
   "source": [
    "# Training Linear Regression Model"
   ]
  },
  {
   "cell_type": "code",
   "execution_count": 28,
   "metadata": {},
   "outputs": [],
   "source": [
    "list_of_dummified_categorical = ['CentralAir_N', 'Exterior1st_HdBoard', 'Exterior1st_MetalSd',\n",
    "       'Exterior1st_Plywood', 'Exterior1st_VinylSd', 'Exterior1st_Wd Sdng',\n",
    "       'Foundation_BrkTil', 'Foundation_CBlock', 'Foundation_PConc',\n",
    "       'Functional_Typ', 'LotConfig_Corner', 'LotConfig_CulDSac',\n",
    "       'LotConfig_Inside', 'LotShape_IR1', 'LotShape_Reg',\n",
    "       'MasVnrType_BrkFace', 'MasVnrType_None', 'MasVnrType_Stone',\n",
    "       'MSZoning_FV', 'MSZoning_RL', 'MSZoning_RM', 'PavedDrive_N',\n",
    "       'PavedDrive_Y']"
   ]
  },
  {
   "cell_type": "code",
   "execution_count": 29,
   "metadata": {},
   "outputs": [],
   "source": [
    "list_of_ordinal_categorical = ['BsmtExposure', 'BsmtQual', 'ExterQual', 'FireplaceQu', 'GarageQual',\\\n",
    "'HeatingQC', 'KitchenQual'] "
   ]
  },
  {
   "cell_type": "code",
   "execution_count": 30,
   "metadata": {},
   "outputs": [],
   "source": [
    "# list_of_predictors = df_numeric.columns.to_list()+list_of_dummified_categorical+list_of_ordinal_categorical\n",
    "# len(list_of_predictors)"
   ]
  },
  {
   "cell_type": "code",
   "execution_count": 31,
   "metadata": {},
   "outputs": [],
   "source": [
    "# X = df_ordinal_dummified[list_of_predictors]\n",
    "# Y = df_ordinal_dummified['LogSalePrice'].to_numpy()"
   ]
  },
  {
   "cell_type": "code",
   "execution_count": 32,
   "metadata": {},
   "outputs": [
    {
     "data": {
      "text/plain": [
       "38"
      ]
     },
     "execution_count": 32,
     "metadata": {},
     "output_type": "execute_result"
    }
   ],
   "source": [
    "list_of_predictors = list_of_continuous_columns+list_of_dummified_categorical+list_of_ordinal_categorical\n",
    "len(list_of_predictors)"
   ]
  },
  {
   "cell_type": "code",
   "execution_count": 33,
   "metadata": {},
   "outputs": [],
   "source": [
    "X = df_without_outliers[list_of_predictors] # convert to an array \n",
    "Y = df_without_outliers['LogSalePrice'].to_numpy() # convert to an array "
   ]
  },
  {
   "cell_type": "code",
   "execution_count": 67,
   "metadata": {},
   "outputs": [
    {
     "data": {
      "text/plain": [
       "Index(['AdjTotalBsmtSF', 'GarageArea', 'GrLivArea', 'HouseAge', 'LotArea',\n",
       "       'AdjTotalBath', 'AdjOutdoorSF', 'OverallQual', 'CentralAir_N',\n",
       "       'Exterior1st_HdBoard', 'Exterior1st_MetalSd', 'Exterior1st_Plywood',\n",
       "       'Exterior1st_VinylSd', 'Exterior1st_Wd Sdng', 'Foundation_BrkTil',\n",
       "       'Foundation_CBlock', 'Foundation_PConc', 'Functional_Typ',\n",
       "       'LotConfig_Corner', 'LotConfig_CulDSac', 'LotConfig_Inside',\n",
       "       'LotShape_IR1', 'LotShape_Reg', 'MasVnrType_BrkFace', 'MasVnrType_None',\n",
       "       'MasVnrType_Stone', 'MSZoning_FV', 'MSZoning_RL', 'MSZoning_RM',\n",
       "       'PavedDrive_N', 'PavedDrive_Y', 'BsmtExposure', 'BsmtQual', 'ExterQual',\n",
       "       'FireplaceQu', 'GarageQual', 'HeatingQC', 'KitchenQual'],\n",
       "      dtype='object')"
      ]
     },
     "execution_count": 67,
     "metadata": {},
     "output_type": "execute_result"
    }
   ],
   "source": [
    "X.columns"
   ]
  },
  {
   "cell_type": "code",
   "execution_count": 34,
   "metadata": {},
   "outputs": [
    {
     "data": {
      "text/html": [
       "<div>\n",
       "<style scoped>\n",
       "    .dataframe tbody tr th:only-of-type {\n",
       "        vertical-align: middle;\n",
       "    }\n",
       "\n",
       "    .dataframe tbody tr th {\n",
       "        vertical-align: top;\n",
       "    }\n",
       "\n",
       "    .dataframe thead th {\n",
       "        text-align: right;\n",
       "    }\n",
       "</style>\n",
       "<table border=\"1\" class=\"dataframe\">\n",
       "  <thead>\n",
       "    <tr style=\"text-align: right;\">\n",
       "      <th></th>\n",
       "      <th>0</th>\n",
       "    </tr>\n",
       "  </thead>\n",
       "  <tbody>\n",
       "  </tbody>\n",
       "</table>\n",
       "</div>"
      ],
      "text/plain": [
       "Empty DataFrame\n",
       "Columns: [0]\n",
       "Index: []"
      ]
     },
     "execution_count": 34,
     "metadata": {},
     "output_type": "execute_result"
    }
   ],
   "source": [
    "df0=pd.DataFrame(X.isnull().sum())\n",
    "df0.loc[df0[0]!=0,]"
   ]
  },
  {
   "cell_type": "code",
   "execution_count": 35,
   "metadata": {},
   "outputs": [],
   "source": [
    "from sklearn.linear_model import LinearRegression, Ridge, Lasso, ElasticNet\n",
    "from sklearn.metrics import mean_squared_error\n",
    "from sklearn.metrics import r2_score\n",
    "import sklearn.model_selection as ms\n",
    "from sklearn.model_selection import KFold\n",
    "from math import sqrt\n",
    "from statistics import mean "
   ]
  },
  {
   "cell_type": "code",
   "execution_count": 52,
   "metadata": {},
   "outputs": [],
   "source": [
    "## use train_test_split to split the dataset into training and test datasets\n",
    "X_train, X_test, y_train, y_test = ms.train_test_split(X, Y, train_size=0.8, test_size=0.2)"
   ]
  },
  {
   "cell_type": "code",
   "execution_count": 60,
   "metadata": {},
   "outputs": [
    {
     "name": "stdout",
     "output_type": "stream",
     "text": [
      "Average test MSE for alpha = 1e-10 is: 0.0161\n",
      "Average train MSE for alpha = 1e-10 is: 0.0146\n",
      "\n",
      "Average test MSE for alpha = 1.163205817806895e-10 is: 0.0163\n",
      "Average train MSE for alpha = 1.163205817806895e-10 is: 0.0146\n",
      "\n",
      "Average test MSE for alpha = 1.3530477745798075e-10 is: 0.0161\n",
      "Average train MSE for alpha = 1.3530477745798075e-10 is: 0.0146\n",
      "\n",
      "Average test MSE for alpha = 1.5738730431619044e-10 is: 0.0162\n",
      "Average train MSE for alpha = 1.5738730431619044e-10 is: 0.0146\n",
      "\n",
      "Average test MSE for alpha = 1.8307382802953697e-10 is: 0.0167\n",
      "Average train MSE for alpha = 1.8307382802953697e-10 is: 0.0146\n",
      "\n",
      "Average test MSE for alpha = 2.1295254185213643e-10 is: 0.0166\n",
      "Average train MSE for alpha = 2.1295254185213643e-10 is: 0.0146\n",
      "\n",
      "Average test MSE for alpha = 2.477076355991714e-10 is: 0.0167\n",
      "Average train MSE for alpha = 2.477076355991714e-10 is: 0.0146\n",
      "\n",
      "Average test MSE for alpha = 2.881349628441465e-10 is: 0.0167\n",
      "Average train MSE for alpha = 2.881349628441465e-10 is: 0.0146\n",
      "\n",
      "Average test MSE for alpha = 3.351602650938848e-10 is: 0.0164\n",
      "Average train MSE for alpha = 3.351602650938848e-10 is: 0.0146\n",
      "\n",
      "Average test MSE for alpha = 3.89860370254908e-10 is: 0.0167\n",
      "Average train MSE for alpha = 3.89860370254908e-10 is: 0.0146\n",
      "\n",
      "Average test MSE for alpha = 4.5348785081285916e-10 is: 0.0161\n",
      "Average train MSE for alpha = 4.5348785081285916e-10 is: 0.0146\n",
      "\n",
      "Average test MSE for alpha = 5.274997063702609e-10 is: 0.0161\n",
      "Average train MSE for alpha = 5.274997063702609e-10 is: 0.0146\n",
      "\n",
      "Average test MSE for alpha = 6.135907273413163e-10 is: 0.0166\n",
      "Average train MSE for alpha = 6.135907273413163e-10 is: 0.0146\n",
      "\n",
      "Average test MSE for alpha = 7.137323037957834e-10 is: 0.0162\n",
      "Average train MSE for alpha = 7.137323037957834e-10 is: 0.0146\n",
      "\n",
      "Average test MSE for alpha = 8.302175681319736e-10 is: 0.0163\n",
      "Average train MSE for alpha = 8.302175681319736e-10 is: 0.0146\n",
      "\n",
      "Average test MSE for alpha = 9.65713905296604e-10 is: 0.0162\n",
      "Average train MSE for alpha = 9.65713905296604e-10 is: 0.0146\n",
      "\n",
      "Average test MSE for alpha = 1.1233240329780266e-09 is: 0.0159\n",
      "Average train MSE for alpha = 1.1233240329780266e-09 is: 0.0146\n",
      "\n",
      "Average test MSE for alpha = 1.306657050442345e-09 is: 0.0164\n",
      "Average train MSE for alpha = 1.306657050442345e-09 is: 0.0146\n",
      "\n",
      "Average test MSE for alpha = 1.519911082952933e-09 is: 0.0164\n",
      "Average train MSE for alpha = 1.519911082952933e-09 is: 0.0146\n",
      "\n",
      "Average test MSE for alpha = 1.7679694142400301e-09 is: 0.0161\n",
      "Average train MSE for alpha = 1.7679694142400301e-09 is: 0.0146\n",
      "\n",
      "Average test MSE for alpha = 2.0565123083486515e-09 is: 0.0162\n",
      "Average train MSE for alpha = 2.0565123083486515e-09 is: 0.0146\n",
      "\n",
      "Average test MSE for alpha = 2.3921470814626386e-09 is: 0.0164\n",
      "Average train MSE for alpha = 2.3921470814626386e-09 is: 0.0146\n",
      "\n",
      "Average test MSE for alpha = 2.7825594022071257e-09 is: 0.0165\n",
      "Average train MSE for alpha = 2.7825594022071257e-09 is: 0.0146\n",
      "\n",
      "Average test MSE for alpha = 3.236689285040605e-09 is: 0.0162\n",
      "Average train MSE for alpha = 3.236689285040605e-09 is: 0.0146\n",
      "\n",
      "Average test MSE for alpha = 3.764935806792472e-09 is: 0.0162\n",
      "Average train MSE for alpha = 3.764935806792472e-09 is: 0.0146\n",
      "\n",
      "Average test MSE for alpha = 4.379395234130499e-09 is: 0.0163\n",
      "Average train MSE for alpha = 4.379395234130499e-09 is: 0.0146\n",
      "\n",
      "Average test MSE for alpha = 5.094138014816386e-09 is: 0.0162\n",
      "Average train MSE for alpha = 5.094138014816386e-09 is: 0.0146\n",
      "\n",
      "Average test MSE for alpha = 5.925530975545686e-09 is: 0.0164\n",
      "Average train MSE for alpha = 5.925530975545686e-09 is: 0.0146\n",
      "\n",
      "Average test MSE for alpha = 6.892612104349709e-09 is: 0.0165\n",
      "Average train MSE for alpha = 6.892612104349709e-09 is: 0.0146\n",
      "\n",
      "Average test MSE for alpha = 8.017526499665808e-09 is: 0.0165\n",
      "Average train MSE for alpha = 8.017526499665808e-09 is: 0.0146\n",
      "\n",
      "Average test MSE for alpha = 9.326033468832218e-09 is: 0.0164\n",
      "Average train MSE for alpha = 9.326033468832218e-09 is: 0.0146\n",
      "\n",
      "Average test MSE for alpha = 1.0848096388007433e-08 is: 0.0160\n",
      "Average train MSE for alpha = 1.0848096388007433e-08 is: 0.0146\n",
      "\n",
      "Average test MSE for alpha = 1.261856883066021e-08 is: 0.0165\n",
      "Average train MSE for alpha = 1.261856883066021e-08 is: 0.0146\n",
      "\n",
      "Average test MSE for alpha = 1.4677992676220705e-08 is: 0.0167\n",
      "Average train MSE for alpha = 1.4677992676220705e-08 is: 0.0146\n",
      "\n",
      "Average test MSE for alpha = 1.7073526474706922e-08 is: 0.0164\n",
      "Average train MSE for alpha = 1.7073526474706922e-08 is: 0.0146\n",
      "\n",
      "Average test MSE for alpha = 1.98600253258591e-08 is: 0.0163\n",
      "Average train MSE for alpha = 1.98600253258591e-08 is: 0.0146\n",
      "\n",
      "Average test MSE for alpha = 2.310129700083158e-08 is: 0.0167\n",
      "Average train MSE for alpha = 2.310129700083158e-08 is: 0.0146\n",
      "\n",
      "Average test MSE for alpha = 2.687156307025227e-08 is: 0.0163\n",
      "Average train MSE for alpha = 2.687156307025227e-08 is: 0.0146\n",
      "\n",
      "Average test MSE for alpha = 3.1257158496882355e-08 is: 0.0162\n",
      "Average train MSE for alpha = 3.1257158496882355e-08 is: 0.0146\n",
      "\n",
      "Average test MSE for alpha = 3.635850861168577e-08 is: 0.0162\n",
      "Average train MSE for alpha = 3.635850861168577e-08 is: 0.0146\n",
      "\n",
      "Average test MSE for alpha = 4.229242874389499e-08 is: 0.0163\n",
      "Average train MSE for alpha = 4.229242874389499e-08 is: 0.0146\n",
      "\n",
      "Average test MSE for alpha = 4.919479916408221e-08 is: 0.0161\n",
      "Average train MSE for alpha = 4.919479916408221e-08 is: 0.0146\n",
      "\n",
      "Average test MSE for alpha = 5.72236765935022e-08 is: 0.0162\n",
      "Average train MSE for alpha = 5.72236765935022e-08 is: 0.0146\n",
      "\n",
      "Average test MSE for alpha = 6.6562913529862e-08 is: 0.0161\n",
      "Average train MSE for alpha = 6.6562913529862e-08 is: 0.0146\n",
      "\n",
      "Average test MSE for alpha = 7.742636826811277e-08 is: 0.0165\n",
      "Average train MSE for alpha = 7.742636826811277e-08 is: 0.0146\n",
      "\n",
      "Average test MSE for alpha = 9.006280202112795e-08 is: 0.0163\n",
      "Average train MSE for alpha = 9.006280202112795e-08 is: 0.0146\n",
      "\n",
      "Average test MSE for alpha = 1.0476157527896662e-07 is: 0.0165\n",
      "Average train MSE for alpha = 1.0476157527896662e-07 is: 0.0146\n",
      "\n",
      "Average test MSE for alpha = 1.2185927384710896e-07 is: 0.0166\n",
      "Average train MSE for alpha = 1.2185927384710896e-07 is: 0.0146\n",
      "\n",
      "Average test MSE for alpha = 1.4174741629268078e-07 is: 0.0160\n",
      "Average train MSE for alpha = 1.4174741629268078e-07 is: 0.0146\n",
      "\n",
      "Average test MSE for alpha = 1.6488141929074214e-07 is: 0.0163\n",
      "Average train MSE for alpha = 1.6488141929074214e-07 is: 0.0146\n",
      "\n",
      "Average test MSE for alpha = 1.9179102616724926e-07 is: 0.0162\n",
      "Average train MSE for alpha = 1.9179102616724926e-07 is: 0.0146\n",
      "\n",
      "Average test MSE for alpha = 2.2309243744089835e-07 is: 0.0162\n",
      "Average train MSE for alpha = 2.2309243744089835e-07 is: 0.0146\n",
      "\n",
      "Average test MSE for alpha = 2.5950242113997374e-07 is: 0.0164\n",
      "Average train MSE for alpha = 2.5950242113997374e-07 is: 0.0146\n",
      "\n",
      "Average test MSE for alpha = 3.018547260049924e-07 is: 0.0165\n",
      "Average train MSE for alpha = 3.018547260049924e-07 is: 0.0146\n",
      "\n",
      "Average test MSE for alpha = 3.5111917342151345e-07 is: 0.0164\n",
      "Average train MSE for alpha = 3.5111917342151345e-07 is: 0.0146\n",
      "\n",
      "Average test MSE for alpha = 4.0842386526745255e-07 is: 0.0160\n",
      "Average train MSE for alpha = 4.0842386526745255e-07 is: 0.0146\n",
      "\n",
      "Average test MSE for alpha = 4.750810162102803e-07 is: 0.0160\n",
      "Average train MSE for alpha = 4.750810162102803e-07 is: 0.0146\n",
      "\n",
      "Average test MSE for alpha = 5.526170019854088e-07 is: 0.0159\n",
      "Average train MSE for alpha = 5.526170019854088e-07 is: 0.0146\n",
      "\n",
      "Average test MSE for alpha = 6.428073117284319e-07 is: 0.0163\n",
      "Average train MSE for alpha = 6.428073117284319e-07 is: 0.0146\n",
      "\n",
      "Average test MSE for alpha = 7.477172047313224e-07 is: 0.0167\n",
      "Average train MSE for alpha = 7.477172047313224e-07 is: 0.0145\n",
      "\n",
      "Average test MSE for alpha = 8.697490026177835e-07 is: 0.0163\n",
      "Average train MSE for alpha = 8.697490026177835e-07 is: 0.0146\n",
      "\n",
      "Average test MSE for alpha = 1.0116970998767502e-06 is: 0.0163\n",
      "Average train MSE for alpha = 1.0116970998767502e-06 is: 0.0146\n",
      "\n",
      "Average test MSE for alpha = 1.1768119524349991e-06 is: 0.0160\n",
      "Average train MSE for alpha = 1.1768119524349991e-06 is: 0.0146\n",
      "\n",
      "Average test MSE for alpha = 1.368874509537082e-06 is: 0.0165\n",
      "Average train MSE for alpha = 1.368874509537082e-06 is: 0.0146\n",
      "\n",
      "Average test MSE for alpha = 1.592282793341094e-06 is: 0.0166\n",
      "Average train MSE for alpha = 1.592282793341094e-06 is: 0.0146\n",
      "\n",
      "Average test MSE for alpha = 1.8521526088081743e-06 is: 0.0163\n",
      "Average train MSE for alpha = 1.8521526088081743e-06 is: 0.0146\n",
      "\n",
      "Average test MSE for alpha = 2.1544346900318865e-06 is: 0.0162\n",
      "Average train MSE for alpha = 2.1544346900318865e-06 is: 0.0146\n",
      "\n"
     ]
    },
    {
     "name": "stdout",
     "output_type": "stream",
     "text": [
      "Average test MSE for alpha = 2.506050965530085e-06 is: 0.0161\n",
      "Average train MSE for alpha = 2.506050965530085e-06 is: 0.0146\n",
      "\n",
      "Average test MSE for alpha = 2.9150530628251817e-06 is: 0.0162\n",
      "Average train MSE for alpha = 2.9150530628251817e-06 is: 0.0146\n",
      "\n",
      "Average test MSE for alpha = 3.3908066818940596e-06 is: 0.0164\n",
      "Average train MSE for alpha = 3.3908066818940596e-06 is: 0.0146\n",
      "\n",
      "Average test MSE for alpha = 3.944206059437656e-06 is: 0.0163\n",
      "Average train MSE for alpha = 3.944206059437656e-06 is: 0.0146\n",
      "\n",
      "Average test MSE for alpha = 4.5879234349670895e-06 is: 0.0160\n",
      "Average train MSE for alpha = 4.5879234349670895e-06 is: 0.0146\n",
      "\n",
      "Average test MSE for alpha = 5.336699231206313e-06 is: 0.0162\n",
      "Average train MSE for alpha = 5.336699231206313e-06 is: 0.0146\n",
      "\n",
      "Average test MSE for alpha = 6.207679593624767e-06 is: 0.0164\n",
      "Average train MSE for alpha = 6.207679593624767e-06 is: 0.0146\n",
      "\n",
      "Average test MSE for alpha = 7.220809018385471e-06 is: 0.0166\n",
      "Average train MSE for alpha = 7.220809018385471e-06 is: 0.0146\n",
      "\n",
      "Average test MSE for alpha = 8.399287059458474e-06 is: 0.0162\n",
      "Average train MSE for alpha = 8.399287059458474e-06 is: 0.0146\n",
      "\n",
      "Average test MSE for alpha = 9.770099572992266e-06 is: 0.0164\n",
      "Average train MSE for alpha = 9.770099572992266e-06 is: 0.0146\n",
      "\n",
      "Average test MSE for alpha = 1.1364636663857266e-05 is: 0.0163\n",
      "Average train MSE for alpha = 1.1364636663857266e-05 is: 0.0146\n",
      "\n",
      "Average test MSE for alpha = 1.3219411484660314e-05 is: 0.0163\n",
      "Average train MSE for alpha = 1.3219411484660314e-05 is: 0.0146\n",
      "\n",
      "Average test MSE for alpha = 1.5376896346940163e-05 is: 0.0162\n",
      "Average train MSE for alpha = 1.5376896346940163e-05 is: 0.0147\n",
      "\n",
      "Average test MSE for alpha = 1.7886495290574353e-05 is: 0.0163\n",
      "Average train MSE for alpha = 1.7886495290574353e-05 is: 0.0147\n",
      "\n",
      "Average test MSE for alpha = 2.0805675382171716e-05 is: 0.0159\n",
      "Average train MSE for alpha = 2.0805675382171716e-05 is: 0.0147\n",
      "\n",
      "Average test MSE for alpha = 2.4201282647943835e-05 is: 0.0162\n",
      "Average train MSE for alpha = 2.4201282647943835e-05 is: 0.0147\n",
      "\n",
      "Average test MSE for alpha = 2.8151072774477327e-05 is: 0.0166\n",
      "Average train MSE for alpha = 2.8151072774477327e-05 is: 0.0147\n",
      "\n",
      "Average test MSE for alpha = 3.274549162877732e-05 is: 0.0164\n",
      "Average train MSE for alpha = 3.274549162877732e-05 is: 0.0148\n",
      "\n",
      "Average test MSE for alpha = 3.808974636954076e-05 is: 0.0166\n",
      "Average train MSE for alpha = 3.808974636954076e-05 is: 0.0148\n",
      "\n",
      "Average test MSE for alpha = 4.430621457583887e-05 is: 0.0162\n",
      "Average train MSE for alpha = 4.430621457583887e-05 is: 0.0149\n",
      "\n",
      "Average test MSE for alpha = 5.1537246559616424e-05 is: 0.0162\n",
      "Average train MSE for alpha = 5.1537246559616424e-05 is: 0.0149\n",
      "\n",
      "Average test MSE for alpha = 5.994842503189421e-05 is: 0.0162\n",
      "Average train MSE for alpha = 5.994842503189421e-05 is: 0.0150\n",
      "\n",
      "Average test MSE for alpha = 6.973235676545984e-05 is: 0.0166\n",
      "Average train MSE for alpha = 6.973235676545984e-05 is: 0.0149\n",
      "\n",
      "Average test MSE for alpha = 8.11130830789689e-05 is: 0.0165\n",
      "Average train MSE for alpha = 8.11130830789689e-05 is: 0.0150\n",
      "\n",
      "Average test MSE for alpha = 9.435121013771043e-05 is: 0.0165\n",
      "Average train MSE for alpha = 9.435121013771043e-05 is: 0.0150\n",
      "\n",
      "Average test MSE for alpha = 0.00010974987654930568 is: 0.0161\n",
      "Average train MSE for alpha = 0.00010974987654930568 is: 0.0151\n",
      "\n",
      "Average test MSE for alpha = 0.00012766169490574088 is: 0.0164\n",
      "Average train MSE for alpha = 0.00012766169490574088 is: 0.0151\n",
      "\n",
      "Average test MSE for alpha = 0.00014849682622544664 is: 0.0165\n",
      "Average train MSE for alpha = 0.00014849682622544664 is: 0.0152\n",
      "\n",
      "Average test MSE for alpha = 0.00017273237219129906 is: 0.0163\n",
      "Average train MSE for alpha = 0.00017273237219129906 is: 0.0153\n",
      "\n",
      "Average test MSE for alpha = 0.000200923300256505 is: 0.0163\n",
      "Average train MSE for alpha = 0.000200923300256505 is: 0.0154\n",
      "\n",
      "Average test MSE for alpha = 0.00023371515179132824 is: 0.0166\n",
      "Average train MSE for alpha = 0.00023371515179132824 is: 0.0155\n",
      "\n",
      "Average test MSE for alpha = 0.00027185882427329457 is: 0.0170\n",
      "Average train MSE for alpha = 0.00027185882427329457 is: 0.0156\n",
      "\n",
      "Average test MSE for alpha = 0.00031622776601683794 is: 0.0171\n",
      "Average train MSE for alpha = 0.00031622776601683794 is: 0.0159\n",
      "\n"
     ]
    }
   ],
   "source": [
    "n_splits = 5\n",
    "alpha_vector = np.logspace(-10, -3.5, 100)\n",
    "MSE_test_vector = []\n",
    "MSE_train_vector = []\n",
    "\n",
    "for alpha in alpha_vector:\n",
    "    kf = KFold(n_splits = n_splits, shuffle = True)\n",
    "\n",
    "    MSE_tests = []\n",
    "    MSE_trains = []\n",
    "\n",
    "    \n",
    "    for train_index, test_index in kf.split(X_train):\n",
    "        # print(\"TRAIN:\", train_index)\n",
    "        # print(\"TEST:\", test_index)\n",
    "        X_train_KF,X_test_KF = X_train.iloc[train_index,:],X_train.iloc[test_index,:]\n",
    "        y_train_KF, y_test_KF = y_train[train_index], y_train[test_index]\n",
    "        \n",
    "        clf = Lasso(alpha = alpha,normalize = True)\n",
    "        clf.fit(X_train_KF, y_train_KF)\n",
    "        \n",
    "        y_test_KF_predicted = clf.predict(X_test_KF)\n",
    "        y_train_KF_predicted = clf.predict(X_train_KF)\n",
    "        \n",
    "        MSE_test = mean_squared_error(y_test_KF_predicted, y_test_KF)        \n",
    "        MSE_train = mean_squared_error(y_train_KF_predicted, y_train_KF)\n",
    "        \n",
    "        MSE_tests.append(MSE_test)\n",
    "        MSE_trains.append(MSE_train)\n",
    "        \n",
    "        \n",
    "    MSE_test_outer = mean(MSE_tests)\n",
    "    MSE_train_outer = mean(MSE_trains)\n",
    "    \n",
    "    MSE_test_vector.append(MSE_test_outer)\n",
    "    MSE_train_vector.append(MSE_train_outer)\n",
    "    \n",
    "    print(\"Average test MSE for alpha =\",alpha,\"is:\",'{:,.4f}'.format(MSE_test_outer))\n",
    "    print(\"Average train MSE for alpha =\",alpha,\"is:\",'{:,.4f}'.format(MSE_train_outer))\n",
    "    print(\"\")"
   ]
  },
  {
   "cell_type": "code",
   "execution_count": 61,
   "metadata": {},
   "outputs": [
    {
     "data": {
      "text/plain": [
       "Text(0.5, 0, 'alpha')"
      ]
     },
     "execution_count": 61,
     "metadata": {},
     "output_type": "execute_result"
    },
    {
     "data": {
      "image/png": "[encoded data removed]",
      "text/plain": [
       "<Figure size 432x288 with 1 Axes>"
      ]
     },
     "metadata": {
      "needs_background": "light"
     },
     "output_type": "display_data"
    }
   ],
   "source": [
    "plt.plot(alpha_vector, MSE_test_vector)\n",
    "plt.title(\"Test MSE\")\n",
    "plt.xlabel(\"alpha\")"
   ]
  },
  {
   "cell_type": "code",
   "execution_count": 62,
   "metadata": {},
   "outputs": [
    {
     "data": {
      "text/plain": [
       "Text(0.5, 0, 'alpha')"
      ]
     },
     "execution_count": 62,
     "metadata": {},
     "output_type": "execute_result"
    },
    {
     "data": {
      "image/png": "[encoded data removed]",
      "text/plain": [
       "<Figure size 432x288 with 1 Axes>"
      ]
     },
     "metadata": {
      "needs_background": "light"
     },
     "output_type": "display_data"
    }
   ],
   "source": [
    "plt.plot(alpha_vector, MSE_train_vector)\n",
    "plt.title(\"Train MSE\")\n",
    "plt.xlabel(\"alpha\")"
   ]
  },
  {
   "cell_type": "code",
   "execution_count": 40,
   "metadata": {},
   "outputs": [],
   "source": [
    "# Use the best lambda and refit using the 80% train dataset"
   ]
  },
  {
   "cell_type": "code",
   "execution_count": 41,
   "metadata": {},
   "outputs": [],
   "source": [
    "# Use the coefficients to check MSE on the 20% test dataset"
   ]
  },
  {
   "cell_type": "code",
   "execution_count": 82,
   "metadata": {},
   "outputs": [
    {
     "name": "stdout",
     "output_type": "stream",
     "text": [
      "Coefficients are:  [ 1.33892916e-04  1.40291017e-04  2.14998461e-04 -2.05140755e-03\n",
      "  6.10039422e-06  3.56421179e-02  1.02894365e-04  6.48947020e-02\n",
      " -8.23352106e-02 -0.00000000e+00  1.93706100e-03 -6.22425827e-03\n",
      " -0.00000000e+00 -2.16107495e-03 -0.00000000e+00 -0.00000000e+00\n",
      "  0.00000000e+00  7.01032245e-02  0.00000000e+00  4.59490863e-03\n",
      " -0.00000000e+00  0.00000000e+00 -1.29120101e-03 -0.00000000e+00\n",
      "  0.00000000e+00  1.71092144e-02  5.54925061e-02  6.40782785e-02\n",
      " -0.00000000e+00 -2.25395697e-02  5.43274505e-03  7.86168768e-03\n",
      "  6.48952975e-03  1.68199347e-02  1.78889560e-02  1.86048153e-02\n",
      "  1.91223923e-02  2.84940832e-02]\n",
      "Intercept is:  10.562807852315483\n",
      "R^2 is: 0.8913374553743579\n",
      "RMSE is:  4.673430813990787\n"
     ]
    },
    {
     "data": {
      "image/png": "[encoded data removed]",
      "text/plain": [
       "<Figure size 432x288 with 1 Axes>"
      ]
     },
     "metadata": {
      "needs_background": "light"
     },
     "output_type": "display_data"
    }
   ],
   "source": [
    "alpha = 0.00015 #0.00015\n",
    "lasso = Lasso(alpha=alpha,normalize = True)\n",
    "lasso.fit(X,Y)\n",
    "print(\"Coefficients are: \", lasso.coef_)\n",
    "print(\"Intercept is: \",lasso.intercept_)\n",
    "print(\"R^2 is:\", lasso.score(X,Y))\n",
    "residual = lasso.predict(X)-Y\n",
    "RMSE= sqrt(sum(residual**2))\n",
    "plt.hist(residual)\n",
    "print(\"RMSE is: \",RMSE)\n",
    "\n",
    "# plt.plot(residual)"
   ]
  },
  {
   "cell_type": "code",
   "execution_count": 86,
   "metadata": {},
   "outputs": [
    {
     "data": {
      "text/plain": [
       "Text(0, 0.5, 'slope values')"
      ]
     },
     "execution_count": 86,
     "metadata": {},
     "output_type": "execute_result"
    },
    {
     "data": {
      "image/png": "[encoded data removed]",
      "text/plain": [
       "<Figure size 720x360 with 1 Axes>"
      ]
     },
     "metadata": {
      "needs_background": "light"
     },
     "output_type": "display_data"
    }
   ],
   "source": [
    "alphas = np.logspace(-10,-3,100)\n",
    "coefs_lasso = []\n",
    "scores = []\n",
    "RMSE = []\n",
    "lasso = Lasso()\n",
    "for alpha in alphas:\n",
    "    lasso.set_params(alpha=alpha,normalize=True)\n",
    "    lasso.fit(X,Y)\n",
    "#     predicted_Y = lasso.predict(X)\n",
    "#     RSME.append(sqrt(mean_squared_error(Y, predicted_Y))\n",
    "    coefs_lasso.append(lasso.coef_)\n",
    "    scores.append(lasso.score(X,Y))\n",
    "    \n",
    "coefs = pd.DataFrame(coefs_lasso, index = alphas, columns = X.columns )\n",
    "#print(coefs.iloc[80,:])\n",
    "\n",
    "plt.rcParams['figure.figsize'] = (10,5)\n",
    "for name in coefs.columns:\n",
    "    plt.plot(coefs.index, coefs[name], label=name)\n",
    "plt.legend(loc=4)   \n",
    "plt.xlabel(r'hyperparameter $\\lambda$')\n",
    "plt.ylabel(r'slope values')"
   ]
  },
  {
   "cell_type": "code",
   "execution_count": 88,
   "metadata": {},
   "outputs": [
    {
     "data": {
      "text/plain": [
       "Text(0, 0.5, 'slope values')"
      ]
     },
     "execution_count": 88,
     "metadata": {},
     "output_type": "execute_result"
    },
    {
     "data": {
      "image/png": "[encoded data removed]",
      "text/plain": [
       "<Figure size 720x360 with 1 Axes>"
      ]
     },
     "metadata": {
      "needs_background": "light"
     },
     "output_type": "display_data"
    }
   ],
   "source": [
    "alphas = np.logspace(-10,0,100)\n",
    "coefs_ridge = []\n",
    "scores = []\n",
    "RMSE = []\n",
    "ridge = Ridge()\n",
    "for alpha in alphas:\n",
    "    ridge.set_params(alpha=alpha,normalize=True)\n",
    "    ridge.fit(X,Y)\n",
    "#     predicted_Y = lasso.predict(X)\n",
    "#     RSME.append(sqrt(mean_squared_error(Y, predicted_Y))\n",
    "    coefs_ridge.append(ridge.coef_)\n",
    "    scores.append(ridge.score(X,Y))\n",
    "    \n",
    "coefs = pd.DataFrame(coefs_ridge, index = alphas, columns = X.columns )\n",
    "#print(coefs.iloc[80,:])\n",
    "\n",
    "plt.rcParams['figure.figsize'] = (10,5)\n",
    "for name in coefs.columns:\n",
    "    plt.plot(coefs.index, coefs[name], label=name)\n",
    "plt.legend(loc=4)   \n",
    "plt.xlabel(r'hyperparameter $\\lambda$')\n",
    "plt.ylabel(r'slope values')"
   ]
  }
 ],
 "metadata": {
  "kernelspec": {
   "display_name": "Python 3",
   "language": "python",
   "name": "python3"
  },
  "language_info": {
   "codemirror_mode": {
    "name": "ipython",
    "version": 3
   },
   "file_extension": ".py",
   "mimetype": "text/x-python",
   "name": "python",
   "nbconvert_exporter": "python",
   "pygments_lexer": "ipython3",
   "version": "3.7.4"
  }
 },
 "nbformat": 4,
 "nbformat_minor": 2
}
